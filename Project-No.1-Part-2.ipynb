{
 "cells": [
  {
   "cell_type": "code",
   "execution_count": 1,
   "id": "67046771",
   "metadata": {},
   "outputs": [],
   "source": [
    "import numpy as np"
   ]
  },
  {
   "cell_type": "code",
   "execution_count": 2,
   "id": "2e155e9d",
   "metadata": {},
   "outputs": [],
   "source": [
    "np.set_printoptions(suppress = True, linewidth = 100)"
   ]
  },
  {
   "cell_type": "code",
   "execution_count": 3,
   "id": "d2aad0f7",
   "metadata": {},
   "outputs": [
    {
     "data": {
      "text/plain": [
       "array([[ 7.  ,  0.27,  0.36, ...,  0.45,  8.8 ,  6.  ],\n",
       "       [ 6.3 ,  0.3 ,  0.34, ...,  0.49,  9.5 ,  6.  ],\n",
       "       [ 8.1 ,  0.28,  0.4 , ...,  0.44, 10.1 ,  6.  ],\n",
       "       ...,\n",
       "       [ 6.5 ,  0.24,  0.19, ...,  0.46,  9.4 ,  6.  ],\n",
       "       [ 5.5 ,  0.29,  0.3 , ...,  0.38, 12.8 ,  7.  ],\n",
       "       [ 6.  ,  0.21,  0.38, ...,  0.32, 11.8 ,  6.  ]])"
      ]
     },
     "execution_count": 3,
     "metadata": {},
     "output_type": "execute_result"
    }
   ],
   "source": [
    "raw_white_wine = np.genfromtxt(\"winequality-white.csv\", delimiter = ';', skip_header = 1)\n",
    "raw_white_wine"
   ]
  },
  {
   "cell_type": "code",
   "execution_count": 4,
   "id": "6c380034",
   "metadata": {},
   "outputs": [
    {
     "data": {
      "text/plain": [
       "(4898, 12)"
      ]
     },
     "execution_count": 4,
     "metadata": {},
     "output_type": "execute_result"
    }
   ],
   "source": [
    "raw_white_wine.shape"
   ]
  },
  {
   "cell_type": "code",
   "execution_count": null,
   "id": "ba8ca161",
   "metadata": {},
   "outputs": [],
   "source": [
    "# legends\n",
    "# fixed acidity (g(tartaric acid)/L), volatile acidity (g(acetic acid)/L), citric acid(g/L)\n",
    "# residual sugar (g/L), chlorides(g(sodium chloride)/L), \n",
    "# free sulfur dioxide (mg/L), total sulfur dioxide (mg/L)\n",
    "# density (g/ml), pH , sulphates(g(potassium sulphate)/L), alcohol ( % vol.)"
   ]
  },
  {
   "cell_type": "code",
   "execution_count": 5,
   "id": "ecd25f2d",
   "metadata": {},
   "outputs": [
    {
     "data": {
      "text/plain": [
       "array(['\"fixed acidity\"', '\"volatile acidity\"', '\"citric acid\"', '\"residual sugar\"', '\"chlorides\"',\n",
       "       '\"free sulfur dioxide\"', '\"total sulfur dioxide\"', '\"density\"', '\"pH\"', '\"sulphates\"',\n",
       "       '\"alcohol\"', '\"quality\"'], dtype='<U22')"
      ]
     },
     "execution_count": 5,
     "metadata": {},
     "output_type": "execute_result"
    }
   ],
   "source": [
    "header_white = np.genfromtxt(\"winequality-white.csv\", delimiter = ';', skip_footer = raw_white_wine.shape[0], autostrip = True, dtype = 'str')\n",
    "header_white"
   ]
  },
  {
   "cell_type": "code",
   "execution_count": 6,
   "id": "72ecc1c3",
   "metadata": {},
   "outputs": [
    {
     "data": {
      "text/plain": [
       "0"
      ]
     },
     "execution_count": 6,
     "metadata": {},
     "output_type": "execute_result"
    }
   ],
   "source": [
    "# screeening for missing values\n",
    "\n",
    "np.isnan(raw_white_wine).sum()"
   ]
  },
  {
   "cell_type": "code",
   "execution_count": 7,
   "id": "72f1fdea",
   "metadata": {},
   "outputs": [
    {
     "data": {
      "text/plain": [
       "'\"fixed acidity\"'"
      ]
     },
     "execution_count": 7,
     "metadata": {},
     "output_type": "execute_result"
    }
   ],
   "source": [
    "header_white[0]"
   ]
  },
  {
   "cell_type": "code",
   "execution_count": 8,
   "id": "9438f073",
   "metadata": {},
   "outputs": [
    {
     "data": {
      "text/plain": [
       "array([7. , 6.3, 8.1, ..., 6.5, 5.5, 6. ])"
      ]
     },
     "execution_count": 8,
     "metadata": {},
     "output_type": "execute_result"
    }
   ],
   "source": [
    "raw_white_wine[:,0]"
   ]
  },
  {
   "cell_type": "code",
   "execution_count": 9,
   "id": "42940e76",
   "metadata": {},
   "outputs": [
    {
     "data": {
      "text/plain": [
       "array([ 3.8, 14.2])"
      ]
     },
     "execution_count": 9,
     "metadata": {},
     "output_type": "execute_result"
    }
   ],
   "source": [
    "stats_whitewine = np.array([np.min(raw_white_wine[:,0]), np.max(raw_white_wine[:,0])])\n",
    "stats_whitewine"
   ]
  },
  {
   "cell_type": "code",
   "execution_count": 10,
   "id": "5521db6e",
   "metadata": {},
   "outputs": [
    {
     "data": {
      "text/plain": [
       "array([ 3.8 ,  3.9 ,  4.2 ,  4.4 ,  4.5 ,  4.6 ,  4.7 ,  4.8 ,  4.9 ,  5.  ,  5.1 ,  5.2 ,  5.3 ,\n",
       "        5.4 ,  5.5 ,  5.6 ,  5.7 ,  5.8 ,  5.9 ,  6.  ,  6.1 ,  6.15,  6.2 ,  6.3 ,  6.4 ,  6.45,\n",
       "        6.5 ,  6.6 ,  6.7 ,  6.8 ,  6.9 ,  7.  ,  7.1 ,  7.15,  7.2 ,  7.3 ,  7.4 ,  7.5 ,  7.6 ,\n",
       "        7.7 ,  7.8 ,  7.9 ,  8.  ,  8.1 ,  8.2 ,  8.3 ,  8.4 ,  8.5 ,  8.6 ,  8.7 ,  8.8 ,  8.9 ,\n",
       "        9.  ,  9.1 ,  9.2 ,  9.3 ,  9.4 ,  9.5 ,  9.6 ,  9.7 ,  9.8 ,  9.9 , 10.  , 10.2 , 10.3 ,\n",
       "       10.7 , 11.8 , 14.2 ])"
      ]
     },
     "execution_count": 10,
     "metadata": {},
     "output_type": "execute_result"
    }
   ],
   "source": [
    "np.unique(raw_white_wine[:,0])"
   ]
  },
  {
   "cell_type": "code",
   "execution_count": 11,
   "id": "5cc76284",
   "metadata": {},
   "outputs": [],
   "source": [
    "# grouping fixed acidity into 4 stages: \n",
    "# low value of parameter (3.8-6.2)-- denoted by 1\n",
    "# notr value of (6.3-7.9)-- denoted by 2\n",
    "# high value of (8.0-9.5)-- denoted by 3\n",
    "# very high value (9.6-14.2)-- denoted by 4\n",
    "\n",
    "low_value = np.array([3.8 ,  3.9 ,  4.2 ,  4.4 ,  4.5 ,  4.6 ,  4.7 ,  4.8 ,  4.9 ,  \n",
    "                      5.  ,  5.1 ,  5.2 ,  5.3 , 5.4 ,  5.5 ,  5.6 ,  5.7 ,  5.8 ,  5.9 ,  \n",
    "                      6.  ,  6.1 ,  6.15,  6.2])\n",
    "notr_value = np.array([6.3 ,  6.4 ,  6.45, 6.5 ,  6.6 ,  6.7 ,  6.8 ,  6.9 ,  \n",
    "                       7.  ,  7.1 ,  7.15,  7.2 ,  7.3 ,  7.4 ,  7.5 ,  7.6 , 7.7 ,  7.8 ,  7.9])\n",
    "high_value = np.array([8.  ,  8.1 ,  8.2 ,  8.3 ,  8.4 ,  8.5 ,  8.6 ,  8.7 ,  8.8 ,  8.9 , \n",
    "                       9.  ,  9.1 ,  9.2 ,  9.3 ,  9.4 ,  9.5])\n",
    "very_high = np.array([9.6 ,  9.7 ,  9.8 ,  9.9 , 10.  , 10.2 , 10.3 , 10.7 , 11.8 , 14.2])"
   ]
  },
  {
   "cell_type": "code",
   "execution_count": 12,
   "id": "c14a477f",
   "metadata": {},
   "outputs": [],
   "source": [
    "raw_white_wine[:,0] = np.where(np.isin(raw_white_wine[:,0], low_value), 1, raw_white_wine[:,0])\n",
    "raw_white_wine[:,0] = np.where(np.isin(raw_white_wine[:,0], notr_value), 2, raw_white_wine[:,0])\n",
    "raw_white_wine[:,0] = np.where(np.isin(raw_white_wine[:,0], high_value), 3, raw_white_wine[:,0])\n",
    "raw_white_wine[:,0] = np.where(np.isin(raw_white_wine[:,0], very_high), 4, raw_white_wine[:,0])"
   ]
  },
  {
   "cell_type": "code",
   "execution_count": 13,
   "id": "54235853",
   "metadata": {},
   "outputs": [
    {
     "data": {
      "text/plain": [
       "(array([1., 2., 3., 4.]), array([1107, 3317,  445,   29]))"
      ]
     },
     "execution_count": 13,
     "metadata": {},
     "output_type": "execute_result"
    }
   ],
   "source": [
    "# checking data after changes made\n",
    "\n",
    "np.unique(raw_white_wine[:,0], return_counts = True)"
   ]
  },
  {
   "cell_type": "code",
   "execution_count": 14,
   "id": "eec7db7c",
   "metadata": {},
   "outputs": [
    {
     "data": {
      "text/plain": [
       "4898"
      ]
     },
     "execution_count": 14,
     "metadata": {},
     "output_type": "execute_result"
    }
   ],
   "source": [
    "# checking data after changes made\n",
    "\n",
    "len(raw_white_wine[:,0])"
   ]
  },
  {
   "cell_type": "code",
   "execution_count": 15,
   "id": "a90f5a15",
   "metadata": {},
   "outputs": [
    {
     "data": {
      "text/plain": [
       "'\"volatile acidity\"'"
      ]
     },
     "execution_count": 15,
     "metadata": {},
     "output_type": "execute_result"
    }
   ],
   "source": [
    "header_white[1]"
   ]
  },
  {
   "cell_type": "code",
   "execution_count": 16,
   "id": "1c37d249",
   "metadata": {},
   "outputs": [
    {
     "data": {
      "text/plain": [
       "array([0.08 , 0.085, 0.09 , 0.1  , 0.105, 0.11 , 0.115, 0.12 , 0.125, 0.13 , 0.135, 0.14 , 0.145,\n",
       "       0.15 , 0.155, 0.16 , 0.165, 0.17 , 0.175, 0.18 , 0.185, 0.19 , 0.2  , 0.205, 0.21 , 0.215,\n",
       "       0.22 , 0.225, 0.23 , 0.235, 0.24 , 0.245, 0.25 , 0.255, 0.26 , 0.265, 0.27 , 0.275, 0.28 ,\n",
       "       0.285, 0.29 , 0.295, 0.3  , 0.305, 0.31 , 0.315, 0.32 , 0.325, 0.33 , 0.335, 0.34 , 0.345,\n",
       "       0.35 , 0.355, 0.36 , 0.365, 0.37 , 0.375, 0.38 , 0.385, 0.39 , 0.395, 0.4  , 0.405, 0.41 ,\n",
       "       0.415, 0.42 , 0.425, 0.43 , 0.435, 0.44 , 0.445, 0.45 , 0.455, 0.46 , 0.47 , 0.475, 0.48 ,\n",
       "       0.485, 0.49 , 0.495, 0.5  , 0.51 , 0.52 , 0.53 , 0.54 , 0.545, 0.55 , 0.555, 0.56 , 0.57 ,\n",
       "       0.58 , 0.585, 0.59 , 0.595, 0.6  , 0.61 , 0.615, 0.62 , 0.63 , 0.64 , 0.65 , 0.655, 0.66 ,\n",
       "       0.67 , 0.68 , 0.685, 0.69 , 0.695, 0.705, 0.71 , 0.73 , 0.74 , 0.75 , 0.76 , 0.78 , 0.785,\n",
       "       0.815, 0.85 , 0.905, 0.91 , 0.93 , 0.965, 1.005, 1.1  ])"
      ]
     },
     "execution_count": 16,
     "metadata": {},
     "output_type": "execute_result"
    }
   ],
   "source": [
    "np.unique(raw_white_wine[:,1])"
   ]
  },
  {
   "cell_type": "code",
   "execution_count": 17,
   "id": "8a88fd79",
   "metadata": {},
   "outputs": [],
   "source": [
    "# The average volatile acidity value for white table wines is about 0.43g/L (Vilela, 2018).\n",
    "# data for volatile acidity of white wine will be classified into 3: below average(0.080- 0.375)-- denoted by 0\n",
    "# average (0.380- 0.500)-- denoted by 1\n",
    "# above average (0.510- 1.100)-- denoted by 2\n",
    "\n",
    "below_average = np.array([0.08 , 0.085, 0.09 , 0.1  , 0.105, 0.11 , 0.115, 0.12 , 0.125, \n",
    "                          0.13 , 0.135, 0.14 , 0.145, 0.15 , 0.155, 0.16 , 0.165, 0.17 , 0.175, \n",
    "                          0.18 , 0.185, 0.19 , 0.2  , 0.205, 0.21 , 0.215, \n",
    "                          0.22 , 0.225, 0.23 , 0.235, 0.24 , 0.245, 0.25 , 0.255, 0.26 , 0.265, \n",
    "                          0.27 , 0.275, 0.28 , 0.285, 0.29 , 0.295, 0.3  , 0.305, \n",
    "                          0.31 , 0.315, 0.32 , 0.325, 0.33 , 0.335, 0.34 , 0.345, 0.35 , 0.355, \n",
    "                          0.36 , 0.365, 0.37 , 0.375])\n",
    "average = np.array([0.38 , 0.385, 0.39 , 0.395, 0.4  , 0.405, 0.41 , 0.415, 0.42 , 0.425, 0.43 , 0.435, \n",
    "                    0.44 , 0.445, 0.45 , 0.455, 0.46 , 0.47 , 0.475, 0.48 , 0.485, 0.49 , 0.495, 0.5])\n",
    "above_average = np.array([0.51 , 0.52 , 0.53 , 0.54 , 0.545, 0.55 , 0.555, 0.56 , 0.57 , 0.58 , 0.585, \n",
    "                          0.59 , 0.595, 0.6  , 0.61 , 0.615, 0.62 , 0.63 , 0.64 , 0.65 , 0.655, 0.66 , \n",
    "                          0.67 , 0.68 , 0.685, 0.69 , 0.695, 0.705, 0.71 , 0.73 , 0.74 , 0.75 , 0.76 , \n",
    "                          0.78 , 0.785, 0.815, 0.85 , 0.905, 0.91 , 0.93 , 0.965, 1.005, 1.1])"
   ]
  },
  {
   "cell_type": "code",
   "execution_count": 18,
   "id": "7b589b39",
   "metadata": {},
   "outputs": [],
   "source": [
    "raw_white_wine[:,1] = np.where(np.isin(raw_white_wine[:,1], above_average), 2, raw_white_wine[:,1])"
   ]
  },
  {
   "cell_type": "code",
   "execution_count": 19,
   "id": "fb52b826",
   "metadata": {},
   "outputs": [],
   "source": [
    "raw_white_wine[:,1] = np.where(np.isin(raw_white_wine[:,1], average), 1, raw_white_wine[:,1])"
   ]
  },
  {
   "cell_type": "code",
   "execution_count": 20,
   "id": "2bc46c1c",
   "metadata": {},
   "outputs": [],
   "source": [
    "raw_white_wine[:,1] = np.where(np.isin(raw_white_wine[:,1], below_average), 0, raw_white_wine[:,1])"
   ]
  },
  {
   "cell_type": "code",
   "execution_count": 21,
   "id": "300d1489",
   "metadata": {},
   "outputs": [
    {
     "data": {
      "text/plain": [
       "array([0., 1., 2.])"
      ]
     },
     "execution_count": 21,
     "metadata": {},
     "output_type": "execute_result"
    }
   ],
   "source": [
    "np.unique(raw_white_wine[:,1])"
   ]
  },
  {
   "cell_type": "code",
   "execution_count": 22,
   "id": "4e6cf821",
   "metadata": {},
   "outputs": [
    {
     "data": {
      "text/plain": [
       "4898"
      ]
     },
     "execution_count": 22,
     "metadata": {},
     "output_type": "execute_result"
    }
   ],
   "source": [
    "len(raw_white_wine[:,1])"
   ]
  },
  {
   "cell_type": "code",
   "execution_count": 23,
   "id": "ebcb43bd",
   "metadata": {},
   "outputs": [
    {
     "data": {
      "text/plain": [
       "'\"citric acid\"'"
      ]
     },
     "execution_count": 23,
     "metadata": {},
     "output_type": "execute_result"
    }
   ],
   "source": [
    "header_white[2]"
   ]
  },
  {
   "cell_type": "code",
   "execution_count": 24,
   "id": "4f807de2",
   "metadata": {},
   "outputs": [
    {
     "data": {
      "text/plain": [
       "array([0.  , 0.01, 0.02, 0.03, 0.04, 0.05, 0.06, 0.07, 0.08, 0.09, 0.1 , 0.11, 0.12, 0.13, 0.14,\n",
       "       0.15, 0.16, 0.17, 0.18, 0.19, 0.2 , 0.21, 0.22, 0.23, 0.24, 0.25, 0.26, 0.27, 0.28, 0.29,\n",
       "       0.3 , 0.31, 0.32, 0.33, 0.34, 0.35, 0.36, 0.37, 0.38, 0.39, 0.4 , 0.41, 0.42, 0.43, 0.44,\n",
       "       0.45, 0.46, 0.47, 0.48, 0.49, 0.5 , 0.51, 0.52, 0.53, 0.54, 0.55, 0.56, 0.57, 0.58, 0.59,\n",
       "       0.6 , 0.61, 0.62, 0.63, 0.64, 0.65, 0.66, 0.67, 0.68, 0.69, 0.7 , 0.71, 0.72, 0.73, 0.74,\n",
       "       0.78, 0.79, 0.8 , 0.81, 0.82, 0.86, 0.88, 0.91, 0.99, 1.  , 1.23, 1.66])"
      ]
     },
     "execution_count": 24,
     "metadata": {},
     "output_type": "execute_result"
    }
   ],
   "source": [
    "np.unique(raw_white_wine[:,2])"
   ]
  },
  {
   "cell_type": "code",
   "execution_count": 25,
   "id": "db013c19",
   "metadata": {},
   "outputs": [],
   "source": [
    "# It can be added to finished wines to increase acidity and give a “fresh\" flavor.\n",
    "# The disadvantage of adding citric acid is its microbial instability. \n",
    "# Citric acid is one of the less commonly found acid’s in wine. Thus we will employ binary grouping.\n",
    "# we will classify citric acid(cc) data column according to its existence: not added-- denoted by 0.\n",
    "# citric acid added-- denoted by 1.\n",
    "#!! for non exist- the range is applied since 0.04 can be just noise due to instrumental measurement.\n",
    "\n",
    "cc_not_added = np.array([0. , 0.01, 0.02, 0.03, 0.04])\n",
    "cc_added = np.array([0.05, 0.06, 0.07, 0.08, 0.09, 0.1 , 0.11, 0.12, 0.13, 0.14, 0.15, 0.16, 0.17, 0.18, 0.19, \n",
    "                     0.2 , 0.21, 0.22, 0.23, 0.24, 0.25, 0.26, 0.27, 0.28, 0.29, \n",
    "                     0.3 , 0.31, 0.32, 0.33, 0.34, 0.35, 0.36, 0.37, 0.38, 0.39, \n",
    "                     0.4 , 0.41, 0.42, 0.43, 0.44, 0.45, 0.46, 0.47, 0.48, 0.49, \n",
    "                     0.5 , 0.51, 0.52, 0.53, 0.54, 0.55, 0.56, 0.57, 0.58, 0.59, \n",
    "                     0.6 , 0.61, 0.62, 0.63, 0.64, 0.65, 0.66, 0.67, 0.68, 0.69, \n",
    "                     0.7 , 0.71, 0.72, 0.73, 0.74, 0.78, 0.79, 0.8 , 0.81, 0.82, 0.86, 0.88, \n",
    "                     0.91, 0.99, 1.  , 1.23, 1.66])"
   ]
  },
  {
   "cell_type": "code",
   "execution_count": 26,
   "id": "f1ee83a4",
   "metadata": {},
   "outputs": [],
   "source": [
    "raw_white_wine[:,2] = np.where(np.isin(raw_white_wine[:,2], cc_added), 1, raw_white_wine[:,2])"
   ]
  },
  {
   "cell_type": "code",
   "execution_count": 27,
   "id": "f5701700",
   "metadata": {},
   "outputs": [],
   "source": [
    "raw_white_wine[:,2] = np.where(np.isin(raw_white_wine[:,2], cc_not_added), 0, raw_white_wine[:,2])"
   ]
  },
  {
   "cell_type": "code",
   "execution_count": 28,
   "id": "03547bb0",
   "metadata": {},
   "outputs": [
    {
     "data": {
      "text/plain": [
       "array([0., 1.])"
      ]
     },
     "execution_count": 28,
     "metadata": {},
     "output_type": "execute_result"
    }
   ],
   "source": [
    "np.unique(raw_white_wine[:,2])"
   ]
  },
  {
   "cell_type": "code",
   "execution_count": 29,
   "id": "5a04fdfb",
   "metadata": {},
   "outputs": [
    {
     "data": {
      "text/plain": [
       "4898"
      ]
     },
     "execution_count": 29,
     "metadata": {},
     "output_type": "execute_result"
    }
   ],
   "source": [
    "len(raw_white_wine[:,2])"
   ]
  },
  {
   "cell_type": "code",
   "execution_count": 30,
   "id": "f7568fde",
   "metadata": {},
   "outputs": [],
   "source": [
    "def checkpoint(file_name, checkpoint_header, checkpoint_data):\n",
    "    np.savez(file_name, header = checkpoint_header, data = checkpoint_data)\n",
    "    checkpoint_variable = np.load(file_name + \".npz\")\n",
    "    return(checkpoint_variable)"
   ]
  },
  {
   "cell_type": "code",
   "execution_count": 31,
   "id": "171fd3b0",
   "metadata": {},
   "outputs": [],
   "source": [
    "WhiteWine_checkpoint_I = checkpoint(\"WhiteWine-checkpoint-I\", header_white, raw_white_wine)"
   ]
  },
  {
   "cell_type": "code",
   "execution_count": 32,
   "id": "7ce8ed20",
   "metadata": {},
   "outputs": [
    {
     "data": {
      "text/plain": [
       "(array(['\"fixed acidity\"', '\"volatile acidity\"', '\"citric acid\"', '\"residual sugar\"', '\"chlorides\"',\n",
       "        '\"free sulfur dioxide\"', '\"total sulfur dioxide\"', '\"density\"', '\"pH\"', '\"sulphates\"',\n",
       "        '\"alcohol\"', '\"quality\"'], dtype='<U22'),\n",
       " array([[ 2.  ,  0.  ,  1.  , ...,  0.45,  8.8 ,  6.  ],\n",
       "        [ 2.  ,  0.  ,  1.  , ...,  0.49,  9.5 ,  6.  ],\n",
       "        [ 3.  ,  0.  ,  1.  , ...,  0.44, 10.1 ,  6.  ],\n",
       "        ...,\n",
       "        [ 2.  ,  0.  ,  1.  , ...,  0.46,  9.4 ,  6.  ],\n",
       "        [ 1.  ,  0.  ,  1.  , ...,  0.38, 12.8 ,  7.  ],\n",
       "        [ 1.  ,  0.  ,  1.  , ...,  0.32, 11.8 ,  6.  ]]))"
      ]
     },
     "execution_count": 32,
     "metadata": {},
     "output_type": "execute_result"
    }
   ],
   "source": [
    "WhiteWine_checkpoint_I['header'], WhiteWine_checkpoint_I['data']"
   ]
  },
  {
   "cell_type": "code",
   "execution_count": 33,
   "id": "156d6f3c",
   "metadata": {},
   "outputs": [
    {
     "data": {
      "text/plain": [
       "'\"residual sugar\"'"
      ]
     },
     "execution_count": 33,
     "metadata": {},
     "output_type": "execute_result"
    }
   ],
   "source": [
    "header_white[3]"
   ]
  },
  {
   "cell_type": "code",
   "execution_count": 34,
   "id": "c0c209b6",
   "metadata": {},
   "outputs": [],
   "source": [
    "# Residual sugar levels vary in different styles of wine. \n",
    "# ‘Dry’ wines: 0-4 g/L-- denoted by 0 \n",
    "# ‘Sweet’ wines: 35 g/L and then go up from there -- denoted by 1\n",
    "\n",
    "dry_wine = np.arange(0.00, 35.00, 0.01)"
   ]
  },
  {
   "cell_type": "code",
   "execution_count": 35,
   "id": "2fd9271a",
   "metadata": {},
   "outputs": [
    {
     "data": {
      "text/plain": [
       "array([ 0.  ,  0.01,  0.02, ..., 34.97, 34.98, 34.99])"
      ]
     },
     "execution_count": 35,
     "metadata": {},
     "output_type": "execute_result"
    }
   ],
   "source": [
    "dry_wine"
   ]
  },
  {
   "cell_type": "code",
   "execution_count": 36,
   "id": "628d155f",
   "metadata": {
    "scrolled": true
   },
   "outputs": [
    {
     "data": {
      "text/plain": [
       "array([ 0.6 ,  0.7 ,  0.8 ,  0.9 ,  0.95,  1.  ,  1.05,  1.1 ,  1.15,  1.2 ,  1.25,  1.3 ,  1.35,\n",
       "        1.4 ,  1.45,  1.5 ,  1.55,  1.6 ,  1.65,  1.7 ,  1.75,  1.8 ,  1.85,  1.9 ,  1.95,  2.  ,\n",
       "        2.05,  2.1 ,  2.2 ,  2.25,  2.3 ,  2.35,  2.4 ,  2.5 ,  2.6 ,  2.65,  2.7 ,  2.8 ,  2.85,\n",
       "        2.9 ,  3.  ,  3.1 ,  3.15,  3.2 ,  3.3 ,  3.4 ,  3.5 ,  3.6 ,  3.7 ,  3.75,  3.8 ,  3.85,\n",
       "        3.9 ,  3.95,  4.  ,  4.1 ,  4.2 ,  4.25,  4.3 ,  4.35,  4.4 ,  4.45,  4.5 ,  4.55,  4.6 ,\n",
       "        4.7 ,  4.75,  4.8 ,  4.85,  4.9 ,  5.  ,  5.1 ,  5.15,  5.2 ,  5.25,  5.3 ,  5.35,  5.4 ,\n",
       "        5.45,  5.5 ,  5.55,  5.6 ,  5.7 ,  5.8 ,  5.85,  5.9 ,  5.95,  6.  ,  6.1 ,  6.2 ,  6.3 ,\n",
       "        6.35,  6.4 ,  6.5 ,  6.55,  6.6 ,  6.65,  6.7 ,  6.75,  6.8 ,  6.85,  6.9 ,  6.95,  7.  ,\n",
       "        7.05,  7.1 ,  7.2 ,  7.25,  7.3 ,  7.35,  7.4 ,  7.45,  7.5 ,  7.6 ,  7.7 ,  7.75,  7.8 ,\n",
       "        7.85,  7.9 ,  7.95,  8.  ,  8.1 ,  8.15,  8.2 ,  8.25,  8.3 ,  8.4 ,  8.45,  8.5 ,  8.55,\n",
       "        8.6 ,  8.65,  8.7 ,  8.75,  8.8 ,  8.9 ,  8.95,  9.  ,  9.05,  9.1 ,  9.15,  9.2 ,  9.25,\n",
       "        9.3 ,  9.4 ,  9.5 ,  9.55,  9.6 ,  9.65,  9.7 ,  9.8 ,  9.85,  9.9 , 10.  , 10.05, 10.1 ,\n",
       "       10.2 , 10.3 , 10.4 , 10.5 , 10.55, 10.6 , 10.65, 10.7 , 10.8 , 10.9 , 11.  , 11.1 , 11.2 ,\n",
       "       11.25, 11.3 , 11.4 , 11.45, 11.5 , 11.6 , 11.7 , 11.75, 11.8 , 11.9 , 11.95, 12.  , 12.05,\n",
       "       12.1 , 12.15, 12.2 , 12.3 , 12.4 , 12.5 , 12.55, 12.6 , 12.7 , 12.75, 12.8 , 12.85, 12.9 ,\n",
       "       13.  , 13.1 , 13.15, 13.2 , 13.3 , 13.4 , 13.5 , 13.55, 13.6 , 13.65, 13.7 , 13.8 , 13.9 ,\n",
       "       14.  , 14.05, 14.1 , 14.15, 14.2 , 14.3 , 14.35, 14.4 , 14.45, 14.5 , 14.55, 14.6 , 14.7 ,\n",
       "       14.75, 14.8 , 14.9 , 14.95, 15.  , 15.1 , 15.15, 15.2 , 15.25, 15.3 , 15.4 , 15.5 , 15.55,\n",
       "       15.6 , 15.7 , 15.75, 15.8 , 15.9 , 16.  , 16.05, 16.1 , 16.2 , 16.3 , 16.4 , 16.45, 16.5 ,\n",
       "       16.55, 16.6 , 16.65, 16.7 , 16.75, 16.8 , 16.85, 16.9 , 16.95, 17.  , 17.05, 17.1 , 17.2 ,\n",
       "       17.3 , 17.35, 17.4 , 17.45, 17.5 , 17.55, 17.6 , 17.7 , 17.75, 17.8 , 17.85, 17.9 , 17.95,\n",
       "       18.  , 18.05, 18.1 , 18.15, 18.2 , 18.3 , 18.35, 18.4 , 18.5 , 18.6 , 18.75, 18.8 , 18.9 ,\n",
       "       18.95, 19.1 , 19.25, 19.3 , 19.35, 19.4 , 19.45, 19.5 , 19.6 , 19.8 , 19.9 , 19.95, 20.15,\n",
       "       20.2 , 20.3 , 20.4 , 20.7 , 20.8 , 22.  , 22.6 , 23.5 , 26.05, 31.6 , 65.8 ])"
      ]
     },
     "execution_count": 36,
     "metadata": {},
     "output_type": "execute_result"
    }
   ],
   "source": [
    "np.unique(raw_white_wine[:,3])"
   ]
  },
  {
   "cell_type": "code",
   "execution_count": 37,
   "id": "ef7ad2c9",
   "metadata": {},
   "outputs": [],
   "source": [
    "raw_white_wine[:,3] = np.where(np.isin(raw_white_wine[:,3], dry_wine), 0, 1)"
   ]
  },
  {
   "cell_type": "code",
   "execution_count": 38,
   "id": "75193d89",
   "metadata": {},
   "outputs": [
    {
     "data": {
      "text/plain": [
       "array([0., 1.])"
      ]
     },
     "execution_count": 38,
     "metadata": {},
     "output_type": "execute_result"
    }
   ],
   "source": [
    "np.unique(raw_white_wine[:,3])"
   ]
  },
  {
   "cell_type": "code",
   "execution_count": 39,
   "id": "d15344c5",
   "metadata": {},
   "outputs": [
    {
     "data": {
      "text/plain": [
       "4898"
      ]
     },
     "execution_count": 39,
     "metadata": {},
     "output_type": "execute_result"
    }
   ],
   "source": [
    "len(raw_white_wine[:,3])"
   ]
  },
  {
   "cell_type": "code",
   "execution_count": 40,
   "id": "3aaa3033",
   "metadata": {},
   "outputs": [
    {
     "data": {
      "text/plain": [
       "(array(['\"fixed acidity\"', '\"volatile acidity\"', '\"citric acid\"', '\"residual sugar\"', '\"chlorides\"',\n",
       "        '\"free sulfur dioxide\"', '\"total sulfur dioxide\"', '\"density\"', '\"pH\"', '\"sulphates\"',\n",
       "        '\"alcohol\"', '\"quality\"'], dtype='<U22'),\n",
       " '\"chlorides\"')"
      ]
     },
     "execution_count": 40,
     "metadata": {},
     "output_type": "execute_result"
    }
   ],
   "source": [
    "header_white, header_white[4]"
   ]
  },
  {
   "cell_type": "code",
   "execution_count": 41,
   "id": "cf07d863",
   "metadata": {},
   "outputs": [
    {
     "data": {
      "text/plain": [
       "array([0.009, 0.012, 0.013, 0.014, 0.015, 0.016, 0.017, 0.018, 0.019, 0.02 , 0.021, 0.022, 0.023,\n",
       "       0.024, 0.025, 0.026, 0.027, 0.028, 0.029, 0.03 , 0.031, 0.032, 0.033, 0.034, 0.035, 0.036,\n",
       "       0.037, 0.038, 0.039, 0.04 , 0.041, 0.042, 0.043, 0.044, 0.045, 0.046, 0.047, 0.048, 0.049,\n",
       "       0.05 , 0.051, 0.052, 0.053, 0.054, 0.055, 0.056, 0.057, 0.058, 0.059, 0.06 , 0.061, 0.062,\n",
       "       0.063, 0.064, 0.065, 0.066, 0.067, 0.068, 0.069, 0.07 , 0.071, 0.072, 0.073, 0.074, 0.075,\n",
       "       0.076, 0.077, 0.078, 0.079, 0.08 , 0.081, 0.082, 0.083, 0.084, 0.085, 0.086, 0.087, 0.088,\n",
       "       0.089, 0.09 , 0.091, 0.092, 0.093, 0.094, 0.095, 0.096, 0.097, 0.098, 0.099, 0.102, 0.104,\n",
       "       0.105, 0.108, 0.11 , 0.112, 0.114, 0.115, 0.117, 0.118, 0.119, 0.12 , 0.121, 0.122, 0.123,\n",
       "       0.126, 0.127, 0.13 , 0.132, 0.133, 0.135, 0.136, 0.137, 0.138, 0.142, 0.144, 0.145, 0.146,\n",
       "       0.147, 0.148, 0.149, 0.15 , 0.152, 0.154, 0.156, 0.157, 0.158, 0.16 , 0.167, 0.168, 0.169,\n",
       "       0.17 , 0.171, 0.172, 0.173, 0.174, 0.175, 0.176, 0.179, 0.18 , 0.184, 0.185, 0.186, 0.194,\n",
       "       0.197, 0.2  , 0.201, 0.204, 0.208, 0.209, 0.211, 0.212, 0.217, 0.239, 0.24 , 0.244, 0.255,\n",
       "       0.271, 0.29 , 0.301, 0.346])"
      ]
     },
     "execution_count": 41,
     "metadata": {},
     "output_type": "execute_result"
    }
   ],
   "source": [
    "np.unique(raw_white_wine[:,4])"
   ]
  },
  {
   "cell_type": "code",
   "execution_count": 42,
   "id": "b9dafdc8",
   "metadata": {},
   "outputs": [],
   "source": [
    "# Chlorides (sodium chloride) give the wine a salty flavor which may turn away potential consumers. \n",
    "# The max. conc. of chlorides in wine is about 0.20 - 0.60 g/L (Vallone et al.,2021).\n",
    "# Not salty (below_max. conc.range) -- denoted by 0.\n",
    "# Salty (within max. conc.range) -- denoted by 1.\n",
    "\n",
    "not_salty = np.arange(0.000, 0.199, 0.001)"
   ]
  },
  {
   "cell_type": "code",
   "execution_count": 43,
   "id": "9c33d70a",
   "metadata": {},
   "outputs": [
    {
     "data": {
      "text/plain": [
       "array([0.   , 0.001, 0.002, 0.003, 0.004, 0.005, 0.006, 0.007, 0.008, 0.009, 0.01 , 0.011, 0.012,\n",
       "       0.013, 0.014, 0.015, 0.016, 0.017, 0.018, 0.019, 0.02 , 0.021, 0.022, 0.023, 0.024, 0.025,\n",
       "       0.026, 0.027, 0.028, 0.029, 0.03 , 0.031, 0.032, 0.033, 0.034, 0.035, 0.036, 0.037, 0.038,\n",
       "       0.039, 0.04 , 0.041, 0.042, 0.043, 0.044, 0.045, 0.046, 0.047, 0.048, 0.049, 0.05 , 0.051,\n",
       "       0.052, 0.053, 0.054, 0.055, 0.056, 0.057, 0.058, 0.059, 0.06 , 0.061, 0.062, 0.063, 0.064,\n",
       "       0.065, 0.066, 0.067, 0.068, 0.069, 0.07 , 0.071, 0.072, 0.073, 0.074, 0.075, 0.076, 0.077,\n",
       "       0.078, 0.079, 0.08 , 0.081, 0.082, 0.083, 0.084, 0.085, 0.086, 0.087, 0.088, 0.089, 0.09 ,\n",
       "       0.091, 0.092, 0.093, 0.094, 0.095, 0.096, 0.097, 0.098, 0.099, 0.1  , 0.101, 0.102, 0.103,\n",
       "       0.104, 0.105, 0.106, 0.107, 0.108, 0.109, 0.11 , 0.111, 0.112, 0.113, 0.114, 0.115, 0.116,\n",
       "       0.117, 0.118, 0.119, 0.12 , 0.121, 0.122, 0.123, 0.124, 0.125, 0.126, 0.127, 0.128, 0.129,\n",
       "       0.13 , 0.131, 0.132, 0.133, 0.134, 0.135, 0.136, 0.137, 0.138, 0.139, 0.14 , 0.141, 0.142,\n",
       "       0.143, 0.144, 0.145, 0.146, 0.147, 0.148, 0.149, 0.15 , 0.151, 0.152, 0.153, 0.154, 0.155,\n",
       "       0.156, 0.157, 0.158, 0.159, 0.16 , 0.161, 0.162, 0.163, 0.164, 0.165, 0.166, 0.167, 0.168,\n",
       "       0.169, 0.17 , 0.171, 0.172, 0.173, 0.174, 0.175, 0.176, 0.177, 0.178, 0.179, 0.18 , 0.181,\n",
       "       0.182, 0.183, 0.184, 0.185, 0.186, 0.187, 0.188, 0.189, 0.19 , 0.191, 0.192, 0.193, 0.194,\n",
       "       0.195, 0.196, 0.197, 0.198])"
      ]
     },
     "execution_count": 43,
     "metadata": {},
     "output_type": "execute_result"
    }
   ],
   "source": [
    "not_salty"
   ]
  },
  {
   "cell_type": "code",
   "execution_count": 44,
   "id": "b24b934f",
   "metadata": {},
   "outputs": [],
   "source": [
    "raw_white_wine[:,4] = np.where(np.isin(raw_white_wine[:,4], not_salty), 0, 1)"
   ]
  },
  {
   "cell_type": "code",
   "execution_count": 45,
   "id": "fde2e18b",
   "metadata": {},
   "outputs": [
    {
     "data": {
      "text/plain": [
       "(array([0., 1.]), array([4186,  712]))"
      ]
     },
     "execution_count": 45,
     "metadata": {},
     "output_type": "execute_result"
    }
   ],
   "source": [
    "np.unique(raw_white_wine[:,4], return_counts = True)"
   ]
  },
  {
   "cell_type": "code",
   "execution_count": 46,
   "id": "8d7dc183",
   "metadata": {},
   "outputs": [
    {
     "data": {
      "text/plain": [
       "(array(['\"fixed acidity\"', '\"volatile acidity\"', '\"citric acid\"', '\"residual sugar\"', '\"chlorides\"',\n",
       "        '\"free sulfur dioxide\"', '\"total sulfur dioxide\"', '\"density\"', '\"pH\"', '\"sulphates\"',\n",
       "        '\"alcohol\"', '\"quality\"'], dtype='<U22'),\n",
       " '\"free sulfur dioxide\"')"
      ]
     },
     "execution_count": 46,
     "metadata": {},
     "output_type": "execute_result"
    }
   ],
   "source": [
    "header_white, header_white[5]"
   ]
  },
  {
   "cell_type": "code",
   "execution_count": 47,
   "id": "be66e083",
   "metadata": {},
   "outputs": [
    {
     "data": {
      "text/plain": [
       "array([  2. ,   3. ,   4. ,   5. ,   6. ,   7. ,   8. ,   9. ,  10. ,  11. ,  11.5,  12. ,  13. ,\n",
       "        14. ,  15. ,  15.5,  16. ,  17. ,  18. ,  19. ,  19.5,  20. ,  21. ,  22. ,  23. ,  23.5,\n",
       "        24. ,  25. ,  26. ,  27. ,  28. ,  28.5,  29. ,  30. ,  30.5,  31. ,  32. ,  33. ,  34. ,\n",
       "        35. ,  35.5,  36. ,  37. ,  38. ,  38.5,  39. ,  39.5,  40. ,  40.5,  41. ,  41.5,  42. ,\n",
       "        42.5,  43. ,  43.5,  44. ,  44.5,  45. ,  46. ,  47. ,  48. ,  48.5,  49. ,  50. ,  50.5,\n",
       "        51. ,  51.5,  52. ,  52.5,  53. ,  54. ,  55. ,  56. ,  57. ,  58. ,  59. ,  59.5,  60. ,\n",
       "        60.5,  61. ,  61.5,  62. ,  63. ,  64. ,  64.5,  65. ,  66. ,  67. ,  68. ,  69. ,  70. ,\n",
       "        70.5,  71. ,  72. ,  73. ,  73.5,  74. ,  75. ,  76. ,  77. ,  77.5,  78. ,  79. ,  79.5,\n",
       "        80. ,  81. ,  82. ,  82.5,  83. ,  85. ,  86. ,  87. ,  88. ,  89. ,  93. ,  95. ,  96. ,\n",
       "        97. ,  98. , 101. , 105. , 108. , 110. , 112. , 118.5, 122.5, 124. , 128. , 131. , 138.5,\n",
       "       146.5, 289. ])"
      ]
     },
     "execution_count": 47,
     "metadata": {},
     "output_type": "execute_result"
    }
   ],
   "source": [
    "np.unique(raw_white_wine[:,5])"
   ]
  },
  {
   "cell_type": "code",
   "execution_count": 48,
   "id": "181a3469",
   "metadata": {},
   "outputs": [],
   "source": [
    "# SO2 and its sulfite salts are essential for anti-oxidation and preservation properties. \n",
    "# SO2 Total = SO2 free + SO2 reacted.\n",
    "# During maturation and storage, free SO2 conc. values of 30 mg/L on white wine are recommended.\n",
    "# not recommended conc. is denoted by 0.\n",
    "# recommended conc. range (30-3, 30+3) is denoted by 1.\n",
    "\n",
    "recommended_range = np.array([27. ,  28. ,  28.5,  29. ,  30. ,  30.5,  31. ,  32. ,  33.])"
   ]
  },
  {
   "cell_type": "code",
   "execution_count": 49,
   "id": "44afb3f6",
   "metadata": {},
   "outputs": [],
   "source": [
    "raw_white_wine[:,5] = np.where(np.isin(raw_white_wine[:,5], recommended_range), 1, 0)"
   ]
  },
  {
   "cell_type": "code",
   "execution_count": 50,
   "id": "f5a583d6",
   "metadata": {},
   "outputs": [
    {
     "data": {
      "text/plain": [
       "array([0., 1.])"
      ]
     },
     "execution_count": 50,
     "metadata": {},
     "output_type": "execute_result"
    }
   ],
   "source": [
    "np.unique(raw_white_wine[:,5])"
   ]
  },
  {
   "cell_type": "code",
   "execution_count": 51,
   "id": "c68ca0df",
   "metadata": {},
   "outputs": [
    {
     "data": {
      "text/plain": [
       "4898"
      ]
     },
     "execution_count": 51,
     "metadata": {},
     "output_type": "execute_result"
    }
   ],
   "source": [
    "len(raw_white_wine[:,5])"
   ]
  },
  {
   "cell_type": "code",
   "execution_count": 52,
   "id": "94f430a5",
   "metadata": {},
   "outputs": [
    {
     "data": {
      "text/plain": [
       "(array(['\"fixed acidity\"', '\"volatile acidity\"', '\"citric acid\"', '\"residual sugar\"', '\"chlorides\"',\n",
       "        '\"free sulfur dioxide\"', '\"total sulfur dioxide\"', '\"density\"', '\"pH\"', '\"sulphates\"',\n",
       "        '\"alcohol\"', '\"quality\"'], dtype='<U22'),\n",
       " '\"total sulfur dioxide\"')"
      ]
     },
     "execution_count": 52,
     "metadata": {},
     "output_type": "execute_result"
    }
   ],
   "source": [
    "header_white, header_white[6]"
   ]
  },
  {
   "cell_type": "code",
   "execution_count": 53,
   "id": "b43df05c",
   "metadata": {},
   "outputs": [
    {
     "data": {
      "text/plain": [
       "(array([  9. ,  10. ,  18. ,  19. ,  21. ,  24. ,  25. ,  26. ,  28. ,  29. ,  30. ,  31. ,  33. ,\n",
       "         34. ,  37. ,  40. ,  41. ,  44. ,  45. ,  46. ,  47. ,  48. ,  49. ,  50. ,  51. ,  53. ,\n",
       "         54. ,  55. ,  56. ,  57. ,  58. ,  59. ,  60. ,  61. ,  62. ,  63. ,  64. ,  65. ,  66. ,\n",
       "         67. ,  68. ,  69. ,  70. ,  71. ,  72. ,  73. ,  74. ,  75. ,  76. ,  77. ,  78. ,  79. ,\n",
       "         80. ,  81. ,  82. ,  83. ,  84. ,  85. ,  86. ,  87. ,  88. ,  89. ,  90. ,  91. ,  92. ,\n",
       "         93. ,  94. ,  95. ,  96. ,  97. ,  98. ,  99. , 100. , 101. , 102. , 103. , 104. , 105. ,\n",
       "        106. , 107. , 108. , 109. , 110. , 111. , 112. , 113. , 114. , 115. , 115.5, 116. , 117. ,\n",
       "        118. , 119. , 120. , 121. , 122. , 123. , 124. , 125. , 126. , 127. , 128. , 129. , 129.5,\n",
       "        130. , 131. , 132. , 133. , 134. , 135. , 136. , 137. , 138. , 139. , 140. , 141. , 142. ,\n",
       "        143. , 144. , 145. , 146. , 147. , 148. , 149. , 150. , 151. , 152. , 153. , 154. , 155. ,\n",
       "        156. , 157. , 158. , 159. , 160. , 161. , 162. , 162.5, 163. , 164. , 164.5, 165. , 166. ,\n",
       "        167. , 168. , 169. , 170. , 171. , 172. , 173. , 174. , 175. , 176. , 176.5, 177. , 178. ,\n",
       "        179. , 180. , 181. , 182. , 183. , 184. , 185. , 186. , 187. , 188. , 189. , 189.5, 190. ,\n",
       "        191. , 192. , 193. , 194. , 195. , 196. , 197. , 198. , 199. , 200. , 201. , 202. , 203. ,\n",
       "        204. , 205. , 206. , 207. , 208. , 209. , 210. , 211. , 212. , 212.5, 213. , 214. , 215. ,\n",
       "        216. , 216.5, 217. , 217.5, 218. , 218.5, 219. , 219.5, 220. , 221. , 222. , 223. , 224. ,\n",
       "        225. , 226. , 227. , 228. , 229. , 230. , 231. , 232. , 233. , 234. , 234.5, 235. , 236. ,\n",
       "        237. , 238. , 238.5, 240. , 241. , 242. , 243. , 244. , 245. , 246. , 247. , 248. , 249. ,\n",
       "        249.5, 251. , 252. , 253. , 255. , 256. , 259. , 260. , 272. , 282. , 294. , 303. , 307.5,\n",
       "        313. , 344. , 366.5, 440. ]),\n",
       " array([ 1,  1,  2,  1,  1,  3,  1,  1,  4,  2,  2,  1,  1,  2,  3,  3,  4,  1,  2,  2,  3,  1,  4,\n",
       "         3,  3,  2,  2,  7,  5,  7,  2,  5,  6,  9,  2, 10,  6,  8,  7, 12, 14, 10,  8, 12, 17, 20,\n",
       "        12, 14, 26, 14, 17, 15, 23, 21, 17, 17, 27, 20, 25, 39, 15, 23, 30, 22, 30, 42, 28, 34, 28,\n",
       "        41, 49, 34, 37, 47, 37, 34, 44, 41, 32, 45, 32, 37, 47, 69, 31, 61, 54, 45,  1, 47, 57, 55,\n",
       "        47, 42, 37, 54, 33, 53, 49, 50, 38, 54, 32,  2, 46, 47, 47, 50, 47, 41, 38, 27, 45, 28, 52,\n",
       "        29, 46, 44, 35, 30, 31, 31, 44, 48, 54, 39, 43, 32, 27, 39, 47, 31, 38, 34, 32, 37, 34,  2,\n",
       "        36, 27,  1, 19, 39, 32, 43, 29, 32, 27, 28, 32, 28, 16, 24,  1, 27, 41, 26, 34, 21, 30, 35,\n",
       "        30, 18, 25, 19, 23, 30,  3, 17, 28, 18, 15, 21, 17, 16, 28, 18, 10, 18, 16, 13,  7, 13, 12,\n",
       "        14, 10, 10, 11, 23,  8, 15,  6, 14, 10, 10,  8,  1,  4,  1,  4,  3,  6,  1,  7, 13,  7,  9,\n",
       "         9,  4,  3,  8,  8,  9,  6,  5,  1,  2,  7,  1,  2,  3,  3,  5,  1,  7,  2,  2,  6,  2,  5,\n",
       "         1,  3,  3,  2,  1,  4,  2,  3,  1,  2,  1,  1,  2,  1,  1,  1,  1,  1,  1,  1,  1]))"
      ]
     },
     "execution_count": 53,
     "metadata": {},
     "output_type": "execute_result"
    }
   ],
   "source": [
    "np.unique(raw_white_wine[:,6], return_counts = True)"
   ]
  },
  {
   "cell_type": "code",
   "execution_count": 54,
   "id": "1360910a",
   "metadata": {},
   "outputs": [],
   "source": [
    "# EU allows white wine to have maximum total sulfur dioxide between 200-350 mg/L.\n",
    "# not recommended range(350 and above)-- is denoted by 0.\n",
    "# values not exceeding the range-- is denoted by 1. \n",
    "\n",
    "out_of_limit = np.array([366.5, 440.])"
   ]
  },
  {
   "cell_type": "code",
   "execution_count": 55,
   "id": "d82fcde1",
   "metadata": {},
   "outputs": [],
   "source": [
    "raw_white_wine[:,6] = np.where(np.isin(raw_white_wine[:,6], out_of_limit), 0, 1)"
   ]
  },
  {
   "cell_type": "code",
   "execution_count": 56,
   "id": "1f3f4213",
   "metadata": {},
   "outputs": [
    {
     "data": {
      "text/plain": [
       "(array([0., 1.]), array([   2, 4896]))"
      ]
     },
     "execution_count": 56,
     "metadata": {},
     "output_type": "execute_result"
    }
   ],
   "source": [
    "np.unique(raw_white_wine[:,6], return_counts = True)"
   ]
  },
  {
   "cell_type": "code",
   "execution_count": 57,
   "id": "bd905cab",
   "metadata": {},
   "outputs": [
    {
     "data": {
      "text/plain": [
       "(array(['\"fixed acidity\"', '\"volatile acidity\"', '\"citric acid\"', '\"residual sugar\"', '\"chlorides\"',\n",
       "        '\"free sulfur dioxide\"', '\"total sulfur dioxide\"', '\"density\"', '\"pH\"', '\"sulphates\"',\n",
       "        '\"alcohol\"', '\"quality\"'], dtype='<U22'),\n",
       " '\"density\"')"
      ]
     },
     "execution_count": 57,
     "metadata": {},
     "output_type": "execute_result"
    }
   ],
   "source": [
    "header_white, header_white[7]"
   ]
  },
  {
   "cell_type": "code",
   "execution_count": 58,
   "id": "2f5651e2",
   "metadata": {},
   "outputs": [
    {
     "data": {
      "text/plain": [
       "(array([0.98711 , 0.98713 , 0.98722 , 0.9874  , 0.98742 , 0.98746 , 0.98758 , 0.98774 , 0.98779 ,\n",
       "        0.98794 , 0.98802 , 0.98815 , 0.98816 , 0.98819 , 0.98822 , 0.98823 , 0.988245, 0.98834 ,\n",
       "        0.98836 , 0.9884  , 0.98845 , 0.98853 , 0.98854 , 0.98856 , 0.9886  , 0.98862 , 0.98865 ,\n",
       "        0.98867 , 0.98868 , 0.98869 , 0.9887  , 0.98871 , 0.98872 , 0.98876 , 0.98878 , 0.9888  ,\n",
       "        0.98882 , 0.98883 , 0.98884 , 0.98886 , 0.98889 , 0.9889  , 0.98892 , 0.98894 , 0.98895 ,\n",
       "        0.98896 , 0.98898 , 0.989   , 0.98902 , 0.98904 , 0.98906 , 0.9891  , 0.98912 , 0.98913 ,\n",
       "        0.98914 , 0.98915 , 0.98916 , 0.98918 , 0.98919 , 0.9892  , 0.98922 , 0.98923 , 0.98924 ,\n",
       "        0.98926 , 0.98928 , 0.9893  , 0.98931 , 0.989315, 0.98934 , 0.98935 , 0.98936 , 0.98938 ,\n",
       "        0.98939 , 0.9894  , 0.98941 , 0.98942 , 0.989435, 0.98944 , 0.98945 , 0.98946 , 0.989465,\n",
       "        0.98947 , 0.98948 , 0.98949 , 0.9895  , 0.98951 , 0.98952 , 0.98953 , 0.98954 , 0.98956 ,\n",
       "        0.98958 , 0.98959 , 0.9896  , 0.98961 , 0.98962 , 0.98963 , 0.98964 , 0.98965 , 0.98966 ,\n",
       "        0.98968 , 0.9897  , 0.98972 , 0.98974 , 0.98975 , 0.98976 , 0.98978 , 0.9898  , 0.98981 ,\n",
       "        0.98982 , 0.98984 , 0.98985 , 0.98986 , 0.98987 , 0.98988 , 0.9899  , 0.98992 , 0.98993 ,\n",
       "        0.98994 , 0.98995 , 0.98997 , 0.98998 , 0.98999 , 0.99    , 0.99001 , 0.99002 , 0.99004 ,\n",
       "        0.99005 , 0.99006 , 0.99007 , 0.99008 , 0.99009 , 0.9901  , 0.99011 , 0.99012 , 0.99013 ,\n",
       "        0.99014 , 0.99015 , 0.99016 , 0.99018 , 0.99019 , 0.9902  , 0.99021 , 0.99022 , 0.99024 ,\n",
       "        0.99026 , 0.99027 , 0.99028 , 0.9903  , 0.99031 , 0.99032 , 0.99033 , 0.99034 , 0.99035 ,\n",
       "        0.99036 , 0.99037 , 0.99038 , 0.9904  , 0.99041 , 0.99042 , 0.99043 , 0.99044 , 0.99045 ,\n",
       "        0.99046 , 0.99047 , 0.99048 , 0.9905  , 0.99051 , 0.99052 , 0.99053 , 0.99054 , 0.99055 ,\n",
       "        0.99056 , 0.99057 , 0.99058 , 0.99059 , 0.9906  , 0.99061 , 0.99062 , 0.99063 , 0.99064 ,\n",
       "        0.99065 , 0.99066 , 0.99067 , 0.99068 , 0.99069 , 0.9907  , 0.99071 , 0.99072 , 0.99074 ,\n",
       "        0.99075 , 0.99076 , 0.99077 , 0.99078 , 0.99079 , 0.9908  , 0.99081 , 0.99082 , 0.99084 ,\n",
       "        0.99085 , 0.99086 , 0.99088 , 0.99089 , 0.9909  , 0.99091 , 0.99092 , 0.99093 , 0.99094 ,\n",
       "        0.99095 , 0.99096 , 0.99097 , 0.99098 , 0.99099 , 0.991   , 0.99102 , 0.99103 , 0.99104 ,\n",
       "        0.99105 , 0.99106 , 0.99107 , 0.99108 , 0.99109 , 0.9911  , 0.99111 , 0.99112 , 0.99114 ,\n",
       "        0.99115 , 0.99116 , 0.99117 , 0.99118 , 0.99119 , 0.9912  , 0.99121 , 0.99122 , 0.99123 ,\n",
       "        0.99124 , 0.99125 , 0.99126 , 0.99127 , 0.99128 , 0.99129 , 0.9913  , 0.99132 , 0.99133 ,\n",
       "        0.99134 , 0.99135 , 0.99136 , 0.99137 , 0.99138 , 0.99139 , 0.9914  , 0.99142 , 0.99143 ,\n",
       "        0.99144 , 0.99146 , 0.99148 , 0.9915  , 0.99151 , 0.99152 , 0.99153 , 0.99154 , 0.99155 ,\n",
       "        0.99156 , 0.99157 , 0.99158 , 0.99159 , 0.9916  , 0.99161 , 0.99162 , 0.99163 , 0.99164 ,\n",
       "        0.99165 , 0.99166 , 0.99167 , 0.99168 , 0.9917  , 0.99171 , 0.99172 , 0.99173 , 0.99174 ,\n",
       "        0.99175 , 0.99176 , 0.99177 , 0.99178 , 0.99179 , 0.9918  , 0.99182 , 0.99183 , 0.99184 ,\n",
       "        0.99185 , 0.99186 , 0.99188 , 0.99189 , 0.9919  , 0.99192 , 0.99193 , 0.99194 , 0.99195 ,\n",
       "        0.99196 , 0.99198 , 0.99199 , 0.992   , 0.99201 , 0.99202 , 0.99203 , 0.99204 , 0.99205 ,\n",
       "        0.99206 , 0.99207 , 0.99208 , 0.99209 , 0.9921  , 0.99211 , 0.99212 , 0.99214 , 0.99215 ,\n",
       "        0.99216 , 0.99218 , 0.9922  , 0.99221 , 0.99222 , 0.99223 , 0.99224 , 0.99225 , 0.99226 ,\n",
       "        0.99228 , 0.99229 , 0.9923  , 0.99232 , 0.99234 , 0.99235 , 0.99236 , 0.99237 , 0.99238 ,\n",
       "        0.99239 , 0.9924  , 0.99241 , 0.99242 , 0.99243 , 0.99244 , 0.99245 , 0.99246 , 0.99248 ,\n",
       "        0.99249 , 0.9925  , 0.99251 , 0.99252 , 0.99253 , 0.99254 , 0.99255 , 0.99256 , 0.99257 ,\n",
       "        0.99258 , 0.9926  , 0.99261 , 0.99262 , 0.99264 , 0.99265 , 0.99266 , 0.99267 , 0.99268 ,\n",
       "        0.99269 , 0.9927  , 0.99271 , 0.99272 , 0.99273 , 0.99274 , 0.99275 , 0.99276 , 0.99278 ,\n",
       "        0.99279 , 0.9928  , 0.99281 , 0.99282 , 0.99283 , 0.99284 , 0.99286 , 0.99287 , 0.99288 ,\n",
       "        0.99289 , 0.9929  , 0.99293 , 0.99294 , 0.99295 , 0.99296 , 0.99297 , 0.99298 , 0.99299 ,\n",
       "        0.993   , 0.99302 , 0.99304 , 0.99305 , 0.99306 , 0.99307 , 0.99308 , 0.99309 , 0.9931  ,\n",
       "        0.99311 , 0.99312 , 0.99313 , 0.99314 , 0.99315 , 0.99316 , 0.99317 , 0.99318 , 0.99319 ,\n",
       "        0.9932  , 0.99321 , 0.99322 , 0.99323 , 0.99324 , 0.99325 , 0.99326 , 0.99328 , 0.99329 ,\n",
       "        0.9933  , 0.99331 , 0.99332 , 0.99334 , 0.99335 , 0.99336 , 0.99338 , 0.99339 , 0.9934  ,\n",
       "        0.99341 , 0.99342 , 0.99344 , 0.99345 , 0.99346 , 0.99347 , 0.99348 , 0.9935  , 0.99352 ,\n",
       "        0.99353 , 0.99354 , 0.99355 , 0.99356 , 0.99358 , 0.9936  , 0.99361 , 0.99362 , 0.99364 ,\n",
       "        0.99365 , 0.99366 , 0.99367 , 0.99368 , 0.9937  , 0.99372 , 0.99373 , 0.99374 , 0.99375 ,\n",
       "        0.99376 , 0.99378 , 0.99379 , 0.9938  , 0.99381 , 0.99382 , 0.99383 , 0.99384 , 0.99385 ,\n",
       "        0.99386 , 0.99388 , 0.9939  , 0.99391 , 0.99392 , 0.99393 , 0.99394 , 0.99395 , 0.99396 ,\n",
       "        0.99397 , 0.99398 , 0.99399 , 0.994   , 0.99402 , 0.99403 , 0.99404 , 0.99405 , 0.99406 ,\n",
       "        0.99407 , 0.99408 , 0.9941  , 0.99411 , 0.99412 , 0.99413 , 0.99414 , 0.99415 , 0.99416 ,\n",
       "        0.99418 , 0.9942  , 0.99422 , 0.99424 , 0.99425 , 0.99426 , 0.99427 , 0.99428 , 0.99429 ,\n",
       "        0.9943  , 0.99432 , 0.99433 , 0.99434 , 0.99435 , 0.99436 , 0.99437 , 0.99438 , 0.99439 ,\n",
       "        0.9944  , 0.99441 , 0.99442 , 0.99444 , 0.99445 , 0.99449 , 0.9945  , 0.99452 , 0.99453 ,\n",
       "        0.99454 , 0.99455 , 0.99456 , 0.99457 , 0.99458 , 0.99459 , 0.9946  , 0.99461 , 0.99462 ,\n",
       "        0.99463 , 0.99464 , 0.99466 , 0.99468 , 0.99469 , 0.9947  , 0.99471 , 0.99472 , 0.99473 ,\n",
       "        0.99474 , 0.99475 , 0.99476 , 0.99477 , 0.99478 , 0.99479 , 0.9948  , 0.99481 , 0.99482 ,\n",
       "        0.99485 , 0.99486 , 0.99488 , 0.99489 , 0.9949  , 0.99492 , 0.99494 , 0.99495 , 0.99496 ,\n",
       "        0.99497 , 0.99498 , 0.99499 , 0.995   , 0.99502 , 0.99504 , 0.99505 , 0.99506 , 0.99507 ,\n",
       "        0.99508 , 0.99509 , 0.9951  , 0.99511 , 0.99512 , 0.99513 , 0.99514 , 0.99516 , 0.99517 ,\n",
       "        0.99518 , 0.99519 , 0.9952  , 0.99521 , 0.99522 , 0.99523 , 0.99524 , 0.99526 , 0.99527 ,\n",
       "        0.99528 , 0.9953  , 0.99532 , 0.99534 , 0.99535 , 0.99536 , 0.99537 , 0.99538 , 0.99539 ,\n",
       "        0.9954  , 0.99541 , 0.99542 , 0.99543 , 0.99544 , 0.99545 , 0.99546 , 0.99548 , 0.9955  ,\n",
       "        0.99551 , 0.99552 , 0.99553 , 0.99554 , 0.99555 , 0.99556 , 0.99558 , 0.9956  , 0.99561 ,\n",
       "        0.99562 , 0.99563 , 0.99564 , 0.99565 , 0.99566 , 0.99567 , 0.99568 , 0.9957  , 0.99571 ,\n",
       "        0.99572 , 0.99573 , 0.99574 , 0.99576 , 0.99577 , 0.99578 , 0.99579 , 0.9958  , 0.99581 ,\n",
       "        0.99582 , 0.99583 , 0.99584 , 0.99585 , 0.99586 , 0.99587 , 0.99588 , 0.9959  , 0.99591 ,\n",
       "        0.99592 , 0.99594 , 0.99595 , 0.99596 , 0.996   , 0.99601 , 0.99602 , 0.99604 , 0.99605 ,\n",
       "        0.99606 , 0.99608 , 0.9961  , 0.99611 , 0.99612 , 0.99615 , 0.99616 , 0.9962  , 0.99622 ,\n",
       "        0.99624 , 0.99625 , 0.99626 , 0.99627 , 0.99628 , 0.99629 , 0.9963  , 0.99632 , 0.99634 ,\n",
       "        0.99636 , 0.9964  , 0.99642 , 0.99644 , 0.99645 , 0.99646 , 0.9965  , 0.99652 , 0.99654 ,\n",
       "        0.99655 , 0.99656 , 0.99657 , 0.99658 , 0.99659 , 0.9966  , 0.99662 , 0.99663 , 0.99665 ,\n",
       "        0.99666 , 0.99668 , 0.99669 , 0.9967  , 0.99672 , 0.99674 , 0.99675 , 0.99676 , 0.99677 ,\n",
       "        0.99678 , 0.99679 , 0.9968  , 0.99681 , 0.99683 , 0.99684 , 0.99685 , 0.99687 , 0.99688 ,\n",
       "        0.9969  , 0.99691 , 0.99692 , 0.99693 , 0.99695 , 0.99696 , 0.99698 , 0.99699 , 0.997   ,\n",
       "        0.99702 , 0.99704 , 0.99705 , 0.99706 , 0.99708 , 0.99709 , 0.9971  , 0.99711 , 0.99712 ,\n",
       "        0.99713 , 0.99714 , 0.99715 , 0.99716 , 0.99718 , 0.9972  , 0.99724 , 0.99725 , 0.99726 ,\n",
       "        0.99727 , 0.99728 , 0.9973  , 0.99732 , 0.99734 , 0.99736 , 0.99737 , 0.99738 , 0.9974  ,\n",
       "        0.99741 , 0.99742 , 0.99745 , 0.99748 , 0.9975  , 0.99751 , 0.99752 , 0.99754 , 0.99755 ,\n",
       "        0.99756 , 0.99758 , 0.9976  , 0.99767 , 0.99769 , 0.9977  , 0.99771 , 0.99772 , 0.99773 ,\n",
       "        0.99775 , 0.99776 , 0.99778 , 0.99779 , 0.9978  , 0.99782 , 0.99784 , 0.99785 , 0.99786 ,\n",
       "        0.99787 , 0.99788 , 0.9979  , 0.99792 , 0.99794 , 0.99795 , 0.998   , 0.99801 , 0.99802 ,\n",
       "        0.99803 , 0.99804 , 0.99805 , 0.99806 , 0.99807 , 0.99808 , 0.9981  , 0.99814 , 0.99815 ,\n",
       "        0.9982  , 0.99822 , 0.99824 , 0.99825 , 0.99827 , 0.998275, 0.99828 , 0.9983  , 0.99831 ,\n",
       "        0.99833 , 0.99834 , 0.99835 , 0.99836 , 0.998365, 0.99837 , 0.99838 , 0.99839 , 0.9984  ,\n",
       "        0.99841 , 0.99845 , 0.99848 , 0.9985  , 0.99851 , 0.99853 , 0.99855 , 0.99856 , 0.99858 ,\n",
       "        0.9986  , 0.99862 , 0.99863 , 0.99864 , 0.99865 , 0.99869 , 0.9987  , 0.99872 , 0.99873 ,\n",
       "        0.9988  , 0.99882 , 0.99884 , 0.99886 , 0.99888 , 0.9989  , 0.99896 , 0.99898 , 0.99899 ,\n",
       "        0.999   , 0.99902 , 0.99904 , 0.99906 , 0.99907 , 0.99908 , 0.9991  , 0.99911 , 0.99916 ,\n",
       "        0.99918 , 0.9992  , 0.99922 , 0.99924 , 0.9993  , 0.99935 , 0.99936 , 0.99938 , 0.9994  ,\n",
       "        0.99941 , 0.99942 , 0.99943 , 0.99944 , 0.99945 , 0.99946 , 0.99947 , 0.9995  , 0.99954 ,\n",
       "        0.99955 , 0.99956 , 0.9996  , 0.99965 , 0.99966 , 0.9997  , 0.99971 , 0.99975 , 0.99976 ,\n",
       "        0.9998  , 0.99985 , 0.9999  , 1.      , 1.0001  , 1.00013 , 1.00014 , 1.00016 , 1.0002  ,\n",
       "        1.00022 , 1.0003  , 1.00037 , 1.00038 , 1.0004  , 1.00044 , 1.00047 , 1.0005  , 1.00051 ,\n",
       "        1.00055 , 1.0006  , 1.0007  , 1.0008  , 1.00098 , 1.001   , 1.0011  , 1.00118 , 1.0012  ,\n",
       "        1.0017  , 1.00182 , 1.00196 , 1.0024  , 1.00241 , 1.00295 , 1.0103  , 1.03898 ]),\n",
       " array([ 1,  1,  1,  1,  2,  2,  1,  1,  1,  2,  1,  1,  1,  1,  1,  1,  1,  1,  2,  1,  1,  1,  1,\n",
       "         2,  2,  3,  3,  2,  1,  1,  2,  2,  2,  2,  1,  1,  1,  1,  1,  2,  3,  5,  5,  3,  2,  2,\n",
       "         1,  4,  1,  1,  2,  2,  5,  1,  5,  1,  4,  4,  1,  7,  1,  1,  3,  6,  2,  8,  2,  1,  5,\n",
       "         1,  5,  2,  2,  6,  1,  5,  1,  7,  2,  7,  1,  1,  2,  4,  6,  1,  7,  3,  3,  5,  4,  3,\n",
       "         9,  5,  2,  6,  9,  1,  3,  4,  6,  4,  3,  3,  2,  1, 18,  3,  1,  6,  2,  3,  2,  4,  8,\n",
       "         1,  4,  3,  1,  1,  4,  3, 28,  2,  4,  4,  1,  3,  1,  4,  1,  8,  1,  3,  1,  5,  1,  4,\n",
       "         5,  1, 20,  6,  5,  3, 10,  1,  3, 13,  4,  3,  3,  1,  7,  8,  1,  3, 13,  1,  2,  5,  7,\n",
       "         4,  2,  3,  4,  9,  1,  4,  2,  2,  1,  3,  3,  9,  2, 32,  1,  5,  1,  4,  1,  7,  5,  3,\n",
       "         2, 13,  1,  3,  5,  2, 15,  1,  2,  1, 25,  1,  4,  8,  6,  3,  5,  7, 13,  2,  4,  2,  5,\n",
       "         3,  4,  2,  4,  2, 34,  1,  1,  4,  2,  2,  1,  3,  2, 25,  5,  6,  8,  1,  5,  1,  2,  3,\n",
       "        33,  3,  3,  4,  3,  3,  8,  1,  4,  3, 16,  6,  2,  5,  2,  3,  1,  9,  2, 39,  7,  3,  8,\n",
       "         7,  4, 10,  4,  5,  3,  5,  3,  3,  1,  6,  4, 23,  2,  4,  1, 11,  6,  7,  1,  7, 34,  1,\n",
       "         5,  4,  7,  3, 11,  2,  8,  1, 40,  6,  1, 12,  5,  6,  8,  4, 14,  5,  2,  4,  2,  4,  6,\n",
       "         2, 64,  1,  5,  1,  4,  1,  4,  4,  3,  1, 16,  1, 13,  3,  6,  8,  4, 27,  2,  3,  1,  6,\n",
       "         3,  9,  5,  1, 19,  4,  6,  4,  1,  2,  7,  2, 44,  2,  3,  3,  8,  2,  3,  3,  2, 22,  1,\n",
       "         3,  1,  5,  3,  5,  2,  1, 32,  1,  2,  1,  2,  5,  1,  6,  2, 47,  3,  5,  2,  4,  1,  3,\n",
       "         8,  1, 61,  1,  3,  2,  1,  4,  3,  5,  1, 20,  3,  1,  1,  7,  4,  1,  4, 52,  1, 10,  4,\n",
       "         5,  3,  3,  1, 28,  1,  4,  3,  6,  3,  4,  1,  4,  1, 53,  3,  3,  1,  6,  1,  7,  3,  1,\n",
       "        17,  2,  4,  5,  5,  3,  6,  2, 50,  1,  1,  4,  2,  2,  4,  3, 17,  5,  1,  4,  1,  3,  3,\n",
       "        34,  1, 14,  4,  3,  4,  1,  5, 35,  1,  5,  2,  2,  1,  3,  1, 49,  1,  8,  2,  2,  1,  1,\n",
       "         6, 28,  2,  3,  1,  4,  1,  4,  4,  5,  1, 37,  4,  1,  2,  3,  6,  1,  4, 25,  3,  2,  1,\n",
       "         2,  1,  3,  3, 38,  3,  2,  4,  2,  1,  5,  3, 11,  6,  1,  4,  2,  1,  3,  7,  1, 46,  2,\n",
       "         2,  3,  6,  4, 22,  4,  1,  7,  5,  4,  1,  5,  2, 32,  2,  3,  1,  1,  2,  2,  4,  9,  6,\n",
       "         3,  2,  6,  4,  1,  1,  4,  4, 45,  2,  3,  1,  3,  4,  3, 20,  2,  6,  2,  4,  2,  2,  1,\n",
       "        25,  4,  1,  3,  1,  1,  4,  2, 25,  1,  7,  2,  5,  4,  2,  4,  3, 37,  2,  1,  2,  3,  3,\n",
       "         2,  4, 32,  4,  5,  2,  3,  4,  4,  1, 44,  2,  8,  2,  7,  4,  8,  4, 30,  4,  3,  1,  1,\n",
       "         2,  7,  8, 41,  2,  3,  1,  6,  1,  5,  3,  4, 15,  4,  5,  3,  1,  7,  2,  6,  3, 40,  4,\n",
       "         5,  1,  2,  1,  3,  8,  2, 23,  1,  4,  3,  1,  5, 20,  1,  2,  7,  2,  2,  1, 16,  1,  4,\n",
       "         1,  2, 31,  6,  1,  1,  3,  2,  6,  1, 18,  2,  1,  3, 18,  7,  2,  1,  1, 18,  4,  3,  3,\n",
       "         1,  4,  2,  3, 36,  2,  2,  3,  9,  1,  1, 13,  3,  1,  2,  5,  1,  5,  1, 20,  1,  1,  3,\n",
       "         2,  2,  2, 15,  5,  5,  2,  1,  1,  1,  5, 21,  1,  3,  8,  2,  2,  1, 11,  4,  1,  1,  1,\n",
       "         1,  1,  4, 33,  2,  1,  4,  3,  2,  7,  3,  1,  3,  1,  1, 28,  1,  6,  2,  2, 17,  1,  3,\n",
       "         6,  3,  3,  2, 34,  2,  1, 12,  2,  4,  7,  2,  4,  2,  1, 23,  5,  8,  1,  2,  2,  1, 24,\n",
       "        10,  4,  2, 35,  1,  2,  2,  2,  2,  1,  8,  8, 15,  1,  5, 28,  3,  1,  8,  2,  1,  2, 21,\n",
       "         1,  1,  4,  4,  2,  1,  1,  2,  3, 29,  1,  1,  3,  4,  2,  1,  7,  1,  1, 42,  5,  2,  1,\n",
       "         2,  2,  9,  2,  1, 10,  2,  8,  2,  3,  5,  4,  3,  1, 11,  1,  3,  5,  5,  2,  9,  3,  2,\n",
       "         1,  5,  5,  4,  6,  1,  1,  1,  9,  1,  2,  1,  1,  3,  7,  2,  3,  3,  1,  2,  8,  1,  1,\n",
       "         6,  2,  3,  6, 17,  1,  9, 19, 11,  2,  2,  1,  7,  1,  3,  2,  2,  9,  2,  1,  2,  1,  1,\n",
       "         4,  1,  3,  1,  5,  2,  1,  1,  2,  1,  1,  1,  1,  2,  2,  1]))"
      ]
     },
     "execution_count": 58,
     "metadata": {},
     "output_type": "execute_result"
    }
   ],
   "source": [
    "np.unique(raw_white_wine[:,7], return_counts = True)"
   ]
  },
  {
   "cell_type": "code",
   "execution_count": 59,
   "id": "25d04ce8",
   "metadata": {},
   "outputs": [],
   "source": [
    "# Density is the mass per unit volume of wine. \n",
    "# After fermentation is complete, the wine should be at, or slightly less than 1.00.\n",
    "# above 1.1g/ml threshold value-- is denoted by 0.\n",
    "# correct density range is denoted by 1. \n",
    "\n",
    "above_threshold = np.arange(1.1, 2.1, 0.000001)"
   ]
  },
  {
   "cell_type": "code",
   "execution_count": 60,
   "id": "b373217b",
   "metadata": {},
   "outputs": [],
   "source": [
    "raw_white_wine[:,7] = np.where(np.isin(raw_white_wine[:,7], above_threshold), 0, 1)"
   ]
  },
  {
   "cell_type": "code",
   "execution_count": 61,
   "id": "69f2fb53",
   "metadata": {},
   "outputs": [
    {
     "data": {
      "text/plain": [
       "(array([1.]), array([4898]))"
      ]
     },
     "execution_count": 61,
     "metadata": {},
     "output_type": "execute_result"
    }
   ],
   "source": [
    "np.unique(raw_white_wine[:,7], return_counts = True)"
   ]
  },
  {
   "cell_type": "code",
   "execution_count": 62,
   "id": "5ee19ab4",
   "metadata": {},
   "outputs": [
    {
     "data": {
      "text/plain": [
       "(array(['\"fixed acidity\"', '\"volatile acidity\"', '\"citric acid\"', '\"residual sugar\"', '\"chlorides\"',\n",
       "        '\"free sulfur dioxide\"', '\"total sulfur dioxide\"', '\"density\"', '\"pH\"', '\"sulphates\"',\n",
       "        '\"alcohol\"', '\"quality\"'], dtype='<U22'),\n",
       " '\"pH\"')"
      ]
     },
     "execution_count": 62,
     "metadata": {},
     "output_type": "execute_result"
    }
   ],
   "source": [
    "header_white, header_white[8]"
   ]
  },
  {
   "cell_type": "code",
   "execution_count": 63,
   "id": "bb9d1fff",
   "metadata": {},
   "outputs": [
    {
     "data": {
      "text/plain": [
       "(array([2.72, 2.74, 2.77, 2.79, 2.8 , 2.82, 2.83, 2.84, 2.85, 2.86, 2.87, 2.88, 2.89, 2.9 , 2.91,\n",
       "        2.92, 2.93, 2.94, 2.95, 2.96, 2.97, 2.98, 2.99, 3.  , 3.01, 3.02, 3.03, 3.04, 3.05, 3.06,\n",
       "        3.07, 3.08, 3.09, 3.1 , 3.11, 3.12, 3.13, 3.14, 3.15, 3.16, 3.17, 3.18, 3.19, 3.2 , 3.21,\n",
       "        3.22, 3.23, 3.24, 3.25, 3.26, 3.27, 3.28, 3.29, 3.3 , 3.31, 3.32, 3.33, 3.34, 3.35, 3.36,\n",
       "        3.37, 3.38, 3.39, 3.4 , 3.41, 3.42, 3.43, 3.44, 3.45, 3.46, 3.47, 3.48, 3.49, 3.5 , 3.51,\n",
       "        3.52, 3.53, 3.54, 3.55, 3.56, 3.57, 3.58, 3.59, 3.6 , 3.61, 3.62, 3.63, 3.64, 3.65, 3.66,\n",
       "        3.67, 3.68, 3.69, 3.7 , 3.72, 3.74, 3.75, 3.76, 3.77, 3.79, 3.8 , 3.81, 3.82]),\n",
       " array([  1,   1,   1,   3,   3,   1,   4,   1,   9,   9,   9,  11,  17,  31,  15,  18,  38,  35,\n",
       "         26,  63,  32,  41,  68,  74,  49,  68,  78,  97,  89, 115,  79, 136,  92, 135, 126, 134,\n",
       "        117, 172, 136, 164, 124, 138, 145, 137,  95, 146, 116, 132, 114,  96,  88,  87,  82,  93,\n",
       "         79,  86,  49,  79,  48,  83,  49,  58,  40,  39,  30,  48,  20,  33,  17,  28,  21,  21,\n",
       "         23,  15,  14,  17,  13,  14,   9,   8,   5,   5,   6,   7,   3,   1,   6,   2,   4,   5,\n",
       "          1,   2,   2,   1,   3,   2,   2,   2,   2,   1,   2,   1,   1]))"
      ]
     },
     "execution_count": 63,
     "metadata": {},
     "output_type": "execute_result"
    }
   ],
   "source": [
    "np.unique(raw_white_wine[:,8], return_counts = True)"
   ]
  },
  {
   "cell_type": "code",
   "execution_count": 64,
   "id": "489d4240",
   "metadata": {},
   "outputs": [],
   "source": [
    "# pH level of a wine ranges from 3 to 4.\n",
    "# normal_ph_range is denoted by 1.\n",
    "# acidic than normal is denoted by 0.\n",
    "\n",
    "normal_ph_range = np.arange(3.00, 4.01, 0.01)"
   ]
  },
  {
   "cell_type": "code",
   "execution_count": 65,
   "id": "599bec04",
   "metadata": {},
   "outputs": [
    {
     "data": {
      "text/plain": [
       "array([3.  , 3.01, 3.02, 3.03, 3.04, 3.05, 3.06, 3.07, 3.08, 3.09, 3.1 , 3.11, 3.12, 3.13, 3.14,\n",
       "       3.15, 3.16, 3.17, 3.18, 3.19, 3.2 , 3.21, 3.22, 3.23, 3.24, 3.25, 3.26, 3.27, 3.28, 3.29,\n",
       "       3.3 , 3.31, 3.32, 3.33, 3.34, 3.35, 3.36, 3.37, 3.38, 3.39, 3.4 , 3.41, 3.42, 3.43, 3.44,\n",
       "       3.45, 3.46, 3.47, 3.48, 3.49, 3.5 , 3.51, 3.52, 3.53, 3.54, 3.55, 3.56, 3.57, 3.58, 3.59,\n",
       "       3.6 , 3.61, 3.62, 3.63, 3.64, 3.65, 3.66, 3.67, 3.68, 3.69, 3.7 , 3.71, 3.72, 3.73, 3.74,\n",
       "       3.75, 3.76, 3.77, 3.78, 3.79, 3.8 , 3.81, 3.82, 3.83, 3.84, 3.85, 3.86, 3.87, 3.88, 3.89,\n",
       "       3.9 , 3.91, 3.92, 3.93, 3.94, 3.95, 3.96, 3.97, 3.98, 3.99, 4.  ])"
      ]
     },
     "execution_count": 65,
     "metadata": {},
     "output_type": "execute_result"
    }
   ],
   "source": [
    "normal_ph_range"
   ]
  },
  {
   "cell_type": "code",
   "execution_count": 66,
   "id": "39be4a5f",
   "metadata": {},
   "outputs": [],
   "source": [
    "raw_white_wine[:,8] = np.where(np.isin(raw_white_wine[:,8], normal_ph_range), 1, 0)"
   ]
  },
  {
   "cell_type": "code",
   "execution_count": 67,
   "id": "33cd5be1",
   "metadata": {},
   "outputs": [
    {
     "data": {
      "text/plain": [
       "(array([0., 1.]), array([4775,  123]))"
      ]
     },
     "execution_count": 67,
     "metadata": {},
     "output_type": "execute_result"
    }
   ],
   "source": [
    "np.unique(raw_white_wine[:,8], return_counts = True)"
   ]
  },
  {
   "cell_type": "code",
   "execution_count": 68,
   "id": "5b365e91",
   "metadata": {},
   "outputs": [
    {
     "data": {
      "text/plain": [
       "(array(['\"fixed acidity\"', '\"volatile acidity\"', '\"citric acid\"', '\"residual sugar\"', '\"chlorides\"',\n",
       "        '\"free sulfur dioxide\"', '\"total sulfur dioxide\"', '\"density\"', '\"pH\"', '\"sulphates\"',\n",
       "        '\"alcohol\"', '\"quality\"'], dtype='<U22'),\n",
       " '\"sulphates\"')"
      ]
     },
     "execution_count": 68,
     "metadata": {},
     "output_type": "execute_result"
    }
   ],
   "source": [
    "header_white, header_white[9]"
   ]
  },
  {
   "cell_type": "code",
   "execution_count": 69,
   "id": "7e72637f",
   "metadata": {},
   "outputs": [
    {
     "data": {
      "text/plain": [
       "(array([0.22, 0.23, 0.25, 0.26, 0.27, 0.28, 0.29, 0.3 , 0.31, 0.32, 0.33, 0.34, 0.35, 0.36, 0.37,\n",
       "        0.38, 0.39, 0.4 , 0.41, 0.42, 0.43, 0.44, 0.45, 0.46, 0.47, 0.48, 0.49, 0.5 , 0.51, 0.52,\n",
       "        0.53, 0.54, 0.55, 0.56, 0.57, 0.58, 0.59, 0.6 , 0.61, 0.62, 0.63, 0.64, 0.65, 0.66, 0.67,\n",
       "        0.68, 0.69, 0.7 , 0.71, 0.72, 0.73, 0.74, 0.75, 0.76, 0.77, 0.78, 0.79, 0.8 , 0.81, 0.82,\n",
       "        0.83, 0.84, 0.85, 0.86, 0.87, 0.88, 0.89, 0.9 , 0.92, 0.94, 0.95, 0.96, 0.97, 0.98, 0.99,\n",
       "        1.  , 1.01, 1.06, 1.08]),\n",
       " array([  1,   1,   4,   4,  13,  13,  16,  31,  35,  54,  59,  84,  85, 120, 129, 214, 151, 168,\n",
       "        139, 181, 161, 216, 178, 225, 172, 179, 166, 249, 140, 156, 135, 167, 102, 108,  83,  99,\n",
       "         97,  88,  45,  68,  48,  67,  28,  36,  35,  44,  30,  27,  18,  33,  12,  19,  22,  19,\n",
       "         16,  19,  16,   5,   5,  13,   2,   4,   3,   2,   2,   7,   1,   5,   2,   2,   5,   3,\n",
       "          1,   6,   1,   1,   1,   1,   1]))"
      ]
     },
     "execution_count": 69,
     "metadata": {},
     "output_type": "execute_result"
    }
   ],
   "source": [
    "np.unique(raw_white_wine[:,9], return_counts = True)"
   ]
  },
  {
   "cell_type": "code",
   "execution_count": 70,
   "id": "cdf2a162",
   "metadata": {},
   "outputs": [],
   "source": [
    "# Sulphates are a food preservative common in winemaking, since it maintain wine's flavor and freshness.\n",
    "# They’re assoc. w/ long list of side effects like the dreaded wine-induced headache. \n",
    "# white wine typically can only contain up to 0.2 g/L of sulphites.\n",
    "# exceeding 0.2 g/L -- denoted by 0.\n",
    "# normal range-- denoted by 1.\n",
    "\n",
    "normal_range = np.arange(0.00, 0.20, 0.01)"
   ]
  },
  {
   "cell_type": "code",
   "execution_count": 71,
   "id": "78eee299",
   "metadata": {},
   "outputs": [
    {
     "data": {
      "text/plain": [
       "array([0.  , 0.01, 0.02, 0.03, 0.04, 0.05, 0.06, 0.07, 0.08, 0.09, 0.1 , 0.11, 0.12, 0.13, 0.14,\n",
       "       0.15, 0.16, 0.17, 0.18, 0.19])"
      ]
     },
     "execution_count": 71,
     "metadata": {},
     "output_type": "execute_result"
    }
   ],
   "source": [
    "normal_range"
   ]
  },
  {
   "cell_type": "code",
   "execution_count": 72,
   "id": "287b2d55",
   "metadata": {},
   "outputs": [],
   "source": [
    "raw_white_wine[:,9] = np.where(np.isin(raw_white_wine[:,9], normal_range), 1, 0)"
   ]
  },
  {
   "cell_type": "code",
   "execution_count": 73,
   "id": "b048875f",
   "metadata": {},
   "outputs": [
    {
     "data": {
      "text/plain": [
       "(array([0.]), array([4898]))"
      ]
     },
     "execution_count": 73,
     "metadata": {},
     "output_type": "execute_result"
    }
   ],
   "source": [
    "np.unique(raw_white_wine[:,9], return_counts = True)"
   ]
  },
  {
   "cell_type": "code",
   "execution_count": 74,
   "id": "1b8749a0",
   "metadata": {},
   "outputs": [
    {
     "data": {
      "text/plain": [
       "(array(['\"fixed acidity\"', '\"volatile acidity\"', '\"citric acid\"', '\"residual sugar\"', '\"chlorides\"',\n",
       "        '\"free sulfur dioxide\"', '\"total sulfur dioxide\"', '\"density\"', '\"pH\"', '\"sulphates\"',\n",
       "        '\"alcohol\"', '\"quality\"'], dtype='<U22'),\n",
       " '\"alcohol\"')"
      ]
     },
     "execution_count": 74,
     "metadata": {},
     "output_type": "execute_result"
    }
   ],
   "source": [
    "header_white, header_white[10]"
   ]
  },
  {
   "cell_type": "code",
   "execution_count": 75,
   "id": "1a9dc2d7",
   "metadata": {},
   "outputs": [
    {
     "data": {
      "text/plain": [
       "(array([ 8.        ,  8.4       ,  8.5       ,  8.6       ,  8.7       ,  8.8       ,  8.9       ,\n",
       "         9.        ,  9.1       ,  9.2       ,  9.3       ,  9.4       ,  9.5       ,  9.53333333,\n",
       "         9.55      ,  9.6       ,  9.63333333,  9.7       ,  9.73333333,  9.75      ,  9.8       ,\n",
       "         9.9       , 10.        , 10.03333333, 10.1       , 10.13333333, 10.15      , 10.2       ,\n",
       "        10.3       , 10.4       , 10.46666667, 10.5       , 10.53333333, 10.55      , 10.56666667,\n",
       "        10.6       , 10.65      , 10.7       , 10.8       , 10.9       , 10.93333333, 10.96666667,\n",
       "        10.98      , 11.        , 11.05      , 11.06666667, 11.1       , 11.2       , 11.26666667,\n",
       "        11.3       , 11.33333333, 11.35      , 11.36666667, 11.4       , 11.43333333, 11.45      ,\n",
       "        11.46666667, 11.5       , 11.55      , 11.6       , 11.63333333, 11.65      , 11.7       ,\n",
       "        11.73333333, 11.75      , 11.8       , 11.85      , 11.9       , 11.94      , 11.95      ,\n",
       "        12.        , 12.05      , 12.06666667, 12.1       , 12.15      , 12.2       , 12.25      ,\n",
       "        12.3       , 12.33333333, 12.4       , 12.5       , 12.6       , 12.7       , 12.75      ,\n",
       "        12.8       , 12.89333333, 12.9       , 13.        , 13.05      , 13.1       , 13.13333333,\n",
       "        13.2       , 13.3       , 13.4       , 13.5       , 13.55      , 13.6       , 13.7       ,\n",
       "        13.8       , 13.9       , 14.        , 14.05      , 14.2       ]),\n",
       " array([  2,   3,   9,  23,  78, 107,  95, 185, 144, 199, 134, 229, 228,   3,   2, 128,   1, 105,\n",
       "          2,   1, 136, 109, 162,   1, 114,   2,   3, 130,  85, 153,   2, 160,   1,   2,   1, 114,\n",
       "          1,  96, 135,  88,   2,   3,   1, 158,   2,   1,  83, 112,   1, 101,   3,   1,   1, 121,\n",
       "          1,   4,   1,  88,   1,  46,   2,   1,  58,   1,   2,  60,   1,  53,   2,   1, 102,   1,\n",
       "          1,  51,   2,  86,   1,  62,   1,  68,  83,  63,  56,   3,  54,   2,  39,  36,   1,  18,\n",
       "          1,  14,   7,  20,  12,   1,   9,   7,   2,   3,   5,   1,   1]))"
      ]
     },
     "execution_count": 75,
     "metadata": {},
     "output_type": "execute_result"
    }
   ],
   "source": [
    "np.unique(raw_white_wine[:,10], return_counts = True)"
   ]
  },
  {
   "cell_type": "code",
   "execution_count": 76,
   "id": "a924a7db",
   "metadata": {},
   "outputs": [],
   "source": [
    "# since data (above) has values with many decimal points, \n",
    "# rounding for the reliability of command and analaysis used. \n",
    "\n",
    "raw_white_wine[:,10] = np.round(raw_white_wine[:,10], decimals = 2)"
   ]
  },
  {
   "cell_type": "code",
   "execution_count": 77,
   "id": "fad82faf",
   "metadata": {},
   "outputs": [
    {
     "data": {
      "text/plain": [
       "(array([ 8.  ,  8.4 ,  8.5 ,  8.6 ,  8.7 ,  8.8 ,  8.9 ,  9.  ,  9.1 ,  9.2 ,  9.3 ,  9.4 ,  9.5 ,\n",
       "         9.53,  9.55,  9.6 ,  9.63,  9.7 ,  9.73,  9.75,  9.8 ,  9.9 , 10.  , 10.03, 10.1 , 10.13,\n",
       "        10.15, 10.2 , 10.3 , 10.4 , 10.47, 10.5 , 10.53, 10.55, 10.57, 10.6 , 10.65, 10.7 , 10.8 ,\n",
       "        10.9 , 10.93, 10.97, 10.98, 11.  , 11.05, 11.07, 11.1 , 11.2 , 11.27, 11.3 , 11.33, 11.35,\n",
       "        11.37, 11.4 , 11.43, 11.45, 11.47, 11.5 , 11.55, 11.6 , 11.63, 11.65, 11.7 , 11.73, 11.75,\n",
       "        11.8 , 11.85, 11.9 , 11.94, 11.95, 12.  , 12.05, 12.07, 12.1 , 12.15, 12.2 , 12.25, 12.3 ,\n",
       "        12.33, 12.4 , 12.5 , 12.6 , 12.7 , 12.75, 12.8 , 12.89, 12.9 , 13.  , 13.05, 13.1 , 13.13,\n",
       "        13.2 , 13.3 , 13.4 , 13.5 , 13.55, 13.6 , 13.7 , 13.8 , 13.9 , 14.  , 14.05, 14.2 ]),\n",
       " array([  2,   3,   9,  23,  78, 107,  95, 185, 144, 199, 134, 229, 228,   3,   2, 128,   1, 105,\n",
       "          2,   1, 136, 109, 162,   1, 114,   2,   3, 130,  85, 153,   2, 160,   1,   2,   1, 114,\n",
       "          1,  96, 135,  88,   2,   3,   1, 158,   2,   1,  83, 112,   1, 101,   3,   1,   1, 121,\n",
       "          1,   4,   1,  88,   1,  46,   2,   1,  58,   1,   2,  60,   1,  53,   2,   1, 102,   1,\n",
       "          1,  51,   2,  86,   1,  62,   1,  68,  83,  63,  56,   3,  54,   2,  39,  36,   1,  18,\n",
       "          1,  14,   7,  20,  12,   1,   9,   7,   2,   3,   5,   1,   1]))"
      ]
     },
     "execution_count": 77,
     "metadata": {},
     "output_type": "execute_result"
    }
   ],
   "source": [
    "np.unique(raw_white_wine[:,10], return_counts = True)"
   ]
  },
  {
   "cell_type": "code",
   "execution_count": 78,
   "id": "f3e972b4",
   "metadata": {},
   "outputs": [],
   "source": [
    "# Wine can have anywhere between 5% and 23% Alcohol by Volume (ABV). \n",
    "# The avg alcohol content of wine is about 12%. \n",
    "# less than 11%-- light group which is denoted by 0.\n",
    "# around 12% -- medium group denoted by 1.\n",
    "# higher than 12% -- heavy group denoted by 2.\n",
    "\n",
    "light_group = np.array([8.  ,  8.4 ,  8.5 ,  8.6 ,  8.7 ,  8.8 ,  8.9 ,  \n",
    "                        9.  ,  9.1 ,  9.2 ,  9.3 ,  9.4 ,  9.5 , 9.53,  9.55,  9.6 ,  9.63,  \n",
    "                        9.7 ,  9.73,  9.75,  9.8 ,  9.9 , 10.  , 10.03, 10.1 , 10.13, 10.15, \n",
    "                        10.2 , 10.3 , 10.4 , 10.47, 10.5 , 10.53, 10.55, 10.57, 10.6 , 10.65, \n",
    "                        10.7 , 10.8 , 10.9 , 10.93, 10.97, 10.98, 11.  , 11.05, 11.07, \n",
    "                        11.1 , 11.2 , 11.27, 11.3 , 11.33, 11.35, 11.37, 11.4 , 11.43, 11.45, 11.47, \n",
    "                        11.5 , 11.55, 11.6 , 11.63, 11.65,])\n",
    "medium_group = np.array([11.7 , 11.73, 11.75, 11.8 , 11.85, 11.9 , 11.94, 11.95, \n",
    "                         12.  , 12.05, 12.07, 12.1 , 12.15, 12.2 , 12.25, 12.3 , 12.33])\n",
    "heavy_group = np.array([12.4 , 12.5 , 12.6 , 12.7 , 12.75, 12.8 , 12.89, 12.9 , \n",
    "                        13.  , 13.05, 13.1 , 13.13, 13.2 , 13.3 , 13.4 , 13.5 , 13.55, 13.6 , \n",
    "                        13.7 , 13.8 , 13.9 , 14.  , 14.05, 14.2 ])"
   ]
  },
  {
   "cell_type": "code",
   "execution_count": 79,
   "id": "f987aa5a",
   "metadata": {},
   "outputs": [],
   "source": [
    "raw_white_wine[:,10] = np.where(np.isin(raw_white_wine[:,10], light_group), 0, raw_white_wine[:,10])\n",
    "raw_white_wine[:,10] = np.where(np.isin(raw_white_wine[:,10], medium_group), 1, raw_white_wine[:,10])\n",
    "raw_white_wine[:,10] = np.where(np.isin(raw_white_wine[:,10], heavy_group), 2, raw_white_wine[:,10])"
   ]
  },
  {
   "cell_type": "code",
   "execution_count": 80,
   "id": "f0200466",
   "metadata": {},
   "outputs": [
    {
     "data": {
      "text/plain": [
       "(array([0., 1., 2.]), array([3907,  485,  506]))"
      ]
     },
     "execution_count": 80,
     "metadata": {},
     "output_type": "execute_result"
    }
   ],
   "source": [
    "np.unique(raw_white_wine[:,10], return_counts = True)"
   ]
  },
  {
   "cell_type": "code",
   "execution_count": 81,
   "id": "446aa897",
   "metadata": {},
   "outputs": [
    {
     "data": {
      "text/plain": [
       "4898"
      ]
     },
     "execution_count": 81,
     "metadata": {},
     "output_type": "execute_result"
    }
   ],
   "source": [
    "len(raw_white_wine[:,10])"
   ]
  },
  {
   "cell_type": "code",
   "execution_count": 82,
   "id": "42f63ebc",
   "metadata": {},
   "outputs": [
    {
     "data": {
      "text/plain": [
       "(array(['\"fixed acidity\"', '\"volatile acidity\"', '\"citric acid\"', '\"residual sugar\"', '\"chlorides\"',\n",
       "        '\"free sulfur dioxide\"', '\"total sulfur dioxide\"', '\"density\"', '\"pH\"', '\"sulphates\"',\n",
       "        '\"alcohol\"', '\"quality\"'], dtype='<U22'),\n",
       " '\"quality\"')"
      ]
     },
     "execution_count": 82,
     "metadata": {},
     "output_type": "execute_result"
    }
   ],
   "source": [
    "header_white, header_white[11]"
   ]
  },
  {
   "cell_type": "code",
   "execution_count": 83,
   "id": "000e2f5d",
   "metadata": {},
   "outputs": [
    {
     "data": {
      "text/plain": [
       "array([3., 4., 5., 6., 7., 8., 9.])"
      ]
     },
     "execution_count": 83,
     "metadata": {},
     "output_type": "execute_result"
    }
   ],
   "source": [
    "np.unique(raw_white_wine[:,11])"
   ]
  },
  {
   "cell_type": "code",
   "execution_count": 84,
   "id": "5c3a1810",
   "metadata": {},
   "outputs": [],
   "source": [
    "# The quality of the wines is a score between 1 and 10.\n",
    "# low quality(0,1,2,3)-- denoted by 0.\n",
    "# avg. quality(4,5,6,7)-- denoted by 1.\n",
    "# high quality(8,9,10)-- denoted by 2.\n",
    "\n",
    "low_quality = np.array([0,1,2,3])\n",
    "avg_quality = np.array([4,5,6,7])\n",
    "high_quality = np.array([8,9,10])"
   ]
  },
  {
   "cell_type": "code",
   "execution_count": 85,
   "id": "e33046cb",
   "metadata": {},
   "outputs": [],
   "source": [
    "raw_white_wine[:,11] = np.where(np.isin(raw_white_wine[:,11], low_quality), 0, raw_white_wine[:,11])"
   ]
  },
  {
   "cell_type": "code",
   "execution_count": 86,
   "id": "8c7f0069",
   "metadata": {},
   "outputs": [],
   "source": [
    "raw_white_wine[:,11] = np.where(np.isin(raw_white_wine[:,11], avg_quality), 1, raw_white_wine[:,11])\n",
    "raw_white_wine[:,11] = np.where(np.isin(raw_white_wine[:,11], high_quality), 2, raw_white_wine[:,11])"
   ]
  },
  {
   "cell_type": "code",
   "execution_count": 87,
   "id": "47451afd",
   "metadata": {},
   "outputs": [
    {
     "data": {
      "text/plain": [
       "array([0., 1., 2.])"
      ]
     },
     "execution_count": 87,
     "metadata": {},
     "output_type": "execute_result"
    }
   ],
   "source": [
    "np.unique(raw_white_wine[:,11])"
   ]
  },
  {
   "cell_type": "code",
   "execution_count": 88,
   "id": "8fa998d6",
   "metadata": {},
   "outputs": [
    {
     "data": {
      "text/plain": [
       "4898"
      ]
     },
     "execution_count": 88,
     "metadata": {},
     "output_type": "execute_result"
    }
   ],
   "source": [
    "len(raw_white_wine[:,11])"
   ]
  },
  {
   "cell_type": "code",
   "execution_count": 89,
   "id": "de2592b0",
   "metadata": {},
   "outputs": [],
   "source": [
    "WhiteWine_checkpoint_II = checkpoint(\"WhiteWine-checkpoint-II\", header_white, raw_white_wine)"
   ]
  },
  {
   "cell_type": "code",
   "execution_count": 90,
   "id": "eec02189",
   "metadata": {},
   "outputs": [
    {
     "data": {
      "text/plain": [
       "array([[2., 0., 1., ..., 0., 0., 1.],\n",
       "       [2., 0., 1., ..., 0., 0., 1.],\n",
       "       [3., 0., 1., ..., 0., 0., 1.],\n",
       "       ...,\n",
       "       [2., 0., 1., ..., 0., 0., 1.],\n",
       "       [1., 0., 1., ..., 0., 2., 1.],\n",
       "       [1., 0., 1., ..., 0., 1., 1.]])"
      ]
     },
     "execution_count": 90,
     "metadata": {},
     "output_type": "execute_result"
    }
   ],
   "source": [
    "WhiteWine_checkpoint_II['data']"
   ]
  },
  {
   "cell_type": "code",
   "execution_count": 91,
   "id": "6d78f0c4",
   "metadata": {},
   "outputs": [
    {
     "data": {
      "text/plain": [
       "array([[2., 0., 1., ..., 0., 0., 1.],\n",
       "       [2., 0., 1., ..., 0., 0., 1.],\n",
       "       [3., 0., 1., ..., 0., 0., 1.],\n",
       "       ...,\n",
       "       [2., 0., 1., ..., 0., 0., 1.],\n",
       "       [1., 0., 1., ..., 0., 2., 1.],\n",
       "       [1., 0., 1., ..., 0., 1., 1.]])"
      ]
     },
     "execution_count": 91,
     "metadata": {},
     "output_type": "execute_result"
    }
   ],
   "source": [
    "raw_white_wine"
   ]
  },
  {
   "cell_type": "code",
   "execution_count": 92,
   "id": "442aff08",
   "metadata": {
    "scrolled": true
   },
   "outputs": [
    {
     "data": {
      "text/plain": [
       "array([['\"fixed acidity\"', '\"volatile acidity\"', '\"citric acid\"', ..., '\"sulphates\"', '\"alcohol\"',\n",
       "        '\"quality\"'],\n",
       "       ['2.0', '0.0', '1.0', ..., '0.0', '0.0', '1.0'],\n",
       "       ['2.0', '0.0', '1.0', ..., '0.0', '0.0', '1.0'],\n",
       "       ...,\n",
       "       ['2.0', '0.0', '1.0', ..., '0.0', '0.0', '1.0'],\n",
       "       ['1.0', '0.0', '1.0', ..., '0.0', '2.0', '1.0'],\n",
       "       ['1.0', '0.0', '1.0', ..., '0.0', '1.0', '1.0']], dtype='<U32')"
      ]
     },
     "execution_count": 92,
     "metadata": {},
     "output_type": "execute_result"
    }
   ],
   "source": [
    "white_wine_w_headers = np.vstack((header_white, raw_white_wine))\n",
    "white_wine_w_headers"
   ]
  },
  {
   "cell_type": "code",
   "execution_count": 93,
   "id": "8dbbab8d",
   "metadata": {},
   "outputs": [],
   "source": [
    "grade_A = np.array(['2.0'])\n",
    "grade_B = np.array(['1.0'])\n",
    "grade_C = np.array(['0.0'])"
   ]
  },
  {
   "cell_type": "code",
   "execution_count": 94,
   "id": "df1c350c",
   "metadata": {},
   "outputs": [],
   "source": [
    "white_wine_w_headers[:,11] = np.where(np.isin(white_wine_w_headers[:,11], grade_A), 'A', white_wine_w_headers[:,11])"
   ]
  },
  {
   "cell_type": "code",
   "execution_count": 95,
   "id": "19002cc2",
   "metadata": {},
   "outputs": [],
   "source": [
    "white_wine_w_headers[:,11] = np.where(np.isin(white_wine_w_headers[:,11], grade_B), 'B', white_wine_w_headers[:,11])"
   ]
  },
  {
   "cell_type": "code",
   "execution_count": 96,
   "id": "8df83370",
   "metadata": {},
   "outputs": [],
   "source": [
    "white_wine_w_headers[:,11] = np.where(np.isin(white_wine_w_headers[:,11], grade_C), 'C', white_wine_w_headers[:,11])"
   ]
  },
  {
   "cell_type": "code",
   "execution_count": 97,
   "id": "f120b6ab",
   "metadata": {},
   "outputs": [
    {
     "data": {
      "text/plain": [
       "array(['\"quality\"', 'A', 'B', 'C'], dtype='<U32')"
      ]
     },
     "execution_count": 97,
     "metadata": {},
     "output_type": "execute_result"
    }
   ],
   "source": [
    "np.unique(white_wine_w_headers[:,11])"
   ]
  },
  {
   "cell_type": "code",
   "execution_count": 98,
   "id": "3bcddeda",
   "metadata": {},
   "outputs": [],
   "source": [
    "np.savetxt(\"White-Wine-PreProcessed-wGrades.csv\", white_wine_w_headers, fmt = '%s', delimiter = ',')"
   ]
  },
  {
   "cell_type": "code",
   "execution_count": 99,
   "id": "08c552a5",
   "metadata": {},
   "outputs": [],
   "source": [
    "import pandas as pd"
   ]
  },
  {
   "cell_type": "code",
   "execution_count": 100,
   "id": "ac0a3675",
   "metadata": {},
   "outputs": [
    {
     "data": {
      "text/html": [
       "<div>\n",
       "<style scoped>\n",
       "    .dataframe tbody tr th:only-of-type {\n",
       "        vertical-align: middle;\n",
       "    }\n",
       "\n",
       "    .dataframe tbody tr th {\n",
       "        vertical-align: top;\n",
       "    }\n",
       "\n",
       "    .dataframe thead th {\n",
       "        text-align: right;\n",
       "    }\n",
       "</style>\n",
       "<table border=\"1\" class=\"dataframe\">\n",
       "  <thead>\n",
       "    <tr style=\"text-align: right;\">\n",
       "      <th></th>\n",
       "      <th>fixed acidity</th>\n",
       "      <th>volatile acidity</th>\n",
       "      <th>citric acid</th>\n",
       "      <th>residual sugar</th>\n",
       "      <th>chlorides</th>\n",
       "      <th>free sulfur dioxide</th>\n",
       "      <th>total sulfur dioxide</th>\n",
       "      <th>density</th>\n",
       "      <th>pH</th>\n",
       "      <th>sulphates</th>\n",
       "      <th>alcohol</th>\n",
       "      <th>quality</th>\n",
       "    </tr>\n",
       "  </thead>\n",
       "  <tbody>\n",
       "    <tr>\n",
       "      <th>0</th>\n",
       "      <td>2.0</td>\n",
       "      <td>0.0</td>\n",
       "      <td>1.0</td>\n",
       "      <td>0.0</td>\n",
       "      <td>0.0</td>\n",
       "      <td>0.0</td>\n",
       "      <td>1.0</td>\n",
       "      <td>1.0</td>\n",
       "      <td>1.0</td>\n",
       "      <td>0.0</td>\n",
       "      <td>0.0</td>\n",
       "      <td>B</td>\n",
       "    </tr>\n",
       "    <tr>\n",
       "      <th>1</th>\n",
       "      <td>2.0</td>\n",
       "      <td>0.0</td>\n",
       "      <td>1.0</td>\n",
       "      <td>0.0</td>\n",
       "      <td>0.0</td>\n",
       "      <td>0.0</td>\n",
       "      <td>1.0</td>\n",
       "      <td>1.0</td>\n",
       "      <td>0.0</td>\n",
       "      <td>0.0</td>\n",
       "      <td>0.0</td>\n",
       "      <td>B</td>\n",
       "    </tr>\n",
       "    <tr>\n",
       "      <th>2</th>\n",
       "      <td>3.0</td>\n",
       "      <td>0.0</td>\n",
       "      <td>1.0</td>\n",
       "      <td>0.0</td>\n",
       "      <td>0.0</td>\n",
       "      <td>1.0</td>\n",
       "      <td>1.0</td>\n",
       "      <td>1.0</td>\n",
       "      <td>0.0</td>\n",
       "      <td>0.0</td>\n",
       "      <td>0.0</td>\n",
       "      <td>B</td>\n",
       "    </tr>\n",
       "    <tr>\n",
       "      <th>3</th>\n",
       "      <td>2.0</td>\n",
       "      <td>0.0</td>\n",
       "      <td>1.0</td>\n",
       "      <td>0.0</td>\n",
       "      <td>0.0</td>\n",
       "      <td>0.0</td>\n",
       "      <td>1.0</td>\n",
       "      <td>1.0</td>\n",
       "      <td>0.0</td>\n",
       "      <td>0.0</td>\n",
       "      <td>0.0</td>\n",
       "      <td>B</td>\n",
       "    </tr>\n",
       "    <tr>\n",
       "      <th>4</th>\n",
       "      <td>2.0</td>\n",
       "      <td>0.0</td>\n",
       "      <td>1.0</td>\n",
       "      <td>0.0</td>\n",
       "      <td>0.0</td>\n",
       "      <td>0.0</td>\n",
       "      <td>1.0</td>\n",
       "      <td>1.0</td>\n",
       "      <td>0.0</td>\n",
       "      <td>0.0</td>\n",
       "      <td>0.0</td>\n",
       "      <td>B</td>\n",
       "    </tr>\n",
       "    <tr>\n",
       "      <th>...</th>\n",
       "      <td>...</td>\n",
       "      <td>...</td>\n",
       "      <td>...</td>\n",
       "      <td>...</td>\n",
       "      <td>...</td>\n",
       "      <td>...</td>\n",
       "      <td>...</td>\n",
       "      <td>...</td>\n",
       "      <td>...</td>\n",
       "      <td>...</td>\n",
       "      <td>...</td>\n",
       "      <td>...</td>\n",
       "    </tr>\n",
       "    <tr>\n",
       "      <th>4893</th>\n",
       "      <td>1.0</td>\n",
       "      <td>0.0</td>\n",
       "      <td>1.0</td>\n",
       "      <td>0.0</td>\n",
       "      <td>0.0</td>\n",
       "      <td>0.0</td>\n",
       "      <td>1.0</td>\n",
       "      <td>1.0</td>\n",
       "      <td>0.0</td>\n",
       "      <td>0.0</td>\n",
       "      <td>0.0</td>\n",
       "      <td>B</td>\n",
       "    </tr>\n",
       "    <tr>\n",
       "      <th>4894</th>\n",
       "      <td>2.0</td>\n",
       "      <td>0.0</td>\n",
       "      <td>1.0</td>\n",
       "      <td>0.0</td>\n",
       "      <td>0.0</td>\n",
       "      <td>0.0</td>\n",
       "      <td>1.0</td>\n",
       "      <td>1.0</td>\n",
       "      <td>0.0</td>\n",
       "      <td>0.0</td>\n",
       "      <td>0.0</td>\n",
       "      <td>B</td>\n",
       "    </tr>\n",
       "    <tr>\n",
       "      <th>4895</th>\n",
       "      <td>2.0</td>\n",
       "      <td>0.0</td>\n",
       "      <td>1.0</td>\n",
       "      <td>0.0</td>\n",
       "      <td>0.0</td>\n",
       "      <td>1.0</td>\n",
       "      <td>1.0</td>\n",
       "      <td>1.0</td>\n",
       "      <td>0.0</td>\n",
       "      <td>0.0</td>\n",
       "      <td>0.0</td>\n",
       "      <td>B</td>\n",
       "    </tr>\n",
       "    <tr>\n",
       "      <th>4896</th>\n",
       "      <td>1.0</td>\n",
       "      <td>0.0</td>\n",
       "      <td>1.0</td>\n",
       "      <td>0.0</td>\n",
       "      <td>0.0</td>\n",
       "      <td>0.0</td>\n",
       "      <td>1.0</td>\n",
       "      <td>1.0</td>\n",
       "      <td>0.0</td>\n",
       "      <td>0.0</td>\n",
       "      <td>2.0</td>\n",
       "      <td>B</td>\n",
       "    </tr>\n",
       "    <tr>\n",
       "      <th>4897</th>\n",
       "      <td>1.0</td>\n",
       "      <td>0.0</td>\n",
       "      <td>1.0</td>\n",
       "      <td>0.0</td>\n",
       "      <td>0.0</td>\n",
       "      <td>0.0</td>\n",
       "      <td>1.0</td>\n",
       "      <td>1.0</td>\n",
       "      <td>0.0</td>\n",
       "      <td>0.0</td>\n",
       "      <td>1.0</td>\n",
       "      <td>B</td>\n",
       "    </tr>\n",
       "  </tbody>\n",
       "</table>\n",
       "<p>4898 rows × 12 columns</p>\n",
       "</div>"
      ],
      "text/plain": [
       "      fixed acidity  volatile acidity  citric acid  residual sugar  chlorides  \\\n",
       "0               2.0               0.0          1.0             0.0        0.0   \n",
       "1               2.0               0.0          1.0             0.0        0.0   \n",
       "2               3.0               0.0          1.0             0.0        0.0   \n",
       "3               2.0               0.0          1.0             0.0        0.0   \n",
       "4               2.0               0.0          1.0             0.0        0.0   \n",
       "...             ...               ...          ...             ...        ...   \n",
       "4893            1.0               0.0          1.0             0.0        0.0   \n",
       "4894            2.0               0.0          1.0             0.0        0.0   \n",
       "4895            2.0               0.0          1.0             0.0        0.0   \n",
       "4896            1.0               0.0          1.0             0.0        0.0   \n",
       "4897            1.0               0.0          1.0             0.0        0.0   \n",
       "\n",
       "      free sulfur dioxide  total sulfur dioxide  density   pH  sulphates  \\\n",
       "0                     0.0                   1.0      1.0  1.0        0.0   \n",
       "1                     0.0                   1.0      1.0  0.0        0.0   \n",
       "2                     1.0                   1.0      1.0  0.0        0.0   \n",
       "3                     0.0                   1.0      1.0  0.0        0.0   \n",
       "4                     0.0                   1.0      1.0  0.0        0.0   \n",
       "...                   ...                   ...      ...  ...        ...   \n",
       "4893                  0.0                   1.0      1.0  0.0        0.0   \n",
       "4894                  0.0                   1.0      1.0  0.0        0.0   \n",
       "4895                  1.0                   1.0      1.0  0.0        0.0   \n",
       "4896                  0.0                   1.0      1.0  0.0        0.0   \n",
       "4897                  0.0                   1.0      1.0  0.0        0.0   \n",
       "\n",
       "      alcohol quality  \n",
       "0         0.0       B  \n",
       "1         0.0       B  \n",
       "2         0.0       B  \n",
       "3         0.0       B  \n",
       "4         0.0       B  \n",
       "...       ...     ...  \n",
       "4893      0.0       B  \n",
       "4894      0.0       B  \n",
       "4895      0.0       B  \n",
       "4896      2.0       B  \n",
       "4897      1.0       B  \n",
       "\n",
       "[4898 rows x 12 columns]"
      ]
     },
     "execution_count": 100,
     "metadata": {},
     "output_type": "execute_result"
    }
   ],
   "source": [
    "white_wine_df = pd.read_csv(\"White-Wine-PreProcessed-wGrades.csv\", delimiter = ',')\n",
    "white_wine_df"
   ]
  },
  {
   "cell_type": "code",
   "execution_count": 101,
   "id": "b6145908",
   "metadata": {},
   "outputs": [
    {
     "data": {
      "text/html": [
       "<div>\n",
       "<style scoped>\n",
       "    .dataframe tbody tr th:only-of-type {\n",
       "        vertical-align: middle;\n",
       "    }\n",
       "\n",
       "    .dataframe tbody tr th {\n",
       "        vertical-align: top;\n",
       "    }\n",
       "\n",
       "    .dataframe thead th {\n",
       "        text-align: right;\n",
       "    }\n",
       "</style>\n",
       "<table border=\"1\" class=\"dataframe\">\n",
       "  <thead>\n",
       "    <tr style=\"text-align: right;\">\n",
       "      <th></th>\n",
       "      <th>fixed acidity</th>\n",
       "      <th>volatile acidity</th>\n",
       "      <th>citric acid</th>\n",
       "      <th>residual sugar</th>\n",
       "      <th>chlorides</th>\n",
       "      <th>free sulfur dioxide</th>\n",
       "      <th>total sulfur dioxide</th>\n",
       "      <th>pH</th>\n",
       "      <th>sulphates</th>\n",
       "      <th>alcohol</th>\n",
       "      <th>quality</th>\n",
       "    </tr>\n",
       "  </thead>\n",
       "  <tbody>\n",
       "    <tr>\n",
       "      <th>0</th>\n",
       "      <td>2.0</td>\n",
       "      <td>0.0</td>\n",
       "      <td>1.0</td>\n",
       "      <td>0.0</td>\n",
       "      <td>0.0</td>\n",
       "      <td>0.0</td>\n",
       "      <td>1.0</td>\n",
       "      <td>1.0</td>\n",
       "      <td>0.0</td>\n",
       "      <td>0.0</td>\n",
       "      <td>B</td>\n",
       "    </tr>\n",
       "    <tr>\n",
       "      <th>1</th>\n",
       "      <td>2.0</td>\n",
       "      <td>0.0</td>\n",
       "      <td>1.0</td>\n",
       "      <td>0.0</td>\n",
       "      <td>0.0</td>\n",
       "      <td>0.0</td>\n",
       "      <td>1.0</td>\n",
       "      <td>0.0</td>\n",
       "      <td>0.0</td>\n",
       "      <td>0.0</td>\n",
       "      <td>B</td>\n",
       "    </tr>\n",
       "    <tr>\n",
       "      <th>2</th>\n",
       "      <td>3.0</td>\n",
       "      <td>0.0</td>\n",
       "      <td>1.0</td>\n",
       "      <td>0.0</td>\n",
       "      <td>0.0</td>\n",
       "      <td>1.0</td>\n",
       "      <td>1.0</td>\n",
       "      <td>0.0</td>\n",
       "      <td>0.0</td>\n",
       "      <td>0.0</td>\n",
       "      <td>B</td>\n",
       "    </tr>\n",
       "    <tr>\n",
       "      <th>3</th>\n",
       "      <td>2.0</td>\n",
       "      <td>0.0</td>\n",
       "      <td>1.0</td>\n",
       "      <td>0.0</td>\n",
       "      <td>0.0</td>\n",
       "      <td>0.0</td>\n",
       "      <td>1.0</td>\n",
       "      <td>0.0</td>\n",
       "      <td>0.0</td>\n",
       "      <td>0.0</td>\n",
       "      <td>B</td>\n",
       "    </tr>\n",
       "    <tr>\n",
       "      <th>4</th>\n",
       "      <td>2.0</td>\n",
       "      <td>0.0</td>\n",
       "      <td>1.0</td>\n",
       "      <td>0.0</td>\n",
       "      <td>0.0</td>\n",
       "      <td>0.0</td>\n",
       "      <td>1.0</td>\n",
       "      <td>0.0</td>\n",
       "      <td>0.0</td>\n",
       "      <td>0.0</td>\n",
       "      <td>B</td>\n",
       "    </tr>\n",
       "    <tr>\n",
       "      <th>...</th>\n",
       "      <td>...</td>\n",
       "      <td>...</td>\n",
       "      <td>...</td>\n",
       "      <td>...</td>\n",
       "      <td>...</td>\n",
       "      <td>...</td>\n",
       "      <td>...</td>\n",
       "      <td>...</td>\n",
       "      <td>...</td>\n",
       "      <td>...</td>\n",
       "      <td>...</td>\n",
       "    </tr>\n",
       "    <tr>\n",
       "      <th>4893</th>\n",
       "      <td>1.0</td>\n",
       "      <td>0.0</td>\n",
       "      <td>1.0</td>\n",
       "      <td>0.0</td>\n",
       "      <td>0.0</td>\n",
       "      <td>0.0</td>\n",
       "      <td>1.0</td>\n",
       "      <td>0.0</td>\n",
       "      <td>0.0</td>\n",
       "      <td>0.0</td>\n",
       "      <td>B</td>\n",
       "    </tr>\n",
       "    <tr>\n",
       "      <th>4894</th>\n",
       "      <td>2.0</td>\n",
       "      <td>0.0</td>\n",
       "      <td>1.0</td>\n",
       "      <td>0.0</td>\n",
       "      <td>0.0</td>\n",
       "      <td>0.0</td>\n",
       "      <td>1.0</td>\n",
       "      <td>0.0</td>\n",
       "      <td>0.0</td>\n",
       "      <td>0.0</td>\n",
       "      <td>B</td>\n",
       "    </tr>\n",
       "    <tr>\n",
       "      <th>4895</th>\n",
       "      <td>2.0</td>\n",
       "      <td>0.0</td>\n",
       "      <td>1.0</td>\n",
       "      <td>0.0</td>\n",
       "      <td>0.0</td>\n",
       "      <td>1.0</td>\n",
       "      <td>1.0</td>\n",
       "      <td>0.0</td>\n",
       "      <td>0.0</td>\n",
       "      <td>0.0</td>\n",
       "      <td>B</td>\n",
       "    </tr>\n",
       "    <tr>\n",
       "      <th>4896</th>\n",
       "      <td>1.0</td>\n",
       "      <td>0.0</td>\n",
       "      <td>1.0</td>\n",
       "      <td>0.0</td>\n",
       "      <td>0.0</td>\n",
       "      <td>0.0</td>\n",
       "      <td>1.0</td>\n",
       "      <td>0.0</td>\n",
       "      <td>0.0</td>\n",
       "      <td>2.0</td>\n",
       "      <td>B</td>\n",
       "    </tr>\n",
       "    <tr>\n",
       "      <th>4897</th>\n",
       "      <td>1.0</td>\n",
       "      <td>0.0</td>\n",
       "      <td>1.0</td>\n",
       "      <td>0.0</td>\n",
       "      <td>0.0</td>\n",
       "      <td>0.0</td>\n",
       "      <td>1.0</td>\n",
       "      <td>0.0</td>\n",
       "      <td>0.0</td>\n",
       "      <td>1.0</td>\n",
       "      <td>B</td>\n",
       "    </tr>\n",
       "  </tbody>\n",
       "</table>\n",
       "<p>4898 rows × 11 columns</p>\n",
       "</div>"
      ],
      "text/plain": [
       "      fixed acidity  volatile acidity  citric acid  residual sugar  chlorides  \\\n",
       "0               2.0               0.0          1.0             0.0        0.0   \n",
       "1               2.0               0.0          1.0             0.0        0.0   \n",
       "2               3.0               0.0          1.0             0.0        0.0   \n",
       "3               2.0               0.0          1.0             0.0        0.0   \n",
       "4               2.0               0.0          1.0             0.0        0.0   \n",
       "...             ...               ...          ...             ...        ...   \n",
       "4893            1.0               0.0          1.0             0.0        0.0   \n",
       "4894            2.0               0.0          1.0             0.0        0.0   \n",
       "4895            2.0               0.0          1.0             0.0        0.0   \n",
       "4896            1.0               0.0          1.0             0.0        0.0   \n",
       "4897            1.0               0.0          1.0             0.0        0.0   \n",
       "\n",
       "      free sulfur dioxide  total sulfur dioxide   pH  sulphates  alcohol  \\\n",
       "0                     0.0                   1.0  1.0        0.0      0.0   \n",
       "1                     0.0                   1.0  0.0        0.0      0.0   \n",
       "2                     1.0                   1.0  0.0        0.0      0.0   \n",
       "3                     0.0                   1.0  0.0        0.0      0.0   \n",
       "4                     0.0                   1.0  0.0        0.0      0.0   \n",
       "...                   ...                   ...  ...        ...      ...   \n",
       "4893                  0.0                   1.0  0.0        0.0      0.0   \n",
       "4894                  0.0                   1.0  0.0        0.0      0.0   \n",
       "4895                  1.0                   1.0  0.0        0.0      0.0   \n",
       "4896                  0.0                   1.0  0.0        0.0      2.0   \n",
       "4897                  0.0                   1.0  0.0        0.0      1.0   \n",
       "\n",
       "     quality  \n",
       "0          B  \n",
       "1          B  \n",
       "2          B  \n",
       "3          B  \n",
       "4          B  \n",
       "...      ...  \n",
       "4893       B  \n",
       "4894       B  \n",
       "4895       B  \n",
       "4896       B  \n",
       "4897       B  \n",
       "\n",
       "[4898 rows x 11 columns]"
      ]
     },
     "execution_count": 101,
     "metadata": {},
     "output_type": "execute_result"
    }
   ],
   "source": [
    "# since there is no wine sample exceeding density threshold, \n",
    "# 7th column no longer carries valuable information for further analysis.\n",
    "\n",
    "white_wine_df = white_wine_df.drop(axis = 1 , columns = 'density')\n",
    "white_wine_df"
   ]
  },
  {
   "cell_type": "code",
   "execution_count": 102,
   "id": "a60c0e90",
   "metadata": {},
   "outputs": [
    {
     "data": {
      "text/html": [
       "<div>\n",
       "<style scoped>\n",
       "    .dataframe tbody tr th:only-of-type {\n",
       "        vertical-align: middle;\n",
       "    }\n",
       "\n",
       "    .dataframe tbody tr th {\n",
       "        vertical-align: top;\n",
       "    }\n",
       "\n",
       "    .dataframe thead th {\n",
       "        text-align: right;\n",
       "    }\n",
       "</style>\n",
       "<table border=\"1\" class=\"dataframe\">\n",
       "  <thead>\n",
       "    <tr style=\"text-align: right;\">\n",
       "      <th></th>\n",
       "      <th>fixed acidity</th>\n",
       "      <th>volatile acidity</th>\n",
       "      <th>citric acid</th>\n",
       "      <th>residual sugar</th>\n",
       "      <th>chlorides</th>\n",
       "      <th>free sulfur dioxide</th>\n",
       "      <th>total sulfur dioxide</th>\n",
       "      <th>pH</th>\n",
       "      <th>alcohol</th>\n",
       "      <th>quality</th>\n",
       "    </tr>\n",
       "  </thead>\n",
       "  <tbody>\n",
       "    <tr>\n",
       "      <th>0</th>\n",
       "      <td>2.0</td>\n",
       "      <td>0.0</td>\n",
       "      <td>1.0</td>\n",
       "      <td>0.0</td>\n",
       "      <td>0.0</td>\n",
       "      <td>0.0</td>\n",
       "      <td>1.0</td>\n",
       "      <td>1.0</td>\n",
       "      <td>0.0</td>\n",
       "      <td>B</td>\n",
       "    </tr>\n",
       "    <tr>\n",
       "      <th>1</th>\n",
       "      <td>2.0</td>\n",
       "      <td>0.0</td>\n",
       "      <td>1.0</td>\n",
       "      <td>0.0</td>\n",
       "      <td>0.0</td>\n",
       "      <td>0.0</td>\n",
       "      <td>1.0</td>\n",
       "      <td>0.0</td>\n",
       "      <td>0.0</td>\n",
       "      <td>B</td>\n",
       "    </tr>\n",
       "    <tr>\n",
       "      <th>2</th>\n",
       "      <td>3.0</td>\n",
       "      <td>0.0</td>\n",
       "      <td>1.0</td>\n",
       "      <td>0.0</td>\n",
       "      <td>0.0</td>\n",
       "      <td>1.0</td>\n",
       "      <td>1.0</td>\n",
       "      <td>0.0</td>\n",
       "      <td>0.0</td>\n",
       "      <td>B</td>\n",
       "    </tr>\n",
       "    <tr>\n",
       "      <th>3</th>\n",
       "      <td>2.0</td>\n",
       "      <td>0.0</td>\n",
       "      <td>1.0</td>\n",
       "      <td>0.0</td>\n",
       "      <td>0.0</td>\n",
       "      <td>0.0</td>\n",
       "      <td>1.0</td>\n",
       "      <td>0.0</td>\n",
       "      <td>0.0</td>\n",
       "      <td>B</td>\n",
       "    </tr>\n",
       "    <tr>\n",
       "      <th>4</th>\n",
       "      <td>2.0</td>\n",
       "      <td>0.0</td>\n",
       "      <td>1.0</td>\n",
       "      <td>0.0</td>\n",
       "      <td>0.0</td>\n",
       "      <td>0.0</td>\n",
       "      <td>1.0</td>\n",
       "      <td>0.0</td>\n",
       "      <td>0.0</td>\n",
       "      <td>B</td>\n",
       "    </tr>\n",
       "    <tr>\n",
       "      <th>...</th>\n",
       "      <td>...</td>\n",
       "      <td>...</td>\n",
       "      <td>...</td>\n",
       "      <td>...</td>\n",
       "      <td>...</td>\n",
       "      <td>...</td>\n",
       "      <td>...</td>\n",
       "      <td>...</td>\n",
       "      <td>...</td>\n",
       "      <td>...</td>\n",
       "    </tr>\n",
       "    <tr>\n",
       "      <th>4893</th>\n",
       "      <td>1.0</td>\n",
       "      <td>0.0</td>\n",
       "      <td>1.0</td>\n",
       "      <td>0.0</td>\n",
       "      <td>0.0</td>\n",
       "      <td>0.0</td>\n",
       "      <td>1.0</td>\n",
       "      <td>0.0</td>\n",
       "      <td>0.0</td>\n",
       "      <td>B</td>\n",
       "    </tr>\n",
       "    <tr>\n",
       "      <th>4894</th>\n",
       "      <td>2.0</td>\n",
       "      <td>0.0</td>\n",
       "      <td>1.0</td>\n",
       "      <td>0.0</td>\n",
       "      <td>0.0</td>\n",
       "      <td>0.0</td>\n",
       "      <td>1.0</td>\n",
       "      <td>0.0</td>\n",
       "      <td>0.0</td>\n",
       "      <td>B</td>\n",
       "    </tr>\n",
       "    <tr>\n",
       "      <th>4895</th>\n",
       "      <td>2.0</td>\n",
       "      <td>0.0</td>\n",
       "      <td>1.0</td>\n",
       "      <td>0.0</td>\n",
       "      <td>0.0</td>\n",
       "      <td>1.0</td>\n",
       "      <td>1.0</td>\n",
       "      <td>0.0</td>\n",
       "      <td>0.0</td>\n",
       "      <td>B</td>\n",
       "    </tr>\n",
       "    <tr>\n",
       "      <th>4896</th>\n",
       "      <td>1.0</td>\n",
       "      <td>0.0</td>\n",
       "      <td>1.0</td>\n",
       "      <td>0.0</td>\n",
       "      <td>0.0</td>\n",
       "      <td>0.0</td>\n",
       "      <td>1.0</td>\n",
       "      <td>0.0</td>\n",
       "      <td>2.0</td>\n",
       "      <td>B</td>\n",
       "    </tr>\n",
       "    <tr>\n",
       "      <th>4897</th>\n",
       "      <td>1.0</td>\n",
       "      <td>0.0</td>\n",
       "      <td>1.0</td>\n",
       "      <td>0.0</td>\n",
       "      <td>0.0</td>\n",
       "      <td>0.0</td>\n",
       "      <td>1.0</td>\n",
       "      <td>0.0</td>\n",
       "      <td>1.0</td>\n",
       "      <td>B</td>\n",
       "    </tr>\n",
       "  </tbody>\n",
       "</table>\n",
       "<p>4898 rows × 10 columns</p>\n",
       "</div>"
      ],
      "text/plain": [
       "      fixed acidity  volatile acidity  citric acid  residual sugar  chlorides  \\\n",
       "0               2.0               0.0          1.0             0.0        0.0   \n",
       "1               2.0               0.0          1.0             0.0        0.0   \n",
       "2               3.0               0.0          1.0             0.0        0.0   \n",
       "3               2.0               0.0          1.0             0.0        0.0   \n",
       "4               2.0               0.0          1.0             0.0        0.0   \n",
       "...             ...               ...          ...             ...        ...   \n",
       "4893            1.0               0.0          1.0             0.0        0.0   \n",
       "4894            2.0               0.0          1.0             0.0        0.0   \n",
       "4895            2.0               0.0          1.0             0.0        0.0   \n",
       "4896            1.0               0.0          1.0             0.0        0.0   \n",
       "4897            1.0               0.0          1.0             0.0        0.0   \n",
       "\n",
       "      free sulfur dioxide  total sulfur dioxide   pH  alcohol quality  \n",
       "0                     0.0                   1.0  1.0      0.0       B  \n",
       "1                     0.0                   1.0  0.0      0.0       B  \n",
       "2                     1.0                   1.0  0.0      0.0       B  \n",
       "3                     0.0                   1.0  0.0      0.0       B  \n",
       "4                     0.0                   1.0  0.0      0.0       B  \n",
       "...                   ...                   ...  ...      ...     ...  \n",
       "4893                  0.0                   1.0  0.0      0.0       B  \n",
       "4894                  0.0                   1.0  0.0      0.0       B  \n",
       "4895                  1.0                   1.0  0.0      0.0       B  \n",
       "4896                  0.0                   1.0  0.0      2.0       B  \n",
       "4897                  0.0                   1.0  0.0      1.0       B  \n",
       "\n",
       "[4898 rows x 10 columns]"
      ]
     },
     "execution_count": 102,
     "metadata": {},
     "output_type": "execute_result"
    }
   ],
   "source": [
    "# since there is no wine sample denoted by 1.0 in sulphates category, \n",
    "# 8th column no longer carries valuable information for further analysis.\n",
    "\n",
    "white_wine_df = white_wine_df.drop(axis =1 , columns = 'sulphates')\n",
    "white_wine_df"
   ]
  },
  {
   "cell_type": "code",
   "execution_count": 103,
   "id": "573655bb",
   "metadata": {},
   "outputs": [
    {
     "data": {
      "text/plain": [
       "array(['\"fixed acidity\"', '\"volatile acidity\"', '\"citric acid\"', '\"residual sugar\"', '\"chlorides\"',\n",
       "       '\"free sulfur dioxide\"', '\"total sulfur dioxide\"', '\"density\"', '\"pH\"', '\"sulphates\"',\n",
       "       '\"alcohol\"', '\"quality\"'], dtype='<U22')"
      ]
     },
     "execution_count": 103,
     "metadata": {},
     "output_type": "execute_result"
    }
   ],
   "source": [
    "header_white"
   ]
  },
  {
   "cell_type": "code",
   "execution_count": 104,
   "id": "d29e5c57",
   "metadata": {},
   "outputs": [],
   "source": [
    "white_wine_df = white_wine_df.rename(columns = {\"fixed acidity\": \"Fixed Acidity\", \n",
    "                                                \"volatile acidity\": \"Volatile Acidity\",\n",
    "                                                \"citric acid\": \"Citric Acid\", \"residual sugar\": \"Residual Sugar\",\n",
    "                                                \"chlorides\": \"Chlorides\", \"free sulfur dioxide\": \"Free SO2\",\n",
    "                                                \"total sulfur dioxide\": \"Total SO2\", \"pH\": \"pH\", \n",
    "                                                \"alcohol\": \"Alcohol\", \"quality\": \"Quality Grade\"})"
   ]
  },
  {
   "cell_type": "code",
   "execution_count": 105,
   "id": "be393c21",
   "metadata": {
    "scrolled": true
   },
   "outputs": [
    {
     "data": {
      "text/html": [
       "<div>\n",
       "<style scoped>\n",
       "    .dataframe tbody tr th:only-of-type {\n",
       "        vertical-align: middle;\n",
       "    }\n",
       "\n",
       "    .dataframe tbody tr th {\n",
       "        vertical-align: top;\n",
       "    }\n",
       "\n",
       "    .dataframe thead th {\n",
       "        text-align: right;\n",
       "    }\n",
       "</style>\n",
       "<table border=\"1\" class=\"dataframe\">\n",
       "  <thead>\n",
       "    <tr style=\"text-align: right;\">\n",
       "      <th></th>\n",
       "      <th>Fixed Acidity</th>\n",
       "      <th>Volatile Acidity</th>\n",
       "      <th>Citric Acid</th>\n",
       "      <th>Residual Sugar</th>\n",
       "      <th>Chlorides</th>\n",
       "      <th>Free SO2</th>\n",
       "      <th>Total SO2</th>\n",
       "      <th>pH</th>\n",
       "      <th>Alcohol</th>\n",
       "      <th>Quality Grade</th>\n",
       "    </tr>\n",
       "  </thead>\n",
       "  <tbody>\n",
       "    <tr>\n",
       "      <th>0</th>\n",
       "      <td>2.0</td>\n",
       "      <td>0.0</td>\n",
       "      <td>1.0</td>\n",
       "      <td>0.0</td>\n",
       "      <td>0.0</td>\n",
       "      <td>0.0</td>\n",
       "      <td>1.0</td>\n",
       "      <td>1.0</td>\n",
       "      <td>0.0</td>\n",
       "      <td>B</td>\n",
       "    </tr>\n",
       "    <tr>\n",
       "      <th>1</th>\n",
       "      <td>2.0</td>\n",
       "      <td>0.0</td>\n",
       "      <td>1.0</td>\n",
       "      <td>0.0</td>\n",
       "      <td>0.0</td>\n",
       "      <td>0.0</td>\n",
       "      <td>1.0</td>\n",
       "      <td>0.0</td>\n",
       "      <td>0.0</td>\n",
       "      <td>B</td>\n",
       "    </tr>\n",
       "    <tr>\n",
       "      <th>2</th>\n",
       "      <td>3.0</td>\n",
       "      <td>0.0</td>\n",
       "      <td>1.0</td>\n",
       "      <td>0.0</td>\n",
       "      <td>0.0</td>\n",
       "      <td>1.0</td>\n",
       "      <td>1.0</td>\n",
       "      <td>0.0</td>\n",
       "      <td>0.0</td>\n",
       "      <td>B</td>\n",
       "    </tr>\n",
       "    <tr>\n",
       "      <th>3</th>\n",
       "      <td>2.0</td>\n",
       "      <td>0.0</td>\n",
       "      <td>1.0</td>\n",
       "      <td>0.0</td>\n",
       "      <td>0.0</td>\n",
       "      <td>0.0</td>\n",
       "      <td>1.0</td>\n",
       "      <td>0.0</td>\n",
       "      <td>0.0</td>\n",
       "      <td>B</td>\n",
       "    </tr>\n",
       "    <tr>\n",
       "      <th>4</th>\n",
       "      <td>2.0</td>\n",
       "      <td>0.0</td>\n",
       "      <td>1.0</td>\n",
       "      <td>0.0</td>\n",
       "      <td>0.0</td>\n",
       "      <td>0.0</td>\n",
       "      <td>1.0</td>\n",
       "      <td>0.0</td>\n",
       "      <td>0.0</td>\n",
       "      <td>B</td>\n",
       "    </tr>\n",
       "    <tr>\n",
       "      <th>...</th>\n",
       "      <td>...</td>\n",
       "      <td>...</td>\n",
       "      <td>...</td>\n",
       "      <td>...</td>\n",
       "      <td>...</td>\n",
       "      <td>...</td>\n",
       "      <td>...</td>\n",
       "      <td>...</td>\n",
       "      <td>...</td>\n",
       "      <td>...</td>\n",
       "    </tr>\n",
       "    <tr>\n",
       "      <th>4893</th>\n",
       "      <td>1.0</td>\n",
       "      <td>0.0</td>\n",
       "      <td>1.0</td>\n",
       "      <td>0.0</td>\n",
       "      <td>0.0</td>\n",
       "      <td>0.0</td>\n",
       "      <td>1.0</td>\n",
       "      <td>0.0</td>\n",
       "      <td>0.0</td>\n",
       "      <td>B</td>\n",
       "    </tr>\n",
       "    <tr>\n",
       "      <th>4894</th>\n",
       "      <td>2.0</td>\n",
       "      <td>0.0</td>\n",
       "      <td>1.0</td>\n",
       "      <td>0.0</td>\n",
       "      <td>0.0</td>\n",
       "      <td>0.0</td>\n",
       "      <td>1.0</td>\n",
       "      <td>0.0</td>\n",
       "      <td>0.0</td>\n",
       "      <td>B</td>\n",
       "    </tr>\n",
       "    <tr>\n",
       "      <th>4895</th>\n",
       "      <td>2.0</td>\n",
       "      <td>0.0</td>\n",
       "      <td>1.0</td>\n",
       "      <td>0.0</td>\n",
       "      <td>0.0</td>\n",
       "      <td>1.0</td>\n",
       "      <td>1.0</td>\n",
       "      <td>0.0</td>\n",
       "      <td>0.0</td>\n",
       "      <td>B</td>\n",
       "    </tr>\n",
       "    <tr>\n",
       "      <th>4896</th>\n",
       "      <td>1.0</td>\n",
       "      <td>0.0</td>\n",
       "      <td>1.0</td>\n",
       "      <td>0.0</td>\n",
       "      <td>0.0</td>\n",
       "      <td>0.0</td>\n",
       "      <td>1.0</td>\n",
       "      <td>0.0</td>\n",
       "      <td>2.0</td>\n",
       "      <td>B</td>\n",
       "    </tr>\n",
       "    <tr>\n",
       "      <th>4897</th>\n",
       "      <td>1.0</td>\n",
       "      <td>0.0</td>\n",
       "      <td>1.0</td>\n",
       "      <td>0.0</td>\n",
       "      <td>0.0</td>\n",
       "      <td>0.0</td>\n",
       "      <td>1.0</td>\n",
       "      <td>0.0</td>\n",
       "      <td>1.0</td>\n",
       "      <td>B</td>\n",
       "    </tr>\n",
       "  </tbody>\n",
       "</table>\n",
       "<p>4898 rows × 10 columns</p>\n",
       "</div>"
      ],
      "text/plain": [
       "      Fixed Acidity  Volatile Acidity  Citric Acid  Residual Sugar  Chlorides  \\\n",
       "0               2.0               0.0          1.0             0.0        0.0   \n",
       "1               2.0               0.0          1.0             0.0        0.0   \n",
       "2               3.0               0.0          1.0             0.0        0.0   \n",
       "3               2.0               0.0          1.0             0.0        0.0   \n",
       "4               2.0               0.0          1.0             0.0        0.0   \n",
       "...             ...               ...          ...             ...        ...   \n",
       "4893            1.0               0.0          1.0             0.0        0.0   \n",
       "4894            2.0               0.0          1.0             0.0        0.0   \n",
       "4895            2.0               0.0          1.0             0.0        0.0   \n",
       "4896            1.0               0.0          1.0             0.0        0.0   \n",
       "4897            1.0               0.0          1.0             0.0        0.0   \n",
       "\n",
       "      Free SO2  Total SO2   pH  Alcohol Quality Grade  \n",
       "0          0.0        1.0  1.0      0.0             B  \n",
       "1          0.0        1.0  0.0      0.0             B  \n",
       "2          1.0        1.0  0.0      0.0             B  \n",
       "3          0.0        1.0  0.0      0.0             B  \n",
       "4          0.0        1.0  0.0      0.0             B  \n",
       "...        ...        ...  ...      ...           ...  \n",
       "4893       0.0        1.0  0.0      0.0             B  \n",
       "4894       0.0        1.0  0.0      0.0             B  \n",
       "4895       1.0        1.0  0.0      0.0             B  \n",
       "4896       0.0        1.0  0.0      2.0             B  \n",
       "4897       0.0        1.0  0.0      1.0             B  \n",
       "\n",
       "[4898 rows x 10 columns]"
      ]
     },
     "execution_count": 105,
     "metadata": {},
     "output_type": "execute_result"
    }
   ],
   "source": [
    "white_wine_df"
   ]
  },
  {
   "cell_type": "code",
   "execution_count": 106,
   "id": "3c5cd1bf",
   "metadata": {},
   "outputs": [],
   "source": [
    "white_wine_df.to_csv(\"White-Wine-Preprocessed-V2.csv\", sep = ',')"
   ]
  },
  {
   "cell_type": "code",
   "execution_count": 107,
   "id": "ac8c39e9",
   "metadata": {},
   "outputs": [
    {
     "data": {
      "text/html": [
       "<div>\n",
       "<style scoped>\n",
       "    .dataframe tbody tr th:only-of-type {\n",
       "        vertical-align: middle;\n",
       "    }\n",
       "\n",
       "    .dataframe tbody tr th {\n",
       "        vertical-align: top;\n",
       "    }\n",
       "\n",
       "    .dataframe thead th {\n",
       "        text-align: right;\n",
       "    }\n",
       "</style>\n",
       "<table border=\"1\" class=\"dataframe\">\n",
       "  <thead>\n",
       "    <tr style=\"text-align: right;\">\n",
       "      <th></th>\n",
       "      <th>Fixed Acidity</th>\n",
       "      <th>Volatile Acidity</th>\n",
       "      <th>Citric Acid</th>\n",
       "      <th>Residual Sugar</th>\n",
       "      <th>Chlorides</th>\n",
       "      <th>Free SO2</th>\n",
       "      <th>Total SO2</th>\n",
       "      <th>pH</th>\n",
       "      <th>Alcohol</th>\n",
       "      <th>Quality Grade</th>\n",
       "    </tr>\n",
       "  </thead>\n",
       "  <tbody>\n",
       "    <tr>\n",
       "      <th>0</th>\n",
       "      <td>2.0</td>\n",
       "      <td>0.0</td>\n",
       "      <td>1.0</td>\n",
       "      <td>0.0</td>\n",
       "      <td>0.0</td>\n",
       "      <td>0.0</td>\n",
       "      <td>1.0</td>\n",
       "      <td>1.0</td>\n",
       "      <td>0.0</td>\n",
       "      <td>B</td>\n",
       "    </tr>\n",
       "    <tr>\n",
       "      <th>1</th>\n",
       "      <td>2.0</td>\n",
       "      <td>0.0</td>\n",
       "      <td>1.0</td>\n",
       "      <td>0.0</td>\n",
       "      <td>0.0</td>\n",
       "      <td>0.0</td>\n",
       "      <td>1.0</td>\n",
       "      <td>0.0</td>\n",
       "      <td>0.0</td>\n",
       "      <td>B</td>\n",
       "    </tr>\n",
       "    <tr>\n",
       "      <th>2</th>\n",
       "      <td>3.0</td>\n",
       "      <td>0.0</td>\n",
       "      <td>1.0</td>\n",
       "      <td>0.0</td>\n",
       "      <td>0.0</td>\n",
       "      <td>1.0</td>\n",
       "      <td>1.0</td>\n",
       "      <td>0.0</td>\n",
       "      <td>0.0</td>\n",
       "      <td>B</td>\n",
       "    </tr>\n",
       "    <tr>\n",
       "      <th>3</th>\n",
       "      <td>2.0</td>\n",
       "      <td>0.0</td>\n",
       "      <td>1.0</td>\n",
       "      <td>0.0</td>\n",
       "      <td>0.0</td>\n",
       "      <td>0.0</td>\n",
       "      <td>1.0</td>\n",
       "      <td>0.0</td>\n",
       "      <td>0.0</td>\n",
       "      <td>B</td>\n",
       "    </tr>\n",
       "    <tr>\n",
       "      <th>4</th>\n",
       "      <td>2.0</td>\n",
       "      <td>0.0</td>\n",
       "      <td>1.0</td>\n",
       "      <td>0.0</td>\n",
       "      <td>0.0</td>\n",
       "      <td>0.0</td>\n",
       "      <td>1.0</td>\n",
       "      <td>0.0</td>\n",
       "      <td>0.0</td>\n",
       "      <td>B</td>\n",
       "    </tr>\n",
       "    <tr>\n",
       "      <th>...</th>\n",
       "      <td>...</td>\n",
       "      <td>...</td>\n",
       "      <td>...</td>\n",
       "      <td>...</td>\n",
       "      <td>...</td>\n",
       "      <td>...</td>\n",
       "      <td>...</td>\n",
       "      <td>...</td>\n",
       "      <td>...</td>\n",
       "      <td>...</td>\n",
       "    </tr>\n",
       "    <tr>\n",
       "      <th>4893</th>\n",
       "      <td>1.0</td>\n",
       "      <td>0.0</td>\n",
       "      <td>1.0</td>\n",
       "      <td>0.0</td>\n",
       "      <td>0.0</td>\n",
       "      <td>0.0</td>\n",
       "      <td>1.0</td>\n",
       "      <td>0.0</td>\n",
       "      <td>0.0</td>\n",
       "      <td>B</td>\n",
       "    </tr>\n",
       "    <tr>\n",
       "      <th>4894</th>\n",
       "      <td>2.0</td>\n",
       "      <td>0.0</td>\n",
       "      <td>1.0</td>\n",
       "      <td>0.0</td>\n",
       "      <td>0.0</td>\n",
       "      <td>0.0</td>\n",
       "      <td>1.0</td>\n",
       "      <td>0.0</td>\n",
       "      <td>0.0</td>\n",
       "      <td>B</td>\n",
       "    </tr>\n",
       "    <tr>\n",
       "      <th>4895</th>\n",
       "      <td>2.0</td>\n",
       "      <td>0.0</td>\n",
       "      <td>1.0</td>\n",
       "      <td>0.0</td>\n",
       "      <td>0.0</td>\n",
       "      <td>1.0</td>\n",
       "      <td>1.0</td>\n",
       "      <td>0.0</td>\n",
       "      <td>0.0</td>\n",
       "      <td>B</td>\n",
       "    </tr>\n",
       "    <tr>\n",
       "      <th>4896</th>\n",
       "      <td>1.0</td>\n",
       "      <td>0.0</td>\n",
       "      <td>1.0</td>\n",
       "      <td>0.0</td>\n",
       "      <td>0.0</td>\n",
       "      <td>0.0</td>\n",
       "      <td>1.0</td>\n",
       "      <td>0.0</td>\n",
       "      <td>2.0</td>\n",
       "      <td>B</td>\n",
       "    </tr>\n",
       "    <tr>\n",
       "      <th>4897</th>\n",
       "      <td>1.0</td>\n",
       "      <td>0.0</td>\n",
       "      <td>1.0</td>\n",
       "      <td>0.0</td>\n",
       "      <td>0.0</td>\n",
       "      <td>0.0</td>\n",
       "      <td>1.0</td>\n",
       "      <td>0.0</td>\n",
       "      <td>1.0</td>\n",
       "      <td>B</td>\n",
       "    </tr>\n",
       "  </tbody>\n",
       "</table>\n",
       "<p>4898 rows × 10 columns</p>\n",
       "</div>"
      ],
      "text/plain": [
       "      Fixed Acidity  Volatile Acidity  Citric Acid  Residual Sugar  Chlorides  \\\n",
       "0               2.0               0.0          1.0             0.0        0.0   \n",
       "1               2.0               0.0          1.0             0.0        0.0   \n",
       "2               3.0               0.0          1.0             0.0        0.0   \n",
       "3               2.0               0.0          1.0             0.0        0.0   \n",
       "4               2.0               0.0          1.0             0.0        0.0   \n",
       "...             ...               ...          ...             ...        ...   \n",
       "4893            1.0               0.0          1.0             0.0        0.0   \n",
       "4894            2.0               0.0          1.0             0.0        0.0   \n",
       "4895            2.0               0.0          1.0             0.0        0.0   \n",
       "4896            1.0               0.0          1.0             0.0        0.0   \n",
       "4897            1.0               0.0          1.0             0.0        0.0   \n",
       "\n",
       "      Free SO2  Total SO2   pH  Alcohol Quality Grade  \n",
       "0          0.0        1.0  1.0      0.0             B  \n",
       "1          0.0        1.0  0.0      0.0             B  \n",
       "2          1.0        1.0  0.0      0.0             B  \n",
       "3          0.0        1.0  0.0      0.0             B  \n",
       "4          0.0        1.0  0.0      0.0             B  \n",
       "...        ...        ...  ...      ...           ...  \n",
       "4893       0.0        1.0  0.0      0.0             B  \n",
       "4894       0.0        1.0  0.0      0.0             B  \n",
       "4895       1.0        1.0  0.0      0.0             B  \n",
       "4896       0.0        1.0  0.0      2.0             B  \n",
       "4897       0.0        1.0  0.0      1.0             B  \n",
       "\n",
       "[4898 rows x 10 columns]"
      ]
     },
     "execution_count": 107,
     "metadata": {},
     "output_type": "execute_result"
    }
   ],
   "source": [
    "white_wine_df2 = pd.read_csv(\"White-Wine-Preprocessed-V2.csv\", delimiter = ',', index_col = 0)\n",
    "white_wine_df2"
   ]
  },
  {
   "cell_type": "code",
   "execution_count": 108,
   "id": "a83e4d7e",
   "metadata": {},
   "outputs": [],
   "source": [
    "white_wine_sorted = white_wine_df2.sort_values('Quality Grade')"
   ]
  },
  {
   "cell_type": "code",
   "execution_count": 109,
   "id": "d7f7022a",
   "metadata": {
    "scrolled": true
   },
   "outputs": [
    {
     "data": {
      "text/html": [
       "<div>\n",
       "<style scoped>\n",
       "    .dataframe tbody tr th:only-of-type {\n",
       "        vertical-align: middle;\n",
       "    }\n",
       "\n",
       "    .dataframe tbody tr th {\n",
       "        vertical-align: top;\n",
       "    }\n",
       "\n",
       "    .dataframe thead th {\n",
       "        text-align: right;\n",
       "    }\n",
       "</style>\n",
       "<table border=\"1\" class=\"dataframe\">\n",
       "  <thead>\n",
       "    <tr style=\"text-align: right;\">\n",
       "      <th></th>\n",
       "      <th>Fixed Acidity</th>\n",
       "      <th>Volatile Acidity</th>\n",
       "      <th>Citric Acid</th>\n",
       "      <th>Residual Sugar</th>\n",
       "      <th>Chlorides</th>\n",
       "      <th>Free SO2</th>\n",
       "      <th>Total SO2</th>\n",
       "      <th>pH</th>\n",
       "      <th>Alcohol</th>\n",
       "      <th>Quality Grade</th>\n",
       "    </tr>\n",
       "  </thead>\n",
       "  <tbody>\n",
       "    <tr>\n",
       "      <th>3664</th>\n",
       "      <td>1.0</td>\n",
       "      <td>0.0</td>\n",
       "      <td>1.0</td>\n",
       "      <td>0.0</td>\n",
       "      <td>0.0</td>\n",
       "      <td>0.0</td>\n",
       "      <td>1.0</td>\n",
       "      <td>0.0</td>\n",
       "      <td>2.0</td>\n",
       "      <td>A</td>\n",
       "    </tr>\n",
       "    <tr>\n",
       "      <th>4340</th>\n",
       "      <td>2.0</td>\n",
       "      <td>0.0</td>\n",
       "      <td>1.0</td>\n",
       "      <td>0.0</td>\n",
       "      <td>0.0</td>\n",
       "      <td>0.0</td>\n",
       "      <td>1.0</td>\n",
       "      <td>0.0</td>\n",
       "      <td>0.0</td>\n",
       "      <td>A</td>\n",
       "    </tr>\n",
       "    <tr>\n",
       "      <th>3029</th>\n",
       "      <td>2.0</td>\n",
       "      <td>1.0</td>\n",
       "      <td>1.0</td>\n",
       "      <td>0.0</td>\n",
       "      <td>0.0</td>\n",
       "      <td>0.0</td>\n",
       "      <td>1.0</td>\n",
       "      <td>0.0</td>\n",
       "      <td>1.0</td>\n",
       "      <td>A</td>\n",
       "    </tr>\n",
       "    <tr>\n",
       "      <th>2774</th>\n",
       "      <td>2.0</td>\n",
       "      <td>0.0</td>\n",
       "      <td>1.0</td>\n",
       "      <td>0.0</td>\n",
       "      <td>0.0</td>\n",
       "      <td>0.0</td>\n",
       "      <td>1.0</td>\n",
       "      <td>0.0</td>\n",
       "      <td>1.0</td>\n",
       "      <td>A</td>\n",
       "    </tr>\n",
       "    <tr>\n",
       "      <th>1412</th>\n",
       "      <td>2.0</td>\n",
       "      <td>0.0</td>\n",
       "      <td>1.0</td>\n",
       "      <td>0.0</td>\n",
       "      <td>0.0</td>\n",
       "      <td>0.0</td>\n",
       "      <td>1.0</td>\n",
       "      <td>0.0</td>\n",
       "      <td>1.0</td>\n",
       "      <td>A</td>\n",
       "    </tr>\n",
       "    <tr>\n",
       "      <th>...</th>\n",
       "      <td>...</td>\n",
       "      <td>...</td>\n",
       "      <td>...</td>\n",
       "      <td>...</td>\n",
       "      <td>...</td>\n",
       "      <td>...</td>\n",
       "      <td>...</td>\n",
       "      <td>...</td>\n",
       "      <td>...</td>\n",
       "      <td>...</td>\n",
       "    </tr>\n",
       "    <tr>\n",
       "      <th>1931</th>\n",
       "      <td>2.0</td>\n",
       "      <td>1.0</td>\n",
       "      <td>1.0</td>\n",
       "      <td>0.0</td>\n",
       "      <td>0.0</td>\n",
       "      <td>0.0</td>\n",
       "      <td>1.0</td>\n",
       "      <td>0.0</td>\n",
       "      <td>0.0</td>\n",
       "      <td>C</td>\n",
       "    </tr>\n",
       "    <tr>\n",
       "      <th>3810</th>\n",
       "      <td>2.0</td>\n",
       "      <td>0.0</td>\n",
       "      <td>1.0</td>\n",
       "      <td>0.0</td>\n",
       "      <td>0.0</td>\n",
       "      <td>0.0</td>\n",
       "      <td>1.0</td>\n",
       "      <td>0.0</td>\n",
       "      <td>0.0</td>\n",
       "      <td>C</td>\n",
       "    </tr>\n",
       "    <tr>\n",
       "      <th>2373</th>\n",
       "      <td>2.0</td>\n",
       "      <td>1.0</td>\n",
       "      <td>1.0</td>\n",
       "      <td>0.0</td>\n",
       "      <td>0.0</td>\n",
       "      <td>0.0</td>\n",
       "      <td>1.0</td>\n",
       "      <td>0.0</td>\n",
       "      <td>0.0</td>\n",
       "      <td>C</td>\n",
       "    </tr>\n",
       "    <tr>\n",
       "      <th>873</th>\n",
       "      <td>4.0</td>\n",
       "      <td>0.0</td>\n",
       "      <td>1.0</td>\n",
       "      <td>1.0</td>\n",
       "      <td>0.0</td>\n",
       "      <td>0.0</td>\n",
       "      <td>1.0</td>\n",
       "      <td>0.0</td>\n",
       "      <td>0.0</td>\n",
       "      <td>C</td>\n",
       "    </tr>\n",
       "    <tr>\n",
       "      <th>1688</th>\n",
       "      <td>2.0</td>\n",
       "      <td>0.0</td>\n",
       "      <td>1.0</td>\n",
       "      <td>0.0</td>\n",
       "      <td>0.0</td>\n",
       "      <td>0.0</td>\n",
       "      <td>1.0</td>\n",
       "      <td>0.0</td>\n",
       "      <td>0.0</td>\n",
       "      <td>C</td>\n",
       "    </tr>\n",
       "  </tbody>\n",
       "</table>\n",
       "<p>4898 rows × 10 columns</p>\n",
       "</div>"
      ],
      "text/plain": [
       "      Fixed Acidity  Volatile Acidity  Citric Acid  Residual Sugar  Chlorides  \\\n",
       "3664            1.0               0.0          1.0             0.0        0.0   \n",
       "4340            2.0               0.0          1.0             0.0        0.0   \n",
       "3029            2.0               1.0          1.0             0.0        0.0   \n",
       "2774            2.0               0.0          1.0             0.0        0.0   \n",
       "1412            2.0               0.0          1.0             0.0        0.0   \n",
       "...             ...               ...          ...             ...        ...   \n",
       "1931            2.0               1.0          1.0             0.0        0.0   \n",
       "3810            2.0               0.0          1.0             0.0        0.0   \n",
       "2373            2.0               1.0          1.0             0.0        0.0   \n",
       "873             4.0               0.0          1.0             1.0        0.0   \n",
       "1688            2.0               0.0          1.0             0.0        0.0   \n",
       "\n",
       "      Free SO2  Total SO2   pH  Alcohol Quality Grade  \n",
       "3664       0.0        1.0  0.0      2.0             A  \n",
       "4340       0.0        1.0  0.0      0.0             A  \n",
       "3029       0.0        1.0  0.0      1.0             A  \n",
       "2774       0.0        1.0  0.0      1.0             A  \n",
       "1412       0.0        1.0  0.0      1.0             A  \n",
       "...        ...        ...  ...      ...           ...  \n",
       "1931       0.0        1.0  0.0      0.0             C  \n",
       "3810       0.0        1.0  0.0      0.0             C  \n",
       "2373       0.0        1.0  0.0      0.0             C  \n",
       "873        0.0        1.0  0.0      0.0             C  \n",
       "1688       0.0        1.0  0.0      0.0             C  \n",
       "\n",
       "[4898 rows x 10 columns]"
      ]
     },
     "execution_count": 109,
     "metadata": {},
     "output_type": "execute_result"
    }
   ],
   "source": [
    "white_wine_sorted"
   ]
  },
  {
   "cell_type": "code",
   "execution_count": 110,
   "id": "593b4f84",
   "metadata": {
    "scrolled": true
   },
   "outputs": [
    {
     "data": {
      "text/html": [
       "<div>\n",
       "<style scoped>\n",
       "    .dataframe tbody tr th:only-of-type {\n",
       "        vertical-align: middle;\n",
       "    }\n",
       "\n",
       "    .dataframe tbody tr th {\n",
       "        vertical-align: top;\n",
       "    }\n",
       "\n",
       "    .dataframe thead th {\n",
       "        text-align: right;\n",
       "    }\n",
       "</style>\n",
       "<table border=\"1\" class=\"dataframe\">\n",
       "  <thead>\n",
       "    <tr style=\"text-align: right;\">\n",
       "      <th></th>\n",
       "      <th>Fixed Acidity</th>\n",
       "      <th>Volatile Acidity</th>\n",
       "      <th>Citric Acid</th>\n",
       "      <th>Residual Sugar</th>\n",
       "      <th>Chlorides</th>\n",
       "      <th>Free SO2</th>\n",
       "      <th>Total SO2</th>\n",
       "      <th>pH</th>\n",
       "      <th>Alcohol</th>\n",
       "    </tr>\n",
       "  </thead>\n",
       "  <tbody>\n",
       "    <tr>\n",
       "      <th>count</th>\n",
       "      <td>4898.000000</td>\n",
       "      <td>4898.000000</td>\n",
       "      <td>4898.000000</td>\n",
       "      <td>4898.000000</td>\n",
       "      <td>4898.000000</td>\n",
       "      <td>4898.000000</td>\n",
       "      <td>4898.000000</td>\n",
       "      <td>4898.000000</td>\n",
       "      <td>4898.000000</td>\n",
       "    </tr>\n",
       "    <tr>\n",
       "      <th>mean</th>\n",
       "      <td>1.876684</td>\n",
       "      <td>0.164965</td>\n",
       "      <td>0.990608</td>\n",
       "      <td>0.179257</td>\n",
       "      <td>0.145365</td>\n",
       "      <td>0.168436</td>\n",
       "      <td>0.999592</td>\n",
       "      <td>0.025112</td>\n",
       "      <td>0.305635</td>\n",
       "    </tr>\n",
       "    <tr>\n",
       "      <th>std</th>\n",
       "      <td>0.570444</td>\n",
       "      <td>0.448879</td>\n",
       "      <td>0.096464</td>\n",
       "      <td>0.383606</td>\n",
       "      <td>0.352505</td>\n",
       "      <td>0.374291</td>\n",
       "      <td>0.020205</td>\n",
       "      <td>0.156482</td>\n",
       "      <td>0.647242</td>\n",
       "    </tr>\n",
       "    <tr>\n",
       "      <th>min</th>\n",
       "      <td>1.000000</td>\n",
       "      <td>0.000000</td>\n",
       "      <td>0.000000</td>\n",
       "      <td>0.000000</td>\n",
       "      <td>0.000000</td>\n",
       "      <td>0.000000</td>\n",
       "      <td>0.000000</td>\n",
       "      <td>0.000000</td>\n",
       "      <td>0.000000</td>\n",
       "    </tr>\n",
       "    <tr>\n",
       "      <th>25%</th>\n",
       "      <td>2.000000</td>\n",
       "      <td>0.000000</td>\n",
       "      <td>1.000000</td>\n",
       "      <td>0.000000</td>\n",
       "      <td>0.000000</td>\n",
       "      <td>0.000000</td>\n",
       "      <td>1.000000</td>\n",
       "      <td>0.000000</td>\n",
       "      <td>0.000000</td>\n",
       "    </tr>\n",
       "    <tr>\n",
       "      <th>50%</th>\n",
       "      <td>2.000000</td>\n",
       "      <td>0.000000</td>\n",
       "      <td>1.000000</td>\n",
       "      <td>0.000000</td>\n",
       "      <td>0.000000</td>\n",
       "      <td>0.000000</td>\n",
       "      <td>1.000000</td>\n",
       "      <td>0.000000</td>\n",
       "      <td>0.000000</td>\n",
       "    </tr>\n",
       "    <tr>\n",
       "      <th>75%</th>\n",
       "      <td>2.000000</td>\n",
       "      <td>0.000000</td>\n",
       "      <td>1.000000</td>\n",
       "      <td>0.000000</td>\n",
       "      <td>0.000000</td>\n",
       "      <td>0.000000</td>\n",
       "      <td>1.000000</td>\n",
       "      <td>0.000000</td>\n",
       "      <td>0.000000</td>\n",
       "    </tr>\n",
       "    <tr>\n",
       "      <th>max</th>\n",
       "      <td>4.000000</td>\n",
       "      <td>2.000000</td>\n",
       "      <td>1.000000</td>\n",
       "      <td>1.000000</td>\n",
       "      <td>1.000000</td>\n",
       "      <td>1.000000</td>\n",
       "      <td>1.000000</td>\n",
       "      <td>1.000000</td>\n",
       "      <td>2.000000</td>\n",
       "    </tr>\n",
       "  </tbody>\n",
       "</table>\n",
       "</div>"
      ],
      "text/plain": [
       "       Fixed Acidity  Volatile Acidity  Citric Acid  Residual Sugar  \\\n",
       "count    4898.000000       4898.000000  4898.000000     4898.000000   \n",
       "mean        1.876684          0.164965     0.990608        0.179257   \n",
       "std         0.570444          0.448879     0.096464        0.383606   \n",
       "min         1.000000          0.000000     0.000000        0.000000   \n",
       "25%         2.000000          0.000000     1.000000        0.000000   \n",
       "50%         2.000000          0.000000     1.000000        0.000000   \n",
       "75%         2.000000          0.000000     1.000000        0.000000   \n",
       "max         4.000000          2.000000     1.000000        1.000000   \n",
       "\n",
       "         Chlorides     Free SO2    Total SO2           pH      Alcohol  \n",
       "count  4898.000000  4898.000000  4898.000000  4898.000000  4898.000000  \n",
       "mean      0.145365     0.168436     0.999592     0.025112     0.305635  \n",
       "std       0.352505     0.374291     0.020205     0.156482     0.647242  \n",
       "min       0.000000     0.000000     0.000000     0.000000     0.000000  \n",
       "25%       0.000000     0.000000     1.000000     0.000000     0.000000  \n",
       "50%       0.000000     0.000000     1.000000     0.000000     0.000000  \n",
       "75%       0.000000     0.000000     1.000000     0.000000     0.000000  \n",
       "max       1.000000     1.000000     1.000000     1.000000     2.000000  "
      ]
     },
     "execution_count": 110,
     "metadata": {},
     "output_type": "execute_result"
    }
   ],
   "source": [
    "white_wine_sorted.describe()"
   ]
  },
  {
   "cell_type": "code",
   "execution_count": 111,
   "id": "5170f901",
   "metadata": {
    "scrolled": true
   },
   "outputs": [
    {
     "data": {
      "text/html": [
       "<div>\n",
       "<style scoped>\n",
       "    .dataframe tbody tr th:only-of-type {\n",
       "        vertical-align: middle;\n",
       "    }\n",
       "\n",
       "    .dataframe tbody tr th {\n",
       "        vertical-align: top;\n",
       "    }\n",
       "\n",
       "    .dataframe thead th {\n",
       "        text-align: right;\n",
       "    }\n",
       "</style>\n",
       "<table border=\"1\" class=\"dataframe\">\n",
       "  <thead>\n",
       "    <tr style=\"text-align: right;\">\n",
       "      <th></th>\n",
       "      <th>Fixed Acidity</th>\n",
       "      <th>Volatile Acidity</th>\n",
       "      <th>Citric Acid</th>\n",
       "      <th>Residual Sugar</th>\n",
       "      <th>Chlorides</th>\n",
       "      <th>Free SO2</th>\n",
       "      <th>Total SO2</th>\n",
       "      <th>pH</th>\n",
       "      <th>Alcohol</th>\n",
       "      <th>Quality Grade</th>\n",
       "    </tr>\n",
       "  </thead>\n",
       "  <tbody>\n",
       "    <tr>\n",
       "      <th>3664</th>\n",
       "      <td>1.0</td>\n",
       "      <td>0.0</td>\n",
       "      <td>1.0</td>\n",
       "      <td>0.0</td>\n",
       "      <td>0.0</td>\n",
       "      <td>0.0</td>\n",
       "      <td>1.0</td>\n",
       "      <td>0.0</td>\n",
       "      <td>2.0</td>\n",
       "      <td>A</td>\n",
       "    </tr>\n",
       "    <tr>\n",
       "      <th>4340</th>\n",
       "      <td>2.0</td>\n",
       "      <td>0.0</td>\n",
       "      <td>1.0</td>\n",
       "      <td>0.0</td>\n",
       "      <td>0.0</td>\n",
       "      <td>0.0</td>\n",
       "      <td>1.0</td>\n",
       "      <td>0.0</td>\n",
       "      <td>0.0</td>\n",
       "      <td>A</td>\n",
       "    </tr>\n",
       "    <tr>\n",
       "      <th>3029</th>\n",
       "      <td>2.0</td>\n",
       "      <td>1.0</td>\n",
       "      <td>1.0</td>\n",
       "      <td>0.0</td>\n",
       "      <td>0.0</td>\n",
       "      <td>0.0</td>\n",
       "      <td>1.0</td>\n",
       "      <td>0.0</td>\n",
       "      <td>1.0</td>\n",
       "      <td>A</td>\n",
       "    </tr>\n",
       "    <tr>\n",
       "      <th>2774</th>\n",
       "      <td>2.0</td>\n",
       "      <td>0.0</td>\n",
       "      <td>1.0</td>\n",
       "      <td>0.0</td>\n",
       "      <td>0.0</td>\n",
       "      <td>0.0</td>\n",
       "      <td>1.0</td>\n",
       "      <td>0.0</td>\n",
       "      <td>1.0</td>\n",
       "      <td>A</td>\n",
       "    </tr>\n",
       "    <tr>\n",
       "      <th>1412</th>\n",
       "      <td>2.0</td>\n",
       "      <td>0.0</td>\n",
       "      <td>1.0</td>\n",
       "      <td>0.0</td>\n",
       "      <td>0.0</td>\n",
       "      <td>0.0</td>\n",
       "      <td>1.0</td>\n",
       "      <td>0.0</td>\n",
       "      <td>1.0</td>\n",
       "      <td>A</td>\n",
       "    </tr>\n",
       "    <tr>\n",
       "      <th>...</th>\n",
       "      <td>...</td>\n",
       "      <td>...</td>\n",
       "      <td>...</td>\n",
       "      <td>...</td>\n",
       "      <td>...</td>\n",
       "      <td>...</td>\n",
       "      <td>...</td>\n",
       "      <td>...</td>\n",
       "      <td>...</td>\n",
       "      <td>...</td>\n",
       "    </tr>\n",
       "    <tr>\n",
       "      <th>1358</th>\n",
       "      <td>2.0</td>\n",
       "      <td>0.0</td>\n",
       "      <td>1.0</td>\n",
       "      <td>0.0</td>\n",
       "      <td>0.0</td>\n",
       "      <td>0.0</td>\n",
       "      <td>1.0</td>\n",
       "      <td>0.0</td>\n",
       "      <td>1.0</td>\n",
       "      <td>A</td>\n",
       "    </tr>\n",
       "    <tr>\n",
       "      <th>1779</th>\n",
       "      <td>2.0</td>\n",
       "      <td>0.0</td>\n",
       "      <td>1.0</td>\n",
       "      <td>0.0</td>\n",
       "      <td>0.0</td>\n",
       "      <td>0.0</td>\n",
       "      <td>1.0</td>\n",
       "      <td>0.0</td>\n",
       "      <td>0.0</td>\n",
       "      <td>A</td>\n",
       "    </tr>\n",
       "    <tr>\n",
       "      <th>2804</th>\n",
       "      <td>2.0</td>\n",
       "      <td>0.0</td>\n",
       "      <td>1.0</td>\n",
       "      <td>0.0</td>\n",
       "      <td>0.0</td>\n",
       "      <td>0.0</td>\n",
       "      <td>1.0</td>\n",
       "      <td>0.0</td>\n",
       "      <td>0.0</td>\n",
       "      <td>A</td>\n",
       "    </tr>\n",
       "    <tr>\n",
       "      <th>672</th>\n",
       "      <td>2.0</td>\n",
       "      <td>0.0</td>\n",
       "      <td>1.0</td>\n",
       "      <td>0.0</td>\n",
       "      <td>0.0</td>\n",
       "      <td>0.0</td>\n",
       "      <td>1.0</td>\n",
       "      <td>0.0</td>\n",
       "      <td>2.0</td>\n",
       "      <td>A</td>\n",
       "    </tr>\n",
       "    <tr>\n",
       "      <th>2803</th>\n",
       "      <td>1.0</td>\n",
       "      <td>0.0</td>\n",
       "      <td>1.0</td>\n",
       "      <td>0.0</td>\n",
       "      <td>0.0</td>\n",
       "      <td>0.0</td>\n",
       "      <td>1.0</td>\n",
       "      <td>0.0</td>\n",
       "      <td>0.0</td>\n",
       "      <td>A</td>\n",
       "    </tr>\n",
       "  </tbody>\n",
       "</table>\n",
       "<p>180 rows × 10 columns</p>\n",
       "</div>"
      ],
      "text/plain": [
       "      Fixed Acidity  Volatile Acidity  Citric Acid  Residual Sugar  Chlorides  \\\n",
       "3664            1.0               0.0          1.0             0.0        0.0   \n",
       "4340            2.0               0.0          1.0             0.0        0.0   \n",
       "3029            2.0               1.0          1.0             0.0        0.0   \n",
       "2774            2.0               0.0          1.0             0.0        0.0   \n",
       "1412            2.0               0.0          1.0             0.0        0.0   \n",
       "...             ...               ...          ...             ...        ...   \n",
       "1358            2.0               0.0          1.0             0.0        0.0   \n",
       "1779            2.0               0.0          1.0             0.0        0.0   \n",
       "2804            2.0               0.0          1.0             0.0        0.0   \n",
       "672             2.0               0.0          1.0             0.0        0.0   \n",
       "2803            1.0               0.0          1.0             0.0        0.0   \n",
       "\n",
       "      Free SO2  Total SO2   pH  Alcohol Quality Grade  \n",
       "3664       0.0        1.0  0.0      2.0             A  \n",
       "4340       0.0        1.0  0.0      0.0             A  \n",
       "3029       0.0        1.0  0.0      1.0             A  \n",
       "2774       0.0        1.0  0.0      1.0             A  \n",
       "1412       0.0        1.0  0.0      1.0             A  \n",
       "...        ...        ...  ...      ...           ...  \n",
       "1358       0.0        1.0  0.0      1.0             A  \n",
       "1779       0.0        1.0  0.0      0.0             A  \n",
       "2804       0.0        1.0  0.0      0.0             A  \n",
       "672        0.0        1.0  0.0      2.0             A  \n",
       "2803       0.0        1.0  0.0      0.0             A  \n",
       "\n",
       "[180 rows x 10 columns]"
      ]
     },
     "execution_count": 111,
     "metadata": {},
     "output_type": "execute_result"
    }
   ],
   "source": [
    "# seperating main table into smaller tables based on quality grouping\n",
    "\n",
    "quality_A = white_wine_sorted[white_wine_sorted['Quality Grade'] == 'A']\n",
    "quality_A"
   ]
  },
  {
   "cell_type": "code",
   "execution_count": 112,
   "id": "81e868da",
   "metadata": {
    "scrolled": true
   },
   "outputs": [
    {
     "data": {
      "text/html": [
       "<div>\n",
       "<style scoped>\n",
       "    .dataframe tbody tr th:only-of-type {\n",
       "        vertical-align: middle;\n",
       "    }\n",
       "\n",
       "    .dataframe tbody tr th {\n",
       "        vertical-align: top;\n",
       "    }\n",
       "\n",
       "    .dataframe thead th {\n",
       "        text-align: right;\n",
       "    }\n",
       "</style>\n",
       "<table border=\"1\" class=\"dataframe\">\n",
       "  <thead>\n",
       "    <tr style=\"text-align: right;\">\n",
       "      <th></th>\n",
       "      <th>Fixed Acidity</th>\n",
       "      <th>Volatile Acidity</th>\n",
       "      <th>Citric Acid</th>\n",
       "      <th>Residual Sugar</th>\n",
       "      <th>Chlorides</th>\n",
       "      <th>Free SO2</th>\n",
       "      <th>Total SO2</th>\n",
       "      <th>pH</th>\n",
       "      <th>Alcohol</th>\n",
       "      <th>Quality Grade</th>\n",
       "    </tr>\n",
       "  </thead>\n",
       "  <tbody>\n",
       "    <tr>\n",
       "      <th>3347</th>\n",
       "      <td>2.0</td>\n",
       "      <td>0.0</td>\n",
       "      <td>1.0</td>\n",
       "      <td>0.0</td>\n",
       "      <td>0.0</td>\n",
       "      <td>0.0</td>\n",
       "      <td>1.0</td>\n",
       "      <td>0.0</td>\n",
       "      <td>0.0</td>\n",
       "      <td>B</td>\n",
       "    </tr>\n",
       "    <tr>\n",
       "      <th>3278</th>\n",
       "      <td>2.0</td>\n",
       "      <td>1.0</td>\n",
       "      <td>1.0</td>\n",
       "      <td>1.0</td>\n",
       "      <td>0.0</td>\n",
       "      <td>0.0</td>\n",
       "      <td>1.0</td>\n",
       "      <td>0.0</td>\n",
       "      <td>0.0</td>\n",
       "      <td>B</td>\n",
       "    </tr>\n",
       "    <tr>\n",
       "      <th>3335</th>\n",
       "      <td>2.0</td>\n",
       "      <td>1.0</td>\n",
       "      <td>1.0</td>\n",
       "      <td>0.0</td>\n",
       "      <td>0.0</td>\n",
       "      <td>0.0</td>\n",
       "      <td>1.0</td>\n",
       "      <td>1.0</td>\n",
       "      <td>0.0</td>\n",
       "      <td>B</td>\n",
       "    </tr>\n",
       "    <tr>\n",
       "      <th>3280</th>\n",
       "      <td>2.0</td>\n",
       "      <td>0.0</td>\n",
       "      <td>1.0</td>\n",
       "      <td>0.0</td>\n",
       "      <td>0.0</td>\n",
       "      <td>0.0</td>\n",
       "      <td>1.0</td>\n",
       "      <td>0.0</td>\n",
       "      <td>0.0</td>\n",
       "      <td>B</td>\n",
       "    </tr>\n",
       "    <tr>\n",
       "      <th>3334</th>\n",
       "      <td>2.0</td>\n",
       "      <td>1.0</td>\n",
       "      <td>1.0</td>\n",
       "      <td>0.0</td>\n",
       "      <td>0.0</td>\n",
       "      <td>0.0</td>\n",
       "      <td>1.0</td>\n",
       "      <td>0.0</td>\n",
       "      <td>0.0</td>\n",
       "      <td>B</td>\n",
       "    </tr>\n",
       "    <tr>\n",
       "      <th>...</th>\n",
       "      <td>...</td>\n",
       "      <td>...</td>\n",
       "      <td>...</td>\n",
       "      <td>...</td>\n",
       "      <td>...</td>\n",
       "      <td>...</td>\n",
       "      <td>...</td>\n",
       "      <td>...</td>\n",
       "      <td>...</td>\n",
       "      <td>...</td>\n",
       "    </tr>\n",
       "    <tr>\n",
       "      <th>1678</th>\n",
       "      <td>1.0</td>\n",
       "      <td>0.0</td>\n",
       "      <td>1.0</td>\n",
       "      <td>1.0</td>\n",
       "      <td>0.0</td>\n",
       "      <td>0.0</td>\n",
       "      <td>1.0</td>\n",
       "      <td>0.0</td>\n",
       "      <td>0.0</td>\n",
       "      <td>B</td>\n",
       "    </tr>\n",
       "    <tr>\n",
       "      <th>1677</th>\n",
       "      <td>2.0</td>\n",
       "      <td>0.0</td>\n",
       "      <td>1.0</td>\n",
       "      <td>0.0</td>\n",
       "      <td>0.0</td>\n",
       "      <td>0.0</td>\n",
       "      <td>1.0</td>\n",
       "      <td>0.0</td>\n",
       "      <td>0.0</td>\n",
       "      <td>B</td>\n",
       "    </tr>\n",
       "    <tr>\n",
       "      <th>1676</th>\n",
       "      <td>2.0</td>\n",
       "      <td>0.0</td>\n",
       "      <td>1.0</td>\n",
       "      <td>0.0</td>\n",
       "      <td>0.0</td>\n",
       "      <td>1.0</td>\n",
       "      <td>1.0</td>\n",
       "      <td>0.0</td>\n",
       "      <td>0.0</td>\n",
       "      <td>B</td>\n",
       "    </tr>\n",
       "    <tr>\n",
       "      <th>1675</th>\n",
       "      <td>1.0</td>\n",
       "      <td>0.0</td>\n",
       "      <td>1.0</td>\n",
       "      <td>0.0</td>\n",
       "      <td>0.0</td>\n",
       "      <td>0.0</td>\n",
       "      <td>1.0</td>\n",
       "      <td>0.0</td>\n",
       "      <td>0.0</td>\n",
       "      <td>B</td>\n",
       "    </tr>\n",
       "    <tr>\n",
       "      <th>1658</th>\n",
       "      <td>2.0</td>\n",
       "      <td>0.0</td>\n",
       "      <td>1.0</td>\n",
       "      <td>0.0</td>\n",
       "      <td>0.0</td>\n",
       "      <td>0.0</td>\n",
       "      <td>1.0</td>\n",
       "      <td>0.0</td>\n",
       "      <td>0.0</td>\n",
       "      <td>B</td>\n",
       "    </tr>\n",
       "  </tbody>\n",
       "</table>\n",
       "<p>4698 rows × 10 columns</p>\n",
       "</div>"
      ],
      "text/plain": [
       "      Fixed Acidity  Volatile Acidity  Citric Acid  Residual Sugar  Chlorides  \\\n",
       "3347            2.0               0.0          1.0             0.0        0.0   \n",
       "3278            2.0               1.0          1.0             1.0        0.0   \n",
       "3335            2.0               1.0          1.0             0.0        0.0   \n",
       "3280            2.0               0.0          1.0             0.0        0.0   \n",
       "3334            2.0               1.0          1.0             0.0        0.0   \n",
       "...             ...               ...          ...             ...        ...   \n",
       "1678            1.0               0.0          1.0             1.0        0.0   \n",
       "1677            2.0               0.0          1.0             0.0        0.0   \n",
       "1676            2.0               0.0          1.0             0.0        0.0   \n",
       "1675            1.0               0.0          1.0             0.0        0.0   \n",
       "1658            2.0               0.0          1.0             0.0        0.0   \n",
       "\n",
       "      Free SO2  Total SO2   pH  Alcohol Quality Grade  \n",
       "3347       0.0        1.0  0.0      0.0             B  \n",
       "3278       0.0        1.0  0.0      0.0             B  \n",
       "3335       0.0        1.0  1.0      0.0             B  \n",
       "3280       0.0        1.0  0.0      0.0             B  \n",
       "3334       0.0        1.0  0.0      0.0             B  \n",
       "...        ...        ...  ...      ...           ...  \n",
       "1678       0.0        1.0  0.0      0.0             B  \n",
       "1677       0.0        1.0  0.0      0.0             B  \n",
       "1676       1.0        1.0  0.0      0.0             B  \n",
       "1675       0.0        1.0  0.0      0.0             B  \n",
       "1658       0.0        1.0  0.0      0.0             B  \n",
       "\n",
       "[4698 rows x 10 columns]"
      ]
     },
     "execution_count": 112,
     "metadata": {},
     "output_type": "execute_result"
    }
   ],
   "source": [
    "quality_B = white_wine_sorted[white_wine_sorted['Quality Grade'] == 'B']\n",
    "quality_B"
   ]
  },
  {
   "cell_type": "code",
   "execution_count": 113,
   "id": "59e0f225",
   "metadata": {
    "scrolled": false
   },
   "outputs": [
    {
     "data": {
      "text/html": [
       "<div>\n",
       "<style scoped>\n",
       "    .dataframe tbody tr th:only-of-type {\n",
       "        vertical-align: middle;\n",
       "    }\n",
       "\n",
       "    .dataframe tbody tr th {\n",
       "        vertical-align: top;\n",
       "    }\n",
       "\n",
       "    .dataframe thead th {\n",
       "        text-align: right;\n",
       "    }\n",
       "</style>\n",
       "<table border=\"1\" class=\"dataframe\">\n",
       "  <thead>\n",
       "    <tr style=\"text-align: right;\">\n",
       "      <th></th>\n",
       "      <th>Fixed Acidity</th>\n",
       "      <th>Volatile Acidity</th>\n",
       "      <th>Citric Acid</th>\n",
       "      <th>Residual Sugar</th>\n",
       "      <th>Chlorides</th>\n",
       "      <th>Free SO2</th>\n",
       "      <th>Total SO2</th>\n",
       "      <th>pH</th>\n",
       "      <th>Alcohol</th>\n",
       "      <th>Quality Grade</th>\n",
       "    </tr>\n",
       "  </thead>\n",
       "  <tbody>\n",
       "    <tr>\n",
       "      <th>4745</th>\n",
       "      <td>1.0</td>\n",
       "      <td>0.0</td>\n",
       "      <td>1.0</td>\n",
       "      <td>0.0</td>\n",
       "      <td>0.0</td>\n",
       "      <td>0.0</td>\n",
       "      <td>0.0</td>\n",
       "      <td>0.0</td>\n",
       "      <td>0.0</td>\n",
       "      <td>C</td>\n",
       "    </tr>\n",
       "    <tr>\n",
       "      <th>1417</th>\n",
       "      <td>3.0</td>\n",
       "      <td>2.0</td>\n",
       "      <td>1.0</td>\n",
       "      <td>0.0</td>\n",
       "      <td>0.0</td>\n",
       "      <td>0.0</td>\n",
       "      <td>0.0</td>\n",
       "      <td>0.0</td>\n",
       "      <td>0.0</td>\n",
       "      <td>C</td>\n",
       "    </tr>\n",
       "    <tr>\n",
       "      <th>3307</th>\n",
       "      <td>3.0</td>\n",
       "      <td>0.0</td>\n",
       "      <td>1.0</td>\n",
       "      <td>0.0</td>\n",
       "      <td>0.0</td>\n",
       "      <td>0.0</td>\n",
       "      <td>1.0</td>\n",
       "      <td>0.0</td>\n",
       "      <td>0.0</td>\n",
       "      <td>C</td>\n",
       "    </tr>\n",
       "    <tr>\n",
       "      <th>3087</th>\n",
       "      <td>1.0</td>\n",
       "      <td>0.0</td>\n",
       "      <td>1.0</td>\n",
       "      <td>0.0</td>\n",
       "      <td>0.0</td>\n",
       "      <td>0.0</td>\n",
       "      <td>1.0</td>\n",
       "      <td>0.0</td>\n",
       "      <td>0.0</td>\n",
       "      <td>C</td>\n",
       "    </tr>\n",
       "    <tr>\n",
       "      <th>740</th>\n",
       "      <td>2.0</td>\n",
       "      <td>1.0</td>\n",
       "      <td>1.0</td>\n",
       "      <td>1.0</td>\n",
       "      <td>0.0</td>\n",
       "      <td>0.0</td>\n",
       "      <td>1.0</td>\n",
       "      <td>0.0</td>\n",
       "      <td>2.0</td>\n",
       "      <td>C</td>\n",
       "    </tr>\n",
       "    <tr>\n",
       "      <th>253</th>\n",
       "      <td>1.0</td>\n",
       "      <td>0.0</td>\n",
       "      <td>1.0</td>\n",
       "      <td>0.0</td>\n",
       "      <td>0.0</td>\n",
       "      <td>0.0</td>\n",
       "      <td>1.0</td>\n",
       "      <td>0.0</td>\n",
       "      <td>1.0</td>\n",
       "      <td>C</td>\n",
       "    </tr>\n",
       "    <tr>\n",
       "      <th>1484</th>\n",
       "      <td>2.0</td>\n",
       "      <td>0.0</td>\n",
       "      <td>1.0</td>\n",
       "      <td>1.0</td>\n",
       "      <td>0.0</td>\n",
       "      <td>0.0</td>\n",
       "      <td>1.0</td>\n",
       "      <td>0.0</td>\n",
       "      <td>0.0</td>\n",
       "      <td>C</td>\n",
       "    </tr>\n",
       "    <tr>\n",
       "      <th>1034</th>\n",
       "      <td>2.0</td>\n",
       "      <td>2.0</td>\n",
       "      <td>1.0</td>\n",
       "      <td>0.0</td>\n",
       "      <td>1.0</td>\n",
       "      <td>1.0</td>\n",
       "      <td>1.0</td>\n",
       "      <td>0.0</td>\n",
       "      <td>0.0</td>\n",
       "      <td>C</td>\n",
       "    </tr>\n",
       "    <tr>\n",
       "      <th>2050</th>\n",
       "      <td>4.0</td>\n",
       "      <td>0.0</td>\n",
       "      <td>1.0</td>\n",
       "      <td>0.0</td>\n",
       "      <td>0.0</td>\n",
       "      <td>0.0</td>\n",
       "      <td>1.0</td>\n",
       "      <td>0.0</td>\n",
       "      <td>0.0</td>\n",
       "      <td>C</td>\n",
       "    </tr>\n",
       "    <tr>\n",
       "      <th>251</th>\n",
       "      <td>3.0</td>\n",
       "      <td>0.0</td>\n",
       "      <td>1.0</td>\n",
       "      <td>0.0</td>\n",
       "      <td>0.0</td>\n",
       "      <td>0.0</td>\n",
       "      <td>1.0</td>\n",
       "      <td>0.0</td>\n",
       "      <td>0.0</td>\n",
       "      <td>C</td>\n",
       "    </tr>\n",
       "    <tr>\n",
       "      <th>3409</th>\n",
       "      <td>1.0</td>\n",
       "      <td>0.0</td>\n",
       "      <td>1.0</td>\n",
       "      <td>1.0</td>\n",
       "      <td>1.0</td>\n",
       "      <td>0.0</td>\n",
       "      <td>1.0</td>\n",
       "      <td>0.0</td>\n",
       "      <td>0.0</td>\n",
       "      <td>C</td>\n",
       "    </tr>\n",
       "    <tr>\n",
       "      <th>3265</th>\n",
       "      <td>1.0</td>\n",
       "      <td>0.0</td>\n",
       "      <td>1.0</td>\n",
       "      <td>1.0</td>\n",
       "      <td>0.0</td>\n",
       "      <td>0.0</td>\n",
       "      <td>1.0</td>\n",
       "      <td>0.0</td>\n",
       "      <td>0.0</td>\n",
       "      <td>C</td>\n",
       "    </tr>\n",
       "    <tr>\n",
       "      <th>294</th>\n",
       "      <td>3.0</td>\n",
       "      <td>2.0</td>\n",
       "      <td>1.0</td>\n",
       "      <td>0.0</td>\n",
       "      <td>0.0</td>\n",
       "      <td>0.0</td>\n",
       "      <td>1.0</td>\n",
       "      <td>0.0</td>\n",
       "      <td>0.0</td>\n",
       "      <td>C</td>\n",
       "    </tr>\n",
       "    <tr>\n",
       "      <th>445</th>\n",
       "      <td>2.0</td>\n",
       "      <td>0.0</td>\n",
       "      <td>1.0</td>\n",
       "      <td>0.0</td>\n",
       "      <td>0.0</td>\n",
       "      <td>0.0</td>\n",
       "      <td>1.0</td>\n",
       "      <td>0.0</td>\n",
       "      <td>0.0</td>\n",
       "      <td>C</td>\n",
       "    </tr>\n",
       "    <tr>\n",
       "      <th>1229</th>\n",
       "      <td>3.0</td>\n",
       "      <td>0.0</td>\n",
       "      <td>1.0</td>\n",
       "      <td>1.0</td>\n",
       "      <td>0.0</td>\n",
       "      <td>0.0</td>\n",
       "      <td>1.0</td>\n",
       "      <td>0.0</td>\n",
       "      <td>2.0</td>\n",
       "      <td>C</td>\n",
       "    </tr>\n",
       "    <tr>\n",
       "      <th>1931</th>\n",
       "      <td>2.0</td>\n",
       "      <td>1.0</td>\n",
       "      <td>1.0</td>\n",
       "      <td>0.0</td>\n",
       "      <td>0.0</td>\n",
       "      <td>0.0</td>\n",
       "      <td>1.0</td>\n",
       "      <td>0.0</td>\n",
       "      <td>0.0</td>\n",
       "      <td>C</td>\n",
       "    </tr>\n",
       "    <tr>\n",
       "      <th>3810</th>\n",
       "      <td>2.0</td>\n",
       "      <td>0.0</td>\n",
       "      <td>1.0</td>\n",
       "      <td>0.0</td>\n",
       "      <td>0.0</td>\n",
       "      <td>0.0</td>\n",
       "      <td>1.0</td>\n",
       "      <td>0.0</td>\n",
       "      <td>0.0</td>\n",
       "      <td>C</td>\n",
       "    </tr>\n",
       "    <tr>\n",
       "      <th>2373</th>\n",
       "      <td>2.0</td>\n",
       "      <td>1.0</td>\n",
       "      <td>1.0</td>\n",
       "      <td>0.0</td>\n",
       "      <td>0.0</td>\n",
       "      <td>0.0</td>\n",
       "      <td>1.0</td>\n",
       "      <td>0.0</td>\n",
       "      <td>0.0</td>\n",
       "      <td>C</td>\n",
       "    </tr>\n",
       "    <tr>\n",
       "      <th>873</th>\n",
       "      <td>4.0</td>\n",
       "      <td>0.0</td>\n",
       "      <td>1.0</td>\n",
       "      <td>1.0</td>\n",
       "      <td>0.0</td>\n",
       "      <td>0.0</td>\n",
       "      <td>1.0</td>\n",
       "      <td>0.0</td>\n",
       "      <td>0.0</td>\n",
       "      <td>C</td>\n",
       "    </tr>\n",
       "    <tr>\n",
       "      <th>1688</th>\n",
       "      <td>2.0</td>\n",
       "      <td>0.0</td>\n",
       "      <td>1.0</td>\n",
       "      <td>0.0</td>\n",
       "      <td>0.0</td>\n",
       "      <td>0.0</td>\n",
       "      <td>1.0</td>\n",
       "      <td>0.0</td>\n",
       "      <td>0.0</td>\n",
       "      <td>C</td>\n",
       "    </tr>\n",
       "  </tbody>\n",
       "</table>\n",
       "</div>"
      ],
      "text/plain": [
       "      Fixed Acidity  Volatile Acidity  Citric Acid  Residual Sugar  Chlorides  \\\n",
       "4745            1.0               0.0          1.0             0.0        0.0   \n",
       "1417            3.0               2.0          1.0             0.0        0.0   \n",
       "3307            3.0               0.0          1.0             0.0        0.0   \n",
       "3087            1.0               0.0          1.0             0.0        0.0   \n",
       "740             2.0               1.0          1.0             1.0        0.0   \n",
       "253             1.0               0.0          1.0             0.0        0.0   \n",
       "1484            2.0               0.0          1.0             1.0        0.0   \n",
       "1034            2.0               2.0          1.0             0.0        1.0   \n",
       "2050            4.0               0.0          1.0             0.0        0.0   \n",
       "251             3.0               0.0          1.0             0.0        0.0   \n",
       "3409            1.0               0.0          1.0             1.0        1.0   \n",
       "3265            1.0               0.0          1.0             1.0        0.0   \n",
       "294             3.0               2.0          1.0             0.0        0.0   \n",
       "445             2.0               0.0          1.0             0.0        0.0   \n",
       "1229            3.0               0.0          1.0             1.0        0.0   \n",
       "1931            2.0               1.0          1.0             0.0        0.0   \n",
       "3810            2.0               0.0          1.0             0.0        0.0   \n",
       "2373            2.0               1.0          1.0             0.0        0.0   \n",
       "873             4.0               0.0          1.0             1.0        0.0   \n",
       "1688            2.0               0.0          1.0             0.0        0.0   \n",
       "\n",
       "      Free SO2  Total SO2   pH  Alcohol Quality Grade  \n",
       "4745       0.0        0.0  0.0      0.0             C  \n",
       "1417       0.0        0.0  0.0      0.0             C  \n",
       "3307       0.0        1.0  0.0      0.0             C  \n",
       "3087       0.0        1.0  0.0      0.0             C  \n",
       "740        0.0        1.0  0.0      2.0             C  \n",
       "253        0.0        1.0  0.0      1.0             C  \n",
       "1484       0.0        1.0  0.0      0.0             C  \n",
       "1034       1.0        1.0  0.0      0.0             C  \n",
       "2050       0.0        1.0  0.0      0.0             C  \n",
       "251        0.0        1.0  0.0      0.0             C  \n",
       "3409       0.0        1.0  0.0      0.0             C  \n",
       "3265       0.0        1.0  0.0      0.0             C  \n",
       "294        0.0        1.0  0.0      0.0             C  \n",
       "445        0.0        1.0  0.0      0.0             C  \n",
       "1229       0.0        1.0  0.0      2.0             C  \n",
       "1931       0.0        1.0  0.0      0.0             C  \n",
       "3810       0.0        1.0  0.0      0.0             C  \n",
       "2373       0.0        1.0  0.0      0.0             C  \n",
       "873        0.0        1.0  0.0      0.0             C  \n",
       "1688       0.0        1.0  0.0      0.0             C  "
      ]
     },
     "execution_count": 113,
     "metadata": {},
     "output_type": "execute_result"
    }
   ],
   "source": [
    "quality_C = white_wine_sorted[white_wine_sorted['Quality Grade'] == 'C']\n",
    "quality_C"
   ]
  },
  {
   "cell_type": "code",
   "execution_count": 114,
   "id": "d7935860",
   "metadata": {},
   "outputs": [
    {
     "data": {
      "text/html": [
       "<div>\n",
       "<style scoped>\n",
       "    .dataframe tbody tr th:only-of-type {\n",
       "        vertical-align: middle;\n",
       "    }\n",
       "\n",
       "    .dataframe tbody tr th {\n",
       "        vertical-align: top;\n",
       "    }\n",
       "\n",
       "    .dataframe thead th {\n",
       "        text-align: right;\n",
       "    }\n",
       "</style>\n",
       "<table border=\"1\" class=\"dataframe\">\n",
       "  <thead>\n",
       "    <tr style=\"text-align: right;\">\n",
       "      <th></th>\n",
       "      <th>Fixed Acidity</th>\n",
       "      <th>Volatile Acidity</th>\n",
       "      <th>Citric Acid</th>\n",
       "      <th>Residual Sugar</th>\n",
       "      <th>Chlorides</th>\n",
       "      <th>Free SO2</th>\n",
       "      <th>Total SO2</th>\n",
       "      <th>pH</th>\n",
       "      <th>Alcohol</th>\n",
       "    </tr>\n",
       "  </thead>\n",
       "  <tbody>\n",
       "    <tr>\n",
       "      <th>count</th>\n",
       "      <td>180.000000</td>\n",
       "      <td>180.000000</td>\n",
       "      <td>180.000000</td>\n",
       "      <td>180.000000</td>\n",
       "      <td>180.000000</td>\n",
       "      <td>180.000000</td>\n",
       "      <td>180.0</td>\n",
       "      <td>180.000000</td>\n",
       "      <td>180.000000</td>\n",
       "    </tr>\n",
       "    <tr>\n",
       "      <th>mean</th>\n",
       "      <td>1.794444</td>\n",
       "      <td>0.188889</td>\n",
       "      <td>0.988889</td>\n",
       "      <td>0.150000</td>\n",
       "      <td>0.111111</td>\n",
       "      <td>0.227778</td>\n",
       "      <td>1.0</td>\n",
       "      <td>0.011111</td>\n",
       "      <td>0.977778</td>\n",
       "    </tr>\n",
       "    <tr>\n",
       "      <th>std</th>\n",
       "      <td>0.535836</td>\n",
       "      <td>0.481952</td>\n",
       "      <td>0.105114</td>\n",
       "      <td>0.358067</td>\n",
       "      <td>0.315146</td>\n",
       "      <td>0.420568</td>\n",
       "      <td>0.0</td>\n",
       "      <td>0.105114</td>\n",
       "      <td>0.884096</td>\n",
       "    </tr>\n",
       "    <tr>\n",
       "      <th>min</th>\n",
       "      <td>1.000000</td>\n",
       "      <td>0.000000</td>\n",
       "      <td>0.000000</td>\n",
       "      <td>0.000000</td>\n",
       "      <td>0.000000</td>\n",
       "      <td>0.000000</td>\n",
       "      <td>1.0</td>\n",
       "      <td>0.000000</td>\n",
       "      <td>0.000000</td>\n",
       "    </tr>\n",
       "    <tr>\n",
       "      <th>25%</th>\n",
       "      <td>1.000000</td>\n",
       "      <td>0.000000</td>\n",
       "      <td>1.000000</td>\n",
       "      <td>0.000000</td>\n",
       "      <td>0.000000</td>\n",
       "      <td>0.000000</td>\n",
       "      <td>1.0</td>\n",
       "      <td>0.000000</td>\n",
       "      <td>0.000000</td>\n",
       "    </tr>\n",
       "    <tr>\n",
       "      <th>50%</th>\n",
       "      <td>2.000000</td>\n",
       "      <td>0.000000</td>\n",
       "      <td>1.000000</td>\n",
       "      <td>0.000000</td>\n",
       "      <td>0.000000</td>\n",
       "      <td>0.000000</td>\n",
       "      <td>1.0</td>\n",
       "      <td>0.000000</td>\n",
       "      <td>1.000000</td>\n",
       "    </tr>\n",
       "    <tr>\n",
       "      <th>75%</th>\n",
       "      <td>2.000000</td>\n",
       "      <td>0.000000</td>\n",
       "      <td>1.000000</td>\n",
       "      <td>0.000000</td>\n",
       "      <td>0.000000</td>\n",
       "      <td>0.000000</td>\n",
       "      <td>1.0</td>\n",
       "      <td>0.000000</td>\n",
       "      <td>2.000000</td>\n",
       "    </tr>\n",
       "    <tr>\n",
       "      <th>max</th>\n",
       "      <td>3.000000</td>\n",
       "      <td>2.000000</td>\n",
       "      <td>1.000000</td>\n",
       "      <td>1.000000</td>\n",
       "      <td>1.000000</td>\n",
       "      <td>1.000000</td>\n",
       "      <td>1.0</td>\n",
       "      <td>1.000000</td>\n",
       "      <td>2.000000</td>\n",
       "    </tr>\n",
       "  </tbody>\n",
       "</table>\n",
       "</div>"
      ],
      "text/plain": [
       "       Fixed Acidity  Volatile Acidity  Citric Acid  Residual Sugar  \\\n",
       "count     180.000000        180.000000   180.000000      180.000000   \n",
       "mean        1.794444          0.188889     0.988889        0.150000   \n",
       "std         0.535836          0.481952     0.105114        0.358067   \n",
       "min         1.000000          0.000000     0.000000        0.000000   \n",
       "25%         1.000000          0.000000     1.000000        0.000000   \n",
       "50%         2.000000          0.000000     1.000000        0.000000   \n",
       "75%         2.000000          0.000000     1.000000        0.000000   \n",
       "max         3.000000          2.000000     1.000000        1.000000   \n",
       "\n",
       "        Chlorides    Free SO2  Total SO2          pH     Alcohol  \n",
       "count  180.000000  180.000000      180.0  180.000000  180.000000  \n",
       "mean     0.111111    0.227778        1.0    0.011111    0.977778  \n",
       "std      0.315146    0.420568        0.0    0.105114    0.884096  \n",
       "min      0.000000    0.000000        1.0    0.000000    0.000000  \n",
       "25%      0.000000    0.000000        1.0    0.000000    0.000000  \n",
       "50%      0.000000    0.000000        1.0    0.000000    1.000000  \n",
       "75%      0.000000    0.000000        1.0    0.000000    2.000000  \n",
       "max      1.000000    1.000000        1.0    1.000000    2.000000  "
      ]
     },
     "execution_count": 114,
     "metadata": {},
     "output_type": "execute_result"
    }
   ],
   "source": [
    "quality_A.describe()"
   ]
  },
  {
   "cell_type": "code",
   "execution_count": 115,
   "id": "7577b5c0",
   "metadata": {},
   "outputs": [
    {
     "data": {
      "text/html": [
       "<div>\n",
       "<style scoped>\n",
       "    .dataframe tbody tr th:only-of-type {\n",
       "        vertical-align: middle;\n",
       "    }\n",
       "\n",
       "    .dataframe tbody tr th {\n",
       "        vertical-align: top;\n",
       "    }\n",
       "\n",
       "    .dataframe thead th {\n",
       "        text-align: right;\n",
       "    }\n",
       "</style>\n",
       "<table border=\"1\" class=\"dataframe\">\n",
       "  <thead>\n",
       "    <tr style=\"text-align: right;\">\n",
       "      <th></th>\n",
       "      <th>Fixed Acidity</th>\n",
       "      <th>Volatile Acidity</th>\n",
       "      <th>Citric Acid</th>\n",
       "      <th>Residual Sugar</th>\n",
       "      <th>Chlorides</th>\n",
       "      <th>Free SO2</th>\n",
       "      <th>Total SO2</th>\n",
       "      <th>pH</th>\n",
       "      <th>Alcohol</th>\n",
       "    </tr>\n",
       "  </thead>\n",
       "  <tbody>\n",
       "    <tr>\n",
       "      <th>count</th>\n",
       "      <td>4698.000000</td>\n",
       "      <td>4698.000000</td>\n",
       "      <td>4698.000000</td>\n",
       "      <td>4698.000000</td>\n",
       "      <td>4698.000000</td>\n",
       "      <td>4698.000000</td>\n",
       "      <td>4698.0</td>\n",
       "      <td>4698.000000</td>\n",
       "      <td>4698.000000</td>\n",
       "    </tr>\n",
       "    <tr>\n",
       "      <th>mean</th>\n",
       "      <td>1.878459</td>\n",
       "      <td>0.162835</td>\n",
       "      <td>0.990634</td>\n",
       "      <td>0.179864</td>\n",
       "      <td>0.146871</td>\n",
       "      <td>0.166667</td>\n",
       "      <td>1.0</td>\n",
       "      <td>0.025756</td>\n",
       "      <td>0.280119</td>\n",
       "    </tr>\n",
       "    <tr>\n",
       "      <th>std</th>\n",
       "      <td>0.569167</td>\n",
       "      <td>0.445552</td>\n",
       "      <td>0.096332</td>\n",
       "      <td>0.384115</td>\n",
       "      <td>0.354015</td>\n",
       "      <td>0.372718</td>\n",
       "      <td>0.0</td>\n",
       "      <td>0.158422</td>\n",
       "      <td>0.622371</td>\n",
       "    </tr>\n",
       "    <tr>\n",
       "      <th>min</th>\n",
       "      <td>1.000000</td>\n",
       "      <td>0.000000</td>\n",
       "      <td>0.000000</td>\n",
       "      <td>0.000000</td>\n",
       "      <td>0.000000</td>\n",
       "      <td>0.000000</td>\n",
       "      <td>1.0</td>\n",
       "      <td>0.000000</td>\n",
       "      <td>0.000000</td>\n",
       "    </tr>\n",
       "    <tr>\n",
       "      <th>25%</th>\n",
       "      <td>2.000000</td>\n",
       "      <td>0.000000</td>\n",
       "      <td>1.000000</td>\n",
       "      <td>0.000000</td>\n",
       "      <td>0.000000</td>\n",
       "      <td>0.000000</td>\n",
       "      <td>1.0</td>\n",
       "      <td>0.000000</td>\n",
       "      <td>0.000000</td>\n",
       "    </tr>\n",
       "    <tr>\n",
       "      <th>50%</th>\n",
       "      <td>2.000000</td>\n",
       "      <td>0.000000</td>\n",
       "      <td>1.000000</td>\n",
       "      <td>0.000000</td>\n",
       "      <td>0.000000</td>\n",
       "      <td>0.000000</td>\n",
       "      <td>1.0</td>\n",
       "      <td>0.000000</td>\n",
       "      <td>0.000000</td>\n",
       "    </tr>\n",
       "    <tr>\n",
       "      <th>75%</th>\n",
       "      <td>2.000000</td>\n",
       "      <td>0.000000</td>\n",
       "      <td>1.000000</td>\n",
       "      <td>0.000000</td>\n",
       "      <td>0.000000</td>\n",
       "      <td>0.000000</td>\n",
       "      <td>1.0</td>\n",
       "      <td>0.000000</td>\n",
       "      <td>0.000000</td>\n",
       "    </tr>\n",
       "    <tr>\n",
       "      <th>max</th>\n",
       "      <td>4.000000</td>\n",
       "      <td>2.000000</td>\n",
       "      <td>1.000000</td>\n",
       "      <td>1.000000</td>\n",
       "      <td>1.000000</td>\n",
       "      <td>1.000000</td>\n",
       "      <td>1.0</td>\n",
       "      <td>1.000000</td>\n",
       "      <td>2.000000</td>\n",
       "    </tr>\n",
       "  </tbody>\n",
       "</table>\n",
       "</div>"
      ],
      "text/plain": [
       "       Fixed Acidity  Volatile Acidity  Citric Acid  Residual Sugar  \\\n",
       "count    4698.000000       4698.000000  4698.000000     4698.000000   \n",
       "mean        1.878459          0.162835     0.990634        0.179864   \n",
       "std         0.569167          0.445552     0.096332        0.384115   \n",
       "min         1.000000          0.000000     0.000000        0.000000   \n",
       "25%         2.000000          0.000000     1.000000        0.000000   \n",
       "50%         2.000000          0.000000     1.000000        0.000000   \n",
       "75%         2.000000          0.000000     1.000000        0.000000   \n",
       "max         4.000000          2.000000     1.000000        1.000000   \n",
       "\n",
       "         Chlorides     Free SO2  Total SO2           pH      Alcohol  \n",
       "count  4698.000000  4698.000000     4698.0  4698.000000  4698.000000  \n",
       "mean      0.146871     0.166667        1.0     0.025756     0.280119  \n",
       "std       0.354015     0.372718        0.0     0.158422     0.622371  \n",
       "min       0.000000     0.000000        1.0     0.000000     0.000000  \n",
       "25%       0.000000     0.000000        1.0     0.000000     0.000000  \n",
       "50%       0.000000     0.000000        1.0     0.000000     0.000000  \n",
       "75%       0.000000     0.000000        1.0     0.000000     0.000000  \n",
       "max       1.000000     1.000000        1.0     1.000000     2.000000  "
      ]
     },
     "execution_count": 115,
     "metadata": {},
     "output_type": "execute_result"
    }
   ],
   "source": [
    "quality_B.describe()"
   ]
  },
  {
   "cell_type": "code",
   "execution_count": 116,
   "id": "ba4c3d61",
   "metadata": {
    "scrolled": true
   },
   "outputs": [
    {
     "data": {
      "text/html": [
       "<div>\n",
       "<style scoped>\n",
       "    .dataframe tbody tr th:only-of-type {\n",
       "        vertical-align: middle;\n",
       "    }\n",
       "\n",
       "    .dataframe tbody tr th {\n",
       "        vertical-align: top;\n",
       "    }\n",
       "\n",
       "    .dataframe thead th {\n",
       "        text-align: right;\n",
       "    }\n",
       "</style>\n",
       "<table border=\"1\" class=\"dataframe\">\n",
       "  <thead>\n",
       "    <tr style=\"text-align: right;\">\n",
       "      <th></th>\n",
       "      <th>Fixed Acidity</th>\n",
       "      <th>Volatile Acidity</th>\n",
       "      <th>Citric Acid</th>\n",
       "      <th>Residual Sugar</th>\n",
       "      <th>Chlorides</th>\n",
       "      <th>Free SO2</th>\n",
       "      <th>Total SO2</th>\n",
       "      <th>pH</th>\n",
       "      <th>Alcohol</th>\n",
       "    </tr>\n",
       "  </thead>\n",
       "  <tbody>\n",
       "    <tr>\n",
       "      <th>count</th>\n",
       "      <td>20.000000</td>\n",
       "      <td>20.000000</td>\n",
       "      <td>20.0</td>\n",
       "      <td>20.000000</td>\n",
       "      <td>20.000000</td>\n",
       "      <td>20.000000</td>\n",
       "      <td>20.000000</td>\n",
       "      <td>20.0</td>\n",
       "      <td>20.000000</td>\n",
       "    </tr>\n",
       "    <tr>\n",
       "      <th>mean</th>\n",
       "      <td>2.200000</td>\n",
       "      <td>0.450000</td>\n",
       "      <td>1.0</td>\n",
       "      <td>0.300000</td>\n",
       "      <td>0.100000</td>\n",
       "      <td>0.050000</td>\n",
       "      <td>0.900000</td>\n",
       "      <td>0.0</td>\n",
       "      <td>0.250000</td>\n",
       "    </tr>\n",
       "    <tr>\n",
       "      <th>std</th>\n",
       "      <td>0.951453</td>\n",
       "      <td>0.759155</td>\n",
       "      <td>0.0</td>\n",
       "      <td>0.470162</td>\n",
       "      <td>0.307794</td>\n",
       "      <td>0.223607</td>\n",
       "      <td>0.307794</td>\n",
       "      <td>0.0</td>\n",
       "      <td>0.638666</td>\n",
       "    </tr>\n",
       "    <tr>\n",
       "      <th>min</th>\n",
       "      <td>1.000000</td>\n",
       "      <td>0.000000</td>\n",
       "      <td>1.0</td>\n",
       "      <td>0.000000</td>\n",
       "      <td>0.000000</td>\n",
       "      <td>0.000000</td>\n",
       "      <td>0.000000</td>\n",
       "      <td>0.0</td>\n",
       "      <td>0.000000</td>\n",
       "    </tr>\n",
       "    <tr>\n",
       "      <th>25%</th>\n",
       "      <td>1.750000</td>\n",
       "      <td>0.000000</td>\n",
       "      <td>1.0</td>\n",
       "      <td>0.000000</td>\n",
       "      <td>0.000000</td>\n",
       "      <td>0.000000</td>\n",
       "      <td>1.000000</td>\n",
       "      <td>0.0</td>\n",
       "      <td>0.000000</td>\n",
       "    </tr>\n",
       "    <tr>\n",
       "      <th>50%</th>\n",
       "      <td>2.000000</td>\n",
       "      <td>0.000000</td>\n",
       "      <td>1.0</td>\n",
       "      <td>0.000000</td>\n",
       "      <td>0.000000</td>\n",
       "      <td>0.000000</td>\n",
       "      <td>1.000000</td>\n",
       "      <td>0.0</td>\n",
       "      <td>0.000000</td>\n",
       "    </tr>\n",
       "    <tr>\n",
       "      <th>75%</th>\n",
       "      <td>3.000000</td>\n",
       "      <td>1.000000</td>\n",
       "      <td>1.0</td>\n",
       "      <td>1.000000</td>\n",
       "      <td>0.000000</td>\n",
       "      <td>0.000000</td>\n",
       "      <td>1.000000</td>\n",
       "      <td>0.0</td>\n",
       "      <td>0.000000</td>\n",
       "    </tr>\n",
       "    <tr>\n",
       "      <th>max</th>\n",
       "      <td>4.000000</td>\n",
       "      <td>2.000000</td>\n",
       "      <td>1.0</td>\n",
       "      <td>1.000000</td>\n",
       "      <td>1.000000</td>\n",
       "      <td>1.000000</td>\n",
       "      <td>1.000000</td>\n",
       "      <td>0.0</td>\n",
       "      <td>2.000000</td>\n",
       "    </tr>\n",
       "  </tbody>\n",
       "</table>\n",
       "</div>"
      ],
      "text/plain": [
       "       Fixed Acidity  Volatile Acidity  Citric Acid  Residual Sugar  \\\n",
       "count      20.000000         20.000000         20.0       20.000000   \n",
       "mean        2.200000          0.450000          1.0        0.300000   \n",
       "std         0.951453          0.759155          0.0        0.470162   \n",
       "min         1.000000          0.000000          1.0        0.000000   \n",
       "25%         1.750000          0.000000          1.0        0.000000   \n",
       "50%         2.000000          0.000000          1.0        0.000000   \n",
       "75%         3.000000          1.000000          1.0        1.000000   \n",
       "max         4.000000          2.000000          1.0        1.000000   \n",
       "\n",
       "       Chlorides   Free SO2  Total SO2    pH    Alcohol  \n",
       "count  20.000000  20.000000  20.000000  20.0  20.000000  \n",
       "mean    0.100000   0.050000   0.900000   0.0   0.250000  \n",
       "std     0.307794   0.223607   0.307794   0.0   0.638666  \n",
       "min     0.000000   0.000000   0.000000   0.0   0.000000  \n",
       "25%     0.000000   0.000000   1.000000   0.0   0.000000  \n",
       "50%     0.000000   0.000000   1.000000   0.0   0.000000  \n",
       "75%     0.000000   0.000000   1.000000   0.0   0.000000  \n",
       "max     1.000000   1.000000   1.000000   0.0   2.000000  "
      ]
     },
     "execution_count": 116,
     "metadata": {},
     "output_type": "execute_result"
    }
   ],
   "source": [
    "quality_C.describe()"
   ]
  },
  {
   "cell_type": "code",
   "execution_count": 117,
   "id": "66b591a3",
   "metadata": {},
   "outputs": [],
   "source": [
    "quality_A.to_csv(\"Grade-A-White-Wine-Preprocessed.csv\", sep = ',', index = False)"
   ]
  },
  {
   "cell_type": "code",
   "execution_count": 118,
   "id": "ac343cbe",
   "metadata": {},
   "outputs": [],
   "source": [
    "quality_B.to_csv(\"Grade-B-White-Wine-Preprocessed.csv\", sep = ',', index = False)"
   ]
  },
  {
   "cell_type": "code",
   "execution_count": 119,
   "id": "c12e4973",
   "metadata": {},
   "outputs": [],
   "source": [
    "quality_C.to_csv(\"Grade-C-White-Wine-Preprocessed.csv\", sep = ',', index = False)"
   ]
  },
  {
   "cell_type": "code",
   "execution_count": 120,
   "id": "9371eee4",
   "metadata": {},
   "outputs": [
    {
     "data": {
      "text/plain": [
       "array([[ 7.  ,  0.27,  0.36, ...,  0.45,  8.8 ,  6.  ],\n",
       "       [ 6.3 ,  0.3 ,  0.34, ...,  0.49,  9.5 ,  6.  ],\n",
       "       [ 8.1 ,  0.28,  0.4 , ...,  0.44, 10.1 ,  6.  ],\n",
       "       ...,\n",
       "       [ 6.5 ,  0.24,  0.19, ...,  0.46,  9.4 ,  6.  ],\n",
       "       [ 5.5 ,  0.29,  0.3 , ...,  0.38, 12.8 ,  7.  ],\n",
       "       [ 6.  ,  0.21,  0.38, ...,  0.32, 11.8 ,  6.  ]])"
      ]
     },
     "execution_count": 120,
     "metadata": {},
     "output_type": "execute_result"
    }
   ],
   "source": [
    "raw_white_wine_2 = np.genfromtxt(\"winequality-white.csv\", delimiter = ';', skip_header = 1)\n",
    "raw_white_wine_2"
   ]
  },
  {
   "cell_type": "code",
   "execution_count": 121,
   "id": "33527cd8",
   "metadata": {},
   "outputs": [],
   "source": [
    "# The quality of the wines is a score between 1 and 10.\n",
    "# low quality(0,1,2,3)-- denoted by 0.\n",
    "# avg. quality(4,5,6,7)-- denoted by 1.\n",
    "# high quality(8,9,10)-- denoted by 2.\n",
    "\n",
    "low_quality = np.array([0,1,2,3])\n",
    "avg_quality = np.array([4,5,6,7])\n",
    "high_quality = np.array([8,9,10])"
   ]
  },
  {
   "cell_type": "code",
   "execution_count": 122,
   "id": "a44765d1",
   "metadata": {},
   "outputs": [],
   "source": [
    "raw_white_wine_2[:,-1] = np.where(np.isin(raw_white_wine_2[:,-1], low_quality), 0, raw_white_wine_2[:,-1])"
   ]
  },
  {
   "cell_type": "code",
   "execution_count": 123,
   "id": "bec0dba3",
   "metadata": {},
   "outputs": [],
   "source": [
    "raw_white_wine_2[:,-1] = np.where(np.isin(raw_white_wine_2[:,-1], avg_quality), 1, raw_white_wine_2[:,-1])\n",
    "raw_white_wine_2[:,-1] = np.where(np.isin(raw_white_wine_2[:,-1], high_quality), 2, raw_white_wine_2[:,-1])"
   ]
  },
  {
   "cell_type": "code",
   "execution_count": 124,
   "id": "cd0a0f0f",
   "metadata": {},
   "outputs": [
    {
     "data": {
      "text/plain": [
       "array([0., 1., 2.])"
      ]
     },
     "execution_count": 124,
     "metadata": {},
     "output_type": "execute_result"
    }
   ],
   "source": [
    "np.unique(raw_white_wine_2[:,-1])"
   ]
  },
  {
   "cell_type": "code",
   "execution_count": 125,
   "id": "895ec9fa",
   "metadata": {},
   "outputs": [
    {
     "data": {
      "text/plain": [
       "array([['\"fixed acidity\"', '\"volatile acidity\"', '\"citric acid\"', ..., '\"sulphates\"', '\"alcohol\"',\n",
       "        '\"quality\"'],\n",
       "       ['7.0', '0.27', '0.36', ..., '0.45', '8.8', '1.0'],\n",
       "       ['6.3', '0.3', '0.34', ..., '0.49', '9.5', '1.0'],\n",
       "       ...,\n",
       "       ['6.5', '0.24', '0.19', ..., '0.46', '9.4', '1.0'],\n",
       "       ['5.5', '0.29', '0.3', ..., '0.38', '12.8', '1.0'],\n",
       "       ['6.0', '0.21', '0.38', ..., '0.32', '11.8', '1.0']], dtype='<U32')"
      ]
     },
     "execution_count": 125,
     "metadata": {},
     "output_type": "execute_result"
    }
   ],
   "source": [
    "raw_white_wine_2_w_headers = np.vstack((header_white, raw_white_wine_2))\n",
    "raw_white_wine_2_w_headers"
   ]
  },
  {
   "cell_type": "code",
   "execution_count": 126,
   "id": "dfa04c7f",
   "metadata": {},
   "outputs": [],
   "source": [
    "grade_A = np.array(['2.0'])\n",
    "grade_B = np.array(['1.0'])\n",
    "grade_C = np.array(['0.0'])"
   ]
  },
  {
   "cell_type": "code",
   "execution_count": 127,
   "id": "c46f63c7",
   "metadata": {},
   "outputs": [],
   "source": [
    "raw_white_wine_2_w_headers[:,-1] = np.where(np.isin(raw_white_wine_2_w_headers[:,-1], grade_A), \n",
    "                                            'A', raw_white_wine_2_w_headers[:,-1])"
   ]
  },
  {
   "cell_type": "code",
   "execution_count": 128,
   "id": "f848fb3d",
   "metadata": {},
   "outputs": [],
   "source": [
    "raw_white_wine_2_w_headers[:,-1] = np.where(np.isin(raw_white_wine_2_w_headers[:,-1], grade_B), \n",
    "                                            'B', raw_white_wine_2_w_headers[:,-1])"
   ]
  },
  {
   "cell_type": "code",
   "execution_count": 129,
   "id": "c066b3a4",
   "metadata": {},
   "outputs": [],
   "source": [
    "raw_white_wine_2_w_headers[:,-1] = np.where(np.isin(raw_white_wine_2_w_headers[:,-1], grade_C), \n",
    "                                            'C', raw_white_wine_2_w_headers[:,-1])"
   ]
  },
  {
   "cell_type": "code",
   "execution_count": 130,
   "id": "5167e408",
   "metadata": {},
   "outputs": [
    {
     "data": {
      "text/plain": [
       "array(['\"quality\"', 'A', 'B', 'C'], dtype='<U32')"
      ]
     },
     "execution_count": 130,
     "metadata": {},
     "output_type": "execute_result"
    }
   ],
   "source": [
    "np.unique(raw_white_wine_2_w_headers[:,-1])"
   ]
  },
  {
   "cell_type": "code",
   "execution_count": 131,
   "id": "dddee3ef",
   "metadata": {},
   "outputs": [],
   "source": [
    "np.savetxt(\"Raw-White-Wine-w-Grades.csv\", raw_white_wine_2_w_headers, fmt = '%s', delimiter = ',')"
   ]
  },
  {
   "cell_type": "code",
   "execution_count": null,
   "id": "cab2f531",
   "metadata": {},
   "outputs": [],
   "source": []
  }
 ],
 "metadata": {
  "kernelspec": {
   "display_name": "Python 3 (ipykernel)",
   "language": "python",
   "name": "python3"
  },
  "language_info": {
   "codemirror_mode": {
    "name": "ipython",
    "version": 3
   },
   "file_extension": ".py",
   "mimetype": "text/x-python",
   "name": "python",
   "nbconvert_exporter": "python",
   "pygments_lexer": "ipython3",
   "version": "3.11.5"
  }
 },
 "nbformat": 4,
 "nbformat_minor": 5
}
