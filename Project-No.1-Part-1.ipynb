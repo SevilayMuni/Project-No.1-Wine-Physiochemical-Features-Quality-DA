{
 "cells": [
  {
   "cell_type": "code",
   "execution_count": 1,
   "id": "03d1c49f",
   "metadata": {},
   "outputs": [],
   "source": [
    "import numpy as np\n",
    "import pandas as pd"
   ]
  },
  {
   "cell_type": "code",
   "execution_count": 2,
   "id": "e8a43960",
   "metadata": {},
   "outputs": [],
   "source": [
    "np.set_printoptions(suppress = True, linewidth = 100)"
   ]
  },
  {
   "cell_type": "code",
   "execution_count": 3,
   "id": "a59340c3",
   "metadata": {
    "scrolled": true
   },
   "outputs": [
    {
     "data": {
      "text/plain": [
       "array([[ 7.4  ,  0.7  ,  0.   , ...,  0.56 ,  9.4  ,  5.   ],\n",
       "       [ 7.8  ,  0.88 ,  0.   , ...,  0.68 ,  9.8  ,  5.   ],\n",
       "       [ 7.8  ,  0.76 ,  0.04 , ...,  0.65 ,  9.8  ,  5.   ],\n",
       "       ...,\n",
       "       [ 6.3  ,  0.51 ,  0.13 , ...,  0.75 , 11.   ,  6.   ],\n",
       "       [ 5.9  ,  0.645,  0.12 , ...,  0.71 , 10.2  ,  5.   ],\n",
       "       [ 6.   ,  0.31 ,  0.47 , ...,  0.66 , 11.   ,  6.   ]])"
      ]
     },
     "execution_count": 3,
     "metadata": {},
     "output_type": "execute_result"
    }
   ],
   "source": [
    "raw_redwine = np.genfromtxt(\"winequality-red.csv\", delimiter = ';', skip_header = 1)\n",
    "raw_redwine"
   ]
  },
  {
   "cell_type": "code",
   "execution_count": 4,
   "id": "2c4bdd5a",
   "metadata": {},
   "outputs": [
    {
     "data": {
      "text/plain": [
       "(1599, 12)"
      ]
     },
     "execution_count": 4,
     "metadata": {},
     "output_type": "execute_result"
    }
   ],
   "source": [
    "raw_redwine.shape"
   ]
  },
  {
   "cell_type": "code",
   "execution_count": null,
   "id": "34497ed4",
   "metadata": {},
   "outputs": [],
   "source": [
    "# fixed acidity (g(tartaric acid)/L), volatile acidity (g(acetic acid)/L), citric acid(g/L)\n",
    "# residual sugar (g/L), chlorides(g(sodium chloride)/L), free sulfur dioxide (mg/L), total sulfur dioxide (mg/L)\n",
    "# density (g/ml), pH , sulphates(g(potassium sulphate)/L)\n",
    "# alcohol ( % vol.)."
   ]
  },
  {
   "cell_type": "code",
   "execution_count": 5,
   "id": "ea138f46",
   "metadata": {},
   "outputs": [
    {
     "data": {
      "text/plain": [
       "array(['\"fixed acidity\"', '\"volatile acidity\"', '\"citric acid\"', '\"residual sugar\"', '\"chlorides\"',\n",
       "       '\"free sulfur dioxide\"', '\"total sulfur dioxide\"', '\"density\"', '\"pH\"', '\"sulphates\"',\n",
       "       '\"alcohol\"', '\"quality\"'], dtype='<U22')"
      ]
     },
     "execution_count": 5,
     "metadata": {},
     "output_type": "execute_result"
    }
   ],
   "source": [
    "header_red = np.genfromtxt(\"winequality-red.csv\", delimiter = ';', skip_footer = raw_redwine.shape[0], autostrip = True, dtype = 'str')\n",
    "header_red"
   ]
  },
  {
   "cell_type": "code",
   "execution_count": 6,
   "id": "3d2ef211",
   "metadata": {},
   "outputs": [],
   "source": [
    "def checkpoint(file_name, checkpoint_header, checkpoint_data):\n",
    "    np.savez(file_name, header = checkpoint_header, data = checkpoint_data)\n",
    "    checkpoint_variable = np.load(file_name + \".npz\")\n",
    "    return(checkpoint_variable)"
   ]
  },
  {
   "cell_type": "code",
   "execution_count": 7,
   "id": "254a45d8",
   "metadata": {},
   "outputs": [],
   "source": [
    "RedWine_checkpoint_1 = checkpoint(\"RedWine-1st-checkpoint\", header_red, raw_redwine)"
   ]
  },
  {
   "cell_type": "code",
   "execution_count": 8,
   "id": "862923fa",
   "metadata": {},
   "outputs": [
    {
     "data": {
      "text/plain": [
       "(array(['\"fixed acidity\"', '\"volatile acidity\"', '\"citric acid\"', '\"residual sugar\"', '\"chlorides\"',\n",
       "        '\"free sulfur dioxide\"', '\"total sulfur dioxide\"', '\"density\"', '\"pH\"', '\"sulphates\"',\n",
       "        '\"alcohol\"', '\"quality\"'], dtype='<U22'),\n",
       " array([[ 7.4  ,  0.7  ,  0.   , ...,  0.56 ,  9.4  ,  5.   ],\n",
       "        [ 7.8  ,  0.88 ,  0.   , ...,  0.68 ,  9.8  ,  5.   ],\n",
       "        [ 7.8  ,  0.76 ,  0.04 , ...,  0.65 ,  9.8  ,  5.   ],\n",
       "        ...,\n",
       "        [ 6.3  ,  0.51 ,  0.13 , ...,  0.75 , 11.   ,  6.   ],\n",
       "        [ 5.9  ,  0.645,  0.12 , ...,  0.71 , 10.2  ,  5.   ],\n",
       "        [ 6.   ,  0.31 ,  0.47 , ...,  0.66 , 11.   ,  6.   ]]))"
      ]
     },
     "execution_count": 8,
     "metadata": {},
     "output_type": "execute_result"
    }
   ],
   "source": [
    "RedWine_checkpoint_1['header'],RedWine_checkpoint_1['data']"
   ]
  },
  {
   "cell_type": "code",
   "execution_count": 9,
   "id": "41c20731",
   "metadata": {},
   "outputs": [
    {
     "data": {
      "text/plain": [
       "0"
      ]
     },
     "execution_count": 9,
     "metadata": {},
     "output_type": "execute_result"
    }
   ],
   "source": [
    "# screeening for missing values\n",
    "\n",
    "np.isnan(raw_redwine).sum()"
   ]
  },
  {
   "cell_type": "code",
   "execution_count": 10,
   "id": "b12076cd",
   "metadata": {},
   "outputs": [
    {
     "data": {
      "text/plain": [
       "array([ 4.6, 15.9])"
      ]
     },
     "execution_count": 10,
     "metadata": {},
     "output_type": "execute_result"
    }
   ],
   "source": [
    "stats_redwine = np.array([np.min(raw_redwine[:,0]), np.max(raw_redwine[:,0])])\n",
    "stats_redwine"
   ]
  },
  {
   "cell_type": "code",
   "execution_count": 11,
   "id": "be9030d2",
   "metadata": {},
   "outputs": [
    {
     "data": {
      "text/plain": [
       "array([ 4.6,  4.7,  4.9,  5. ,  5.1,  5.2,  5.3,  5.4,  5.5,  5.6,  5.7,  5.8,  5.9,  6. ,  6.1,\n",
       "        6.2,  6.3,  6.4,  6.5,  6.6,  6.7,  6.8,  6.9,  7. ,  7.1,  7.2,  7.3,  7.4,  7.5,  7.6,\n",
       "        7.7,  7.8,  7.9,  8. ,  8.1,  8.2,  8.3,  8.4,  8.5,  8.6,  8.7,  8.8,  8.9,  9. ,  9.1,\n",
       "        9.2,  9.3,  9.4,  9.5,  9.6,  9.7,  9.8,  9.9, 10. , 10.1, 10.2, 10.3, 10.4, 10.5, 10.6,\n",
       "       10.7, 10.8, 10.9, 11. , 11.1, 11.2, 11.3, 11.4, 11.5, 11.6, 11.7, 11.8, 11.9, 12. , 12.1,\n",
       "       12.2, 12.3, 12.4, 12.5, 12.6, 12.7, 12.8, 12.9, 13. , 13.2, 13.3, 13.4, 13.5, 13.7, 13.8,\n",
       "       14. , 14.3, 15. , 15.5, 15.6, 15.9])"
      ]
     },
     "execution_count": 11,
     "metadata": {},
     "output_type": "execute_result"
    }
   ],
   "source": [
    "np.unique(raw_redwine[:,0])"
   ]
  },
  {
   "cell_type": "code",
   "execution_count": 12,
   "id": "f84446c8",
   "metadata": {},
   "outputs": [],
   "source": [
    "# grouping fixed acidity into 4 stages: \n",
    "# 1-- low value of fixed acidity(4.5-6.9)\n",
    "# 2-- notr value of fixed acidity(7.0-7.9)\n",
    "# 3-- high value of fixed acidity(8.0-11.9)\n",
    "# 4-- very high value of fixed acidity(12.0-15.9)\n",
    "\n",
    "low_value = np.array([ 4.6,  4.7,  4.9,  5. ,  5.1,  5.2,  5.3,  5.4,  5.5,  5.6,  5.7,  5.8,  5.9,  \n",
    "                      6. ,  6.1, 6.2,  6.3,  6.4,  6.5,  6.6,  6.7,  6.8,  6.9])\n",
    "notr_value = np.array([7. ,  7.1,  7.2,  7.3,  7.4,  7.5,  7.6, 7.7,  7.8,  7.9])\n",
    "high_value = np.array([8. ,  8.1,  8.2,  8.3,  8.4,  8.5,  8.6,  8.7,  8.8,  8.9,  \n",
    "                       9. ,  9.1, 9.2,  9.3,  9.4,  9.5,  9.6,  9.7,  9.8,  9.9, \n",
    "                       10. , 10.1, 10.2, 10.3, 10.4, 10.5, 10.6, 10.7, 10.8, 10.9, \n",
    "                       11. , 11.1, 11.2, 11.3, 11.4, 11.5, 11.6, 11.7, 11.8, 11.9])\n",
    "very_high_value = np.array([12. , 12.1, 12.2, 12.3, 12.4, 12.5, 12.6, 12.7, 12.8, 12.9, \n",
    "                            13. , 13.2, 13.3, 13.4, 13.5, 13.7, 13.8, 14. , 14.3, 15. , 15.5, 15.6, 15.9])"
   ]
  },
  {
   "cell_type": "code",
   "execution_count": 13,
   "id": "a4d5d5b5",
   "metadata": {
    "scrolled": true
   },
   "outputs": [],
   "source": [
    "raw_redwine[:,0] = np.where(np.isin(raw_redwine[:,0], low_value), 1, raw_redwine[:,0])\n",
    "raw_redwine[:,0] = np.where(np.isin(raw_redwine[:,0], notr_value), 2, raw_redwine[:,0])\n",
    "raw_redwine[:,0] = np.where(np.isin(raw_redwine[:,0], high_value), 3, raw_redwine[:,0])\n",
    "raw_redwine[:,0] = np.where(np.isin(raw_redwine[:,0], very_high_value), 4, raw_redwine[:,0])"
   ]
  },
  {
   "cell_type": "code",
   "execution_count": 14,
   "id": "6ab487c8",
   "metadata": {
    "scrolled": true
   },
   "outputs": [
    {
     "data": {
      "text/plain": [
       "array([1., 2., 3., 4.])"
      ]
     },
     "execution_count": 14,
     "metadata": {},
     "output_type": "execute_result"
    }
   ],
   "source": [
    "np.unique(raw_redwine[:,0])"
   ]
  },
  {
   "cell_type": "code",
   "execution_count": 15,
   "id": "0eccba73",
   "metadata": {},
   "outputs": [
    {
     "data": {
      "text/plain": [
       "1599"
      ]
     },
     "execution_count": 15,
     "metadata": {},
     "output_type": "execute_result"
    }
   ],
   "source": [
    "len(raw_redwine[:,0])"
   ]
  },
  {
   "cell_type": "code",
   "execution_count": 16,
   "id": "9ef9fb5a",
   "metadata": {},
   "outputs": [
    {
     "data": {
      "text/plain": [
       "array(['\"fixed acidity\"', '\"volatile acidity\"', '\"citric acid\"', '\"residual sugar\"', '\"chlorides\"',\n",
       "       '\"free sulfur dioxide\"', '\"total sulfur dioxide\"', '\"density\"', '\"pH\"', '\"sulphates\"',\n",
       "       '\"alcohol\"', '\"quality\"'], dtype='<U22')"
      ]
     },
     "execution_count": 16,
     "metadata": {},
     "output_type": "execute_result"
    }
   ],
   "source": [
    "header_red"
   ]
  },
  {
   "cell_type": "code",
   "execution_count": 17,
   "id": "cce87afd",
   "metadata": {},
   "outputs": [
    {
     "data": {
      "text/plain": [
       "array([0.12 , 0.16 , 0.18 , 0.19 , 0.2  , 0.21 , 0.22 , 0.23 , 0.24 , 0.25 , 0.26 , 0.27 , 0.28 ,\n",
       "       0.29 , 0.295, 0.3  , 0.305, 0.31 , 0.315, 0.32 , 0.33 , 0.34 , 0.35 , 0.36 , 0.365, 0.37 ,\n",
       "       0.38 , 0.39 , 0.395, 0.4  , 0.41 , 0.415, 0.42 , 0.43 , 0.44 , 0.45 , 0.46 , 0.47 , 0.475,\n",
       "       0.48 , 0.49 , 0.5  , 0.51 , 0.52 , 0.53 , 0.54 , 0.545, 0.55 , 0.56 , 0.565, 0.57 , 0.575,\n",
       "       0.58 , 0.585, 0.59 , 0.595, 0.6  , 0.605, 0.61 , 0.615, 0.62 , 0.625, 0.63 , 0.635, 0.64 ,\n",
       "       0.645, 0.65 , 0.655, 0.66 , 0.665, 0.67 , 0.675, 0.68 , 0.685, 0.69 , 0.695, 0.7  , 0.705,\n",
       "       0.71 , 0.715, 0.72 , 0.725, 0.73 , 0.735, 0.74 , 0.745, 0.75 , 0.755, 0.76 , 0.765, 0.77 ,\n",
       "       0.775, 0.78 , 0.785, 0.79 , 0.795, 0.8  , 0.805, 0.81 , 0.815, 0.82 , 0.825, 0.83 , 0.835,\n",
       "       0.84 , 0.845, 0.85 , 0.855, 0.86 , 0.865, 0.87 , 0.875, 0.88 , 0.885, 0.89 , 0.895, 0.9  ,\n",
       "       0.91 , 0.915, 0.92 , 0.935, 0.95 , 0.955, 0.96 , 0.965, 0.975, 0.98 , 1.   , 1.005, 1.01 ,\n",
       "       1.02 , 1.025, 1.035, 1.04 , 1.07 , 1.09 , 1.115, 1.13 , 1.18 , 1.185, 1.24 , 1.33 , 1.58 ])"
      ]
     },
     "execution_count": 17,
     "metadata": {},
     "output_type": "execute_result"
    }
   ],
   "source": [
    "np.unique(raw_redwine[:,1])"
   ]
  },
  {
   "cell_type": "code",
   "execution_count": 18,
   "id": "92061e3f",
   "metadata": {},
   "outputs": [],
   "source": [
    "# The average volatile acidity value for red table wines during this period is about 0.60 g/L.\n",
    "# data for volatile acidity of red wine will be calssified into 3 classes: 0-- below average(0.100-0.530)\n",
    "# 1-- average (0.540- 0.690)\n",
    "# 2-- above average (0.695-1.580)\n",
    "\n",
    "below_average = np.array([0.12 , 0.16 , 0.18 , 0.19 , 0.2  , 0.21 , 0.22 , 0.23 , 0.24 , \n",
    "                          0.25 , 0.26 , 0.27 , 0.28 , 0.29 , 0.295, 0.3  , 0.305, 0.31 , 0.315, \n",
    "                          0.32 , 0.33 , 0.34 , 0.35 , 0.36 , 0.365, 0.37 , 0.38 , 0.39 , 0.395, \n",
    "                          0.4  , 0.41 , 0.415, 0.42 , 0.43 , 0.44 , 0.45 , 0.46 , 0.47 , 0.475, 0.48 , 0.49 , \n",
    "                          0.5  , 0.51 , 0.52 , 0.53])\n",
    "average = np.array([0.54 , 0.545, 0.55 , 0.56 , 0.565, 0.57 , 0.575, 0.58 , 0.585, 0.59 , 0.595, \n",
    "                    0.6  , 0.605, 0.61 , 0.615, 0.62 , 0.625, 0.63 , 0.635, 0.64 , 0.645, \n",
    "                    0.65 , 0.655, 0.66 , 0.665, 0.67 , 0.675, 0.68 , 0.685, 0.69])\n",
    "above_average = np.array([0.695, 0.7  , 0.705, 0.71 , 0.715, 0.72 , 0.725, 0.73 , 0.735, \n",
    "                          0.74 , 0.745, 0.75 , 0.755, 0.76 , 0.765, 0.77 , 0.775, 0.78 , 0.785, \n",
    "                          0.79 , 0.795, 0.8  , 0.805, 0.81 , 0.815, 0.82 , 0.825, 0.83 , 0.835, \n",
    "                          0.84 , 0.845, 0.85 , 0.855, 0.86 , 0.865, 0.87 , 0.875, 0.88 , 0.885, \n",
    "                          0.89 , 0.895, 0.9  , 0.91 , 0.915, 0.92 , 0.935, 0.95 , 0.955, \n",
    "                          0.96 , 0.965, 0.975, 0.98 , 1.   , 1.005, 1.01 , 1.02 , 1.025, 1.035, \n",
    "                          1.04 , 1.07 , 1.09 , 1.115, 1.13 , 1.18 , 1.185, 1.24 , 1.33 , 1.58])"
   ]
  },
  {
   "cell_type": "code",
   "execution_count": 19,
   "id": "ce399dbd",
   "metadata": {},
   "outputs": [],
   "source": [
    "raw_redwine[:,1] = np.where(np.isin(raw_redwine[:,1], below_average), 0, raw_redwine[:,1])"
   ]
  },
  {
   "cell_type": "code",
   "execution_count": 20,
   "id": "b587cb79",
   "metadata": {},
   "outputs": [],
   "source": [
    "raw_redwine[:,1] = np.where(np.isin(raw_redwine[:,1], above_average), 2, raw_redwine[:,1])"
   ]
  },
  {
   "cell_type": "code",
   "execution_count": 21,
   "id": "51e02a94",
   "metadata": {},
   "outputs": [],
   "source": [
    "raw_redwine[:,1] = np.where(np.isin(raw_redwine[:,1], average), 1, raw_redwine[:,1])"
   ]
  },
  {
   "cell_type": "code",
   "execution_count": 22,
   "id": "df2f4975",
   "metadata": {},
   "outputs": [
    {
     "data": {
      "text/plain": [
       "array([0., 1., 2.])"
      ]
     },
     "execution_count": 22,
     "metadata": {},
     "output_type": "execute_result"
    }
   ],
   "source": [
    "np.unique(raw_redwine[:,1])"
   ]
  },
  {
   "cell_type": "code",
   "execution_count": 23,
   "id": "bbfe4b32",
   "metadata": {},
   "outputs": [
    {
     "data": {
      "text/plain": [
       "array([2., 2., 2., ..., 0., 1., 0.])"
      ]
     },
     "execution_count": 23,
     "metadata": {},
     "output_type": "execute_result"
    }
   ],
   "source": [
    "raw_redwine[:,1]"
   ]
  },
  {
   "cell_type": "code",
   "execution_count": 24,
   "id": "787e0006",
   "metadata": {},
   "outputs": [
    {
     "data": {
      "text/plain": [
       "'\"citric acid\"'"
      ]
     },
     "execution_count": 24,
     "metadata": {},
     "output_type": "execute_result"
    }
   ],
   "source": [
    "header_red[2]"
   ]
  },
  {
   "cell_type": "code",
   "execution_count": 25,
   "id": "1f92ae12",
   "metadata": {},
   "outputs": [
    {
     "data": {
      "text/plain": [
       "(array([0.  , 0.01, 0.02, 0.03, 0.04, 0.05, 0.06, 0.07, 0.08, 0.09, 0.1 , 0.11, 0.12, 0.13, 0.14,\n",
       "        0.15, 0.16, 0.17, 0.18, 0.19, 0.2 , 0.21, 0.22, 0.23, 0.24, 0.25, 0.26, 0.27, 0.28, 0.29,\n",
       "        0.3 , 0.31, 0.32, 0.33, 0.34, 0.35, 0.36, 0.37, 0.38, 0.39, 0.4 , 0.41, 0.42, 0.43, 0.44,\n",
       "        0.45, 0.46, 0.47, 0.48, 0.49, 0.5 , 0.51, 0.52, 0.53, 0.54, 0.55, 0.56, 0.57, 0.58, 0.59,\n",
       "        0.6 , 0.61, 0.62, 0.63, 0.64, 0.65, 0.66, 0.67, 0.68, 0.69, 0.7 , 0.71, 0.72, 0.73, 0.74,\n",
       "        0.75, 0.76, 0.78, 0.79, 1.  ]),\n",
       " array([132,  33,  50,  30,  29,  20,  24,  22,  33,  30,  35,  15,  27,  18,  21,  19,   9,  16,\n",
       "         22,  21,  25,  33,  27,  25,  51,  27,  38,  20,  19,  21,  30,  30,  32,  25,  24,  13,\n",
       "         20,  19,  14,  28,  29,  16,  29,  15,  23,  22,  19,  18,  23,  68,  20,  13,  17,  14,\n",
       "         13,  12,   8,   9,   9,   8,   9,   2,   1,  10,   9,   7,  14,   2,  11,   4,   2,   1,\n",
       "          1,   3,   4,   1,   3,   1,   1,   1]))"
      ]
     },
     "execution_count": 25,
     "metadata": {},
     "output_type": "execute_result"
    }
   ],
   "source": [
    "np.unique(raw_redwine[:,2], return_counts = True)"
   ]
  },
  {
   "cell_type": "code",
   "execution_count": 26,
   "id": "e02072f1",
   "metadata": {},
   "outputs": [],
   "source": [
    "# It can be added to finished wines to increase acidity and give a “fresh\" flavor. \n",
    "# The disadvantage of adding citric acid is its microbial instability. \n",
    "# we will classify citric acid(cc) data column according to its existence: 0-- will be denoted to not added\n",
    "# 1-- citric acid addded\n",
    "#!! for non exist- the range is applied since 0.04 can be just noise due to instrumental measurment\n",
    "\n",
    "cc_not_exist = np.array([0.  , 0.01, 0.02, 0.03])\n",
    "cc_exist = np.array([0.04, 0.05, 0.06, 0.07, 0.08, 0.09, \n",
    "                     0.1 , 0.11, 0.12, 0.13, 0.14, 0.15, 0.16, 0.17, 0.18, 0.19, \n",
    "                     0.2 , 0.21, 0.22, 0.23, 0.24, 0.25, 0.26, 0.27, 0.28, 0.29, \n",
    "                     0.3 , 0.31, 0.32, 0.33, 0.34, 0.35, 0.36, 0.37, 0.38, 0.39, \n",
    "                     0.4 , 0.41, 0.42, 0.43, 0.44, 0.45, 0.46, 0.47, 0.48, 0.49, \n",
    "                     0.5 , 0.51, 0.52, 0.53, 0.54, 0.55, 0.56, 0.57, 0.58, 0.59, \n",
    "                     0.6 , 0.61, 0.62, 0.63, 0.64, 0.65, 0.66, 0.67, 0.68, 0.69, \n",
    "                     0.7 , 0.71, 0.72, 0.73, 0.74, 0.75, 0.76, 0.78, 0.79, 1.])"
   ]
  },
  {
   "cell_type": "code",
   "execution_count": 27,
   "id": "d52a8ea6",
   "metadata": {},
   "outputs": [],
   "source": [
    "raw_redwine[:,2] = np.where(np.isin(raw_redwine[:,2], cc_not_exist), 0, raw_redwine[:,2])\n",
    "raw_redwine[:,2] = np.where(np.isin(raw_redwine[:,2], cc_exist), 1, raw_redwine[:,2])"
   ]
  },
  {
   "cell_type": "code",
   "execution_count": 28,
   "id": "09f2414f",
   "metadata": {},
   "outputs": [
    {
     "data": {
      "text/plain": [
       "(array([0., 1.]), array([ 245, 1354]))"
      ]
     },
     "execution_count": 28,
     "metadata": {},
     "output_type": "execute_result"
    }
   ],
   "source": [
    "np.unique(raw_redwine[:,2], return_counts = True)"
   ]
  },
  {
   "cell_type": "code",
   "execution_count": 29,
   "id": "609c92e7",
   "metadata": {},
   "outputs": [
    {
     "data": {
      "text/plain": [
       "'\"residual sugar\"'"
      ]
     },
     "execution_count": 29,
     "metadata": {},
     "output_type": "execute_result"
    }
   ],
   "source": [
    "header_red[3]"
   ]
  },
  {
   "cell_type": "code",
   "execution_count": 30,
   "id": "e572b61c",
   "metadata": {},
   "outputs": [
    {
     "data": {
      "text/plain": [
       "array([1.9, 2.6, 2.3, ..., 2.3, 2. , 3.6])"
      ]
     },
     "execution_count": 30,
     "metadata": {},
     "output_type": "execute_result"
    }
   ],
   "source": [
    "raw_redwine[:,3]"
   ]
  },
  {
   "cell_type": "code",
   "execution_count": 31,
   "id": "82b6453f",
   "metadata": {},
   "outputs": [
    {
     "data": {
      "text/plain": [
       "(array([ 0.9 ,  1.2 ,  1.3 ,  1.4 ,  1.5 ,  1.6 ,  1.65,  1.7 ,  1.75,  1.8 ,  1.9 ,  2.  ,  2.05,\n",
       "         2.1 ,  2.15,  2.2 ,  2.25,  2.3 ,  2.35,  2.4 ,  2.5 ,  2.55,  2.6 ,  2.65,  2.7 ,  2.8 ,\n",
       "         2.85,  2.9 ,  2.95,  3.  ,  3.1 ,  3.2 ,  3.3 ,  3.4 ,  3.45,  3.5 ,  3.6 ,  3.65,  3.7 ,\n",
       "         3.75,  3.8 ,  3.9 ,  4.  ,  4.1 ,  4.2 ,  4.25,  4.3 ,  4.4 ,  4.5 ,  4.6 ,  4.65,  4.7 ,\n",
       "         4.8 ,  5.  ,  5.1 ,  5.15,  5.2 ,  5.4 ,  5.5 ,  5.6 ,  5.7 ,  5.8 ,  5.9 ,  6.  ,  6.1 ,\n",
       "         6.2 ,  6.3 ,  6.4 ,  6.55,  6.6 ,  6.7 ,  7.  ,  7.2 ,  7.3 ,  7.5 ,  7.8 ,  7.9 ,  8.1 ,\n",
       "         8.3 ,  8.6 ,  8.8 ,  8.9 ,  9.  , 10.7 , 11.  , 12.9 , 13.4 , 13.8 , 13.9 , 15.4 , 15.5 ]),\n",
       " array([  2,   8,   5,  35,  30,  58,   2,  76,   2, 129, 117, 156,   2, 128,   2, 131,   1, 109,\n",
       "          1,  86,  84,   1,  79,   1,  39,  49,   1,  24,   1,  25,   7,  15,  11,  15,   1,   2,\n",
       "          8,   1,   4,   1,   8,   6,  11,   6,   5,   1,   8,   4,   4,   6,   2,   1,   3,   1,\n",
       "          5,   1,   3,   1,   8,   6,   1,   4,   3,   4,   4,   3,   2,   3,   2,   2,   2,   1,\n",
       "          1,   1,   1,   2,   3,   2,   3,   1,   2,   1,   1,   1,   2,   1,   1,   2,   1,   2,\n",
       "          1]))"
      ]
     },
     "execution_count": 31,
     "metadata": {},
     "output_type": "execute_result"
    }
   ],
   "source": [
    "np.unique(raw_redwine[:,3], return_counts = True)"
   ]
  },
  {
   "cell_type": "code",
   "execution_count": 32,
   "id": "17870464",
   "metadata": {},
   "outputs": [],
   "source": [
    "# Residual sugar levels vary in different styles of wine. \n",
    "# ‘Dry’ wines: 0-4 g/L-- denoted by 0 \n",
    "# ‘Sweet’ wines: 35 g/L and then go up from there -- denoted by 1\n",
    "\n",
    "sweet_wine = np.array(range(35,100))"
   ]
  },
  {
   "cell_type": "code",
   "execution_count": 33,
   "id": "83c0d016",
   "metadata": {
    "scrolled": true
   },
   "outputs": [
    {
     "data": {
      "text/plain": [
       "array([35, 36, 37, 38, 39, 40, 41, 42, 43, 44, 45, 46, 47, 48, 49, 50, 51, 52, 53, 54, 55, 56, 57,\n",
       "       58, 59, 60, 61, 62, 63, 64, 65, 66, 67, 68, 69, 70, 71, 72, 73, 74, 75, 76, 77, 78, 79, 80,\n",
       "       81, 82, 83, 84, 85, 86, 87, 88, 89, 90, 91, 92, 93, 94, 95, 96, 97, 98, 99])"
      ]
     },
     "execution_count": 33,
     "metadata": {},
     "output_type": "execute_result"
    }
   ],
   "source": [
    "sweet_wine"
   ]
  },
  {
   "cell_type": "code",
   "execution_count": 34,
   "id": "556cf02e",
   "metadata": {},
   "outputs": [],
   "source": [
    "raw_redwine[:,3] = np.where(np.isin(raw_redwine[:,3], sweet_wine), 1, 0)"
   ]
  },
  {
   "cell_type": "code",
   "execution_count": 35,
   "id": "c0cdcd9c",
   "metadata": {},
   "outputs": [
    {
     "data": {
      "text/plain": [
       "(array([0.]), array([1599]))"
      ]
     },
     "execution_count": 35,
     "metadata": {},
     "output_type": "execute_result"
    }
   ],
   "source": [
    "np.unique(raw_redwine[:,3], return_counts = True)"
   ]
  },
  {
   "cell_type": "code",
   "execution_count": 36,
   "id": "b019a826",
   "metadata": {},
   "outputs": [
    {
     "data": {
      "text/plain": [
       "'\"chlorides\"'"
      ]
     },
     "execution_count": 36,
     "metadata": {},
     "output_type": "execute_result"
    }
   ],
   "source": [
    "header_red[4]"
   ]
  },
  {
   "cell_type": "code",
   "execution_count": 37,
   "id": "8c9ee644",
   "metadata": {},
   "outputs": [
    {
     "data": {
      "text/plain": [
       "(array([0.012, 0.034, 0.038, 0.039, 0.041, 0.042, 0.043, 0.044, 0.045, 0.046, 0.047, 0.048, 0.049,\n",
       "        0.05 , 0.051, 0.052, 0.053, 0.054, 0.055, 0.056, 0.057, 0.058, 0.059, 0.06 , 0.061, 0.062,\n",
       "        0.063, 0.064, 0.065, 0.066, 0.067, 0.068, 0.069, 0.07 , 0.071, 0.072, 0.073, 0.074, 0.075,\n",
       "        0.076, 0.077, 0.078, 0.079, 0.08 , 0.081, 0.082, 0.083, 0.084, 0.085, 0.086, 0.087, 0.088,\n",
       "        0.089, 0.09 , 0.091, 0.092, 0.093, 0.094, 0.095, 0.096, 0.097, 0.098, 0.099, 0.1  , 0.101,\n",
       "        0.102, 0.103, 0.104, 0.105, 0.106, 0.107, 0.108, 0.109, 0.11 , 0.111, 0.112, 0.113, 0.114,\n",
       "        0.115, 0.116, 0.117, 0.118, 0.119, 0.12 , 0.121, 0.122, 0.123, 0.124, 0.125, 0.126, 0.127,\n",
       "        0.128, 0.132, 0.136, 0.137, 0.143, 0.145, 0.146, 0.147, 0.148, 0.152, 0.153, 0.157, 0.159,\n",
       "        0.161, 0.165, 0.166, 0.168, 0.169, 0.17 , 0.171, 0.172, 0.174, 0.176, 0.178, 0.186, 0.19 ,\n",
       "        0.194, 0.2  , 0.205, 0.213, 0.214, 0.216, 0.222, 0.226, 0.23 , 0.235, 0.236, 0.241, 0.243,\n",
       "        0.25 , 0.263, 0.267, 0.27 , 0.332, 0.337, 0.341, 0.343, 0.358, 0.36 , 0.368, 0.369, 0.387,\n",
       "        0.401, 0.403, 0.413, 0.414, 0.415, 0.422, 0.464, 0.467, 0.61 , 0.611]),\n",
       " array([ 2,  1,  2,  4,  4,  3,  1,  5,  4,  4,  4,  8,  8, 12,  1, 10,  5, 13,  8,  9, 10, 14, 17,\n",
       "        16, 11, 24, 22, 20, 23, 32, 27, 30, 21, 35, 47, 24, 35, 55, 45, 51, 47, 51, 43, 66, 40, 46,\n",
       "        35, 49, 25, 31, 25, 32, 25, 21, 19, 22, 21, 19, 23, 18, 18, 12,  8, 13,  5, 10,  7, 16,  6,\n",
       "         8,  9,  1,  3,  8,  7,  6,  1, 11,  5,  2,  4,  8,  3,  3,  2,  7,  6,  3,  1,  1,  1,  1,\n",
       "         4,  1,  1,  1,  1,  1,  1,  1,  2,  1,  3,  1,  1,  1,  3,  1,  1,  1,  2,  1,  1,  1,  2,\n",
       "         1,  1,  1,  1,  2,  1,  3,  1,  1,  2,  1,  1,  1,  1,  1,  1,  1,  1,  1,  1,  1,  1,  1,\n",
       "         1,  1,  1,  1,  1,  1,  1,  1,  2,  3,  1,  1,  1,  1,  1]))"
      ]
     },
     "execution_count": 37,
     "metadata": {},
     "output_type": "execute_result"
    }
   ],
   "source": [
    "np.unique(raw_redwine[:,4], return_counts = True)"
   ]
  },
  {
   "cell_type": "code",
   "execution_count": 38,
   "id": "576e94fe",
   "metadata": {},
   "outputs": [],
   "source": [
    "# Chlorides (sodium chloride) give the wine a salty flavor which may turn away potential consumers. \n",
    "# The chlorides max conc. in wine is about 0.20 - 0.60 g/L.\n",
    "# Not salty (below_maximum) -- denoted by 0\n",
    "# Salty (max. conc.) -- denoted by 1\n",
    "\n",
    "salty = np.array([0.2  , 0.205, 0.213, 0.214, 0.216, 0.222, 0.226, \n",
    "                  0.23 , 0.235, 0.236, 0.241, 0.243, 0.25 , 0.263, 0.267, \n",
    "                  0.27 , 0.332, 0.337, 0.341, 0.343, 0.358, 0.36 , 0.368, 0.369, \n",
    "                  0.387, 0.401, 0.403, 0.413, 0.414, 0.415, 0.422, 0.464, 0.467, 0.61 , 0.611])"
   ]
  },
  {
   "cell_type": "code",
   "execution_count": 39,
   "id": "8d05bd5a",
   "metadata": {},
   "outputs": [],
   "source": [
    "raw_redwine[:,4] = np.where(np.isin(raw_redwine[:,4], salty), 1, 0)"
   ]
  },
  {
   "cell_type": "code",
   "execution_count": 40,
   "id": "ac958859",
   "metadata": {},
   "outputs": [
    {
     "data": {
      "text/plain": [
       "(array([0., 1.]), array([1557,   42]))"
      ]
     },
     "execution_count": 40,
     "metadata": {},
     "output_type": "execute_result"
    }
   ],
   "source": [
    "np.unique(raw_redwine[:,4], return_counts = True)"
   ]
  },
  {
   "cell_type": "code",
   "execution_count": 41,
   "id": "99f1757e",
   "metadata": {},
   "outputs": [
    {
     "data": {
      "text/plain": [
       "'\"free sulfur dioxide\"'"
      ]
     },
     "execution_count": 41,
     "metadata": {},
     "output_type": "execute_result"
    }
   ],
   "source": [
    "header_red[5]"
   ]
  },
  {
   "cell_type": "code",
   "execution_count": 42,
   "id": "109e43ad",
   "metadata": {},
   "outputs": [
    {
     "data": {
      "text/plain": [
       "(array([ 1. ,  2. ,  3. ,  4. ,  5. ,  5.5,  6. ,  7. ,  8. ,  9. , 10. , 11. , 12. , 13. , 14. ,\n",
       "        15. , 16. , 17. , 18. , 19. , 20. , 21. , 22. , 23. , 24. , 25. , 26. , 27. , 28. , 29. ,\n",
       "        30. , 31. , 32. , 33. , 34. , 35. , 36. , 37. , 37.5, 38. , 39. , 40. , 40.5, 41. , 42. ,\n",
       "        43. , 45. , 46. , 47. , 48. , 50. , 51. , 52. , 53. , 54. , 55. , 57. , 66. , 68. , 72. ]),\n",
       " array([  3,   1,  49,  41, 104,   1, 138,  71,  56,  62,  79,  59,  75,  57,  50,  78,  61,  60,\n",
       "         46,  39,  30,  41,  22,  32,  34,  24,  32,  29,  23,  23,  16,  20,  22,  11,  18,  15,\n",
       "         11,   3,   2,   9,   5,   6,   1,   7,   3,   3,   3,   1,   1,   4,   2,   4,   3,   1,\n",
       "          1,   2,   1,   1,   2,   1]))"
      ]
     },
     "execution_count": 42,
     "metadata": {},
     "output_type": "execute_result"
    }
   ],
   "source": [
    "np.unique(raw_redwine[:,5], return_counts = True)"
   ]
  },
  {
   "cell_type": "code",
   "execution_count": 43,
   "id": "0c7ee49e",
   "metadata": {},
   "outputs": [],
   "source": [
    "# SO2 and its sulfite salts are essential for anti-oxidation and preservation properties. \n",
    "# SO2 Total = SO2 free + SO2 reacted.\n",
    "# free SO2 values of 25 mg/L on red wine is recommended.\n",
    "# not recommended denoted by 0 \n",
    "# recommended denoted by 1-- (25-3, 25+3)\n",
    "\n",
    "recommended = np.array([22. , 23. , 24. , 25. , 26. , 27. , 28.])"
   ]
  },
  {
   "cell_type": "code",
   "execution_count": 44,
   "id": "1b2606bf",
   "metadata": {},
   "outputs": [],
   "source": [
    "raw_redwine[:,5] = np.where(np.isin(raw_redwine[:,5], recommended), 1, 0)"
   ]
  },
  {
   "cell_type": "code",
   "execution_count": 45,
   "id": "e2395839",
   "metadata": {},
   "outputs": [
    {
     "data": {
      "text/plain": [
       "(array([0., 1.]), array([1403,  196]))"
      ]
     },
     "execution_count": 45,
     "metadata": {},
     "output_type": "execute_result"
    }
   ],
   "source": [
    "np.unique(raw_redwine[:,5], return_counts = True)"
   ]
  },
  {
   "cell_type": "code",
   "execution_count": 46,
   "id": "86451a36",
   "metadata": {},
   "outputs": [
    {
     "data": {
      "text/plain": [
       "'\"total sulfur dioxide\"'"
      ]
     },
     "execution_count": 46,
     "metadata": {},
     "output_type": "execute_result"
    }
   ],
   "source": [
    "header_red[6]"
   ]
  },
  {
   "cell_type": "code",
   "execution_count": 47,
   "id": "e72d902c",
   "metadata": {},
   "outputs": [
    {
     "data": {
      "text/plain": [
       "(array([  6. ,   7. ,   8. ,   9. ,  10. ,  11. ,  12. ,  13. ,  14. ,  15. ,  16. ,  17. ,  18. ,\n",
       "         19. ,  20. ,  21. ,  22. ,  23. ,  24. ,  25. ,  26. ,  27. ,  28. ,  29. ,  30. ,  31. ,\n",
       "         32. ,  33. ,  34. ,  35. ,  36. ,  37. ,  38. ,  39. ,  40. ,  41. ,  42. ,  43. ,  44. ,\n",
       "         45. ,  46. ,  47. ,  48. ,  49. ,  50. ,  51. ,  52. ,  53. ,  54. ,  55. ,  56. ,  57. ,\n",
       "         58. ,  59. ,  60. ,  61. ,  62. ,  63. ,  64. ,  65. ,  66. ,  67. ,  68. ,  69. ,  70. ,\n",
       "         71. ,  72. ,  73. ,  74. ,  75. ,  76. ,  77. ,  77.5,  78. ,  79. ,  80. ,  81. ,  82. ,\n",
       "         83. ,  84. ,  85. ,  86. ,  87. ,  88. ,  89. ,  90. ,  91. ,  92. ,  93. ,  94. ,  95. ,\n",
       "         96. ,  98. ,  99. , 100. , 101. , 102. , 103. , 104. , 105. , 106. , 108. , 109. , 110. ,\n",
       "        111. , 112. , 113. , 114. , 115. , 116. , 119. , 120. , 121. , 122. , 124. , 125. , 126. ,\n",
       "        127. , 128. , 129. , 130. , 131. , 133. , 134. , 135. , 136. , 139. , 140. , 141. , 142. ,\n",
       "        143. , 144. , 145. , 147. , 148. , 149. , 151. , 152. , 153. , 155. , 160. , 165. , 278. ,\n",
       "        289. ]),\n",
       " array([ 3,  4, 14, 14, 27, 26, 29, 28, 33, 35, 26, 27, 35, 29, 33, 25, 25, 34, 36, 27, 24, 30, 43,\n",
       "        20, 14, 32, 20, 17, 20, 26, 12, 26, 31, 16, 17, 14, 26, 18, 23, 20, 17, 24, 21, 21, 11, 11,\n",
       "        15, 14, 20, 13, 10,  6, 14,  9, 18,  9,  9, 13, 10, 17,  9, 12, 10,  8,  8,  7, 10,  7,  8,\n",
       "         5,  3,  8,  2,  4,  5,  4,  6,  4,  2,  6,  9, 10,  6, 14,  9,  5,  7,  8,  2,  8,  4,  5,\n",
       "         7,  6,  3,  4,  6,  2,  5,  5,  6,  3,  4,  6,  3,  3,  4,  2,  2,  1,  7,  2,  4,  3,  3,\n",
       "         2,  1,  2,  2,  3,  1,  3,  3,  2,  2,  2,  1,  1,  3,  1,  2,  3,  3,  3,  2,  1,  2,  1,\n",
       "         1,  1,  1,  1,  1,  1]))"
      ]
     },
     "execution_count": 47,
     "metadata": {},
     "output_type": "execute_result"
    }
   ],
   "source": [
    "np.unique(raw_redwine[:,6], return_counts = True)"
   ]
  },
  {
   "cell_type": "code",
   "execution_count": 48,
   "id": "96b2204c",
   "metadata": {},
   "outputs": [],
   "source": [
    "# EU allows red wine to have maximum total sulfur dioxide between 150 and 200 mg/L.\n",
    "# not recommended 150-200 denoted by 0.\n",
    "\n",
    "not_recommended_SO2 = np.array([151. , 152. , 153. , 155. , 160. , 165. , 278. , 289.])"
   ]
  },
  {
   "cell_type": "code",
   "execution_count": 49,
   "id": "c6ee8f6a",
   "metadata": {},
   "outputs": [],
   "source": [
    "raw_redwine[:,6] = np.where(np.isin(raw_redwine[:,6], not_recommended_SO2), 0, 1)"
   ]
  },
  {
   "cell_type": "code",
   "execution_count": 50,
   "id": "f5638934",
   "metadata": {},
   "outputs": [
    {
     "data": {
      "text/plain": [
       "(array([0., 1.]), array([   9, 1590]))"
      ]
     },
     "execution_count": 50,
     "metadata": {},
     "output_type": "execute_result"
    }
   ],
   "source": [
    "np.unique(raw_redwine[:,6], return_counts = True)"
   ]
  },
  {
   "cell_type": "code",
   "execution_count": 51,
   "id": "cf10c5ca",
   "metadata": {},
   "outputs": [
    {
     "data": {
      "text/plain": [
       "'\"density\"'"
      ]
     },
     "execution_count": 51,
     "metadata": {},
     "output_type": "execute_result"
    }
   ],
   "source": [
    "header_red[7]"
   ]
  },
  {
   "cell_type": "code",
   "execution_count": 52,
   "id": "39cfdcb3",
   "metadata": {
    "scrolled": true
   },
   "outputs": [
    {
     "data": {
      "text/plain": [
       "(array([0.99007, 0.9902 , 0.99064, 0.9908 , 0.99084, 0.9912 , 0.9915 , 0.99154, 0.99157, 0.9916 ,\n",
       "        0.99162, 0.9917 , 0.99182, 0.99191, 0.9921 , 0.9922 , 0.99235, 0.99236, 0.9924 , 0.99242,\n",
       "        0.99252, 0.99256, 0.99258, 0.99264, 0.9927 , 0.9928 , 0.99286, 0.9929 , 0.99292, 0.99294,\n",
       "        0.99306, 0.99314, 0.99316, 0.99318, 0.9932 , 0.99322, 0.99323, 0.99328, 0.9933 , 0.99331,\n",
       "        0.99332, 0.99334, 0.99336, 0.9934 , 0.99341, 0.99344, 0.99346, 0.99348, 0.9935 , 0.99352,\n",
       "        0.99354, 0.99356, 0.99357, 0.99358, 0.9936 , 0.99362, 0.99364, 0.9937 , 0.99371, 0.99374,\n",
       "        0.99376, 0.99378, 0.99379, 0.9938 , 0.99384, 0.99385, 0.99386, 0.99387, 0.99388, 0.99392,\n",
       "        0.99394, 0.99395, 0.99396, 0.99397, 0.994  , 0.99402, 0.99408, 0.9941 , 0.99414, 0.99416,\n",
       "        0.99417, 0.99418, 0.99419, 0.9942 , 0.99425, 0.99426, 0.99428, 0.9943 , 0.99434, 0.99437,\n",
       "        0.99438, 0.99439, 0.9944 , 0.99444, 0.99448, 0.99451, 0.99454, 0.99456, 0.99458, 0.99459,\n",
       "        0.9946 , 0.99462, 0.99464, 0.99467, 0.99468, 0.9947 , 0.99471, 0.99472, 0.99473, 0.99474,\n",
       "        0.99476, 0.99478, 0.99479, 0.9948 , 0.99483, 0.99484, 0.99486, 0.99488, 0.99489, 0.9949 ,\n",
       "        0.99491, 0.99492, 0.99494, 0.99495, 0.99496, 0.99498, 0.99499, 0.995  , 0.99501, 0.99502,\n",
       "        0.99504, 0.99506, 0.99508, 0.99509, 0.9951 , 0.99512, 0.99514, 0.99516, 0.99517, 0.99518,\n",
       "        0.99519, 0.9952 , 0.99521, 0.99522, 0.99523, 0.99524, 0.99525, 0.99526, 0.99528, 0.99529,\n",
       "        0.9953 , 0.99531, 0.99532, 0.99533, 0.99534, 0.99536, 0.99538, 0.9954 , 0.99541, 0.99542,\n",
       "        0.99543, 0.99544, 0.99545, 0.99546, 0.99547, 0.99549, 0.9955 , 0.99551, 0.99552, 0.99553,\n",
       "        0.99554, 0.99555, 0.99556, 0.99557, 0.99558, 0.9956 , 0.99562, 0.99564, 0.99565, 0.99566,\n",
       "        0.99568, 0.99569, 0.9957 , 0.99572, 0.99573, 0.99574, 0.99575, 0.99576, 0.99577, 0.99578,\n",
       "        0.9958 , 0.99581, 0.99582, 0.99584, 0.99585, 0.99586, 0.99587, 0.99588, 0.99589, 0.9959 ,\n",
       "        0.99592, 0.99593, 0.99594, 0.99596, 0.99598, 0.99599, 0.996  , 0.99603, 0.99604, 0.99605,\n",
       "        0.99606, 0.99608, 0.99609, 0.9961 , 0.99612, 0.99613, 0.99614, 0.99615, 0.99616, 0.99617,\n",
       "        0.99619, 0.9962 , 0.99621, 0.99622, 0.99623, 0.99624, 0.99625, 0.99627, 0.99628, 0.99629,\n",
       "        0.9963 , 0.99631, 0.99632, 0.99633, 0.99634, 0.99635, 0.99636, 0.99638, 0.99639, 0.9964 ,\n",
       "        0.99641, 0.99642, 0.99643, 0.99645, 0.99646, 0.99647, 0.99648, 0.99649, 0.9965 , 0.99651,\n",
       "        0.99652, 0.99654, 0.99655, 0.99656, 0.99658, 0.99659, 0.9966 , 0.99661, 0.99664, 0.99665,\n",
       "        0.99666, 0.99667, 0.99668, 0.99669, 0.9967 , 0.99672, 0.99674, 0.99675, 0.99676, 0.99677,\n",
       "        0.99678, 0.9968 , 0.99682, 0.99683, 0.99684, 0.99685, 0.99686, 0.99688, 0.99689, 0.9969 ,\n",
       "        0.99692, 0.99693, 0.99694, 0.99695, 0.99697, 0.99698, 0.99699, 0.997  , 0.99701, 0.99702,\n",
       "        0.99704, 0.99705, 0.99706, 0.99708, 0.99709, 0.9971 , 0.99712, 0.99713, 0.99714, 0.99716,\n",
       "        0.99717, 0.99718, 0.99719, 0.9972 , 0.99721, 0.99722, 0.99724, 0.99725, 0.99726, 0.99727,\n",
       "        0.99728, 0.99729, 0.9973 , 0.99732, 0.99733, 0.99734, 0.99735, 0.99736, 0.99738, 0.99739,\n",
       "        0.9974 , 0.99743, 0.99744, 0.99745, 0.99746, 0.99747, 0.99748, 0.9975 , 0.99752, 0.99754,\n",
       "        0.99756, 0.99758, 0.9976 , 0.99761, 0.99764, 0.99765, 0.99768, 0.99769, 0.9977 , 0.99772,\n",
       "        0.99774, 0.99779, 0.9978 , 0.99782, 0.99783, 0.99784, 0.99785, 0.99786, 0.99787, 0.99788,\n",
       "        0.9979 , 0.99791, 0.99796, 0.99798, 0.998  , 0.99801, 0.99803, 0.99808, 0.9981 , 0.99814,\n",
       "        0.99815, 0.99817, 0.99818, 0.9982 , 0.99822, 0.99823, 0.99824, 0.99828, 0.9983 , 0.99832,\n",
       "        0.99834, 0.99836, 0.9984 , 0.99842, 0.99845, 0.9985 , 0.99852, 0.99854, 0.99855, 0.99859,\n",
       "        0.9986 , 0.99864, 0.99865, 0.9987 , 0.99878, 0.9988 , 0.99888, 0.9989 , 0.99892, 0.999  ,\n",
       "        0.99901, 0.9991 , 0.99914, 0.99915, 0.99918, 0.9992 , 0.99922, 0.99925, 0.9993 , 0.99935,\n",
       "        0.99938, 0.99939, 0.9994 , 0.9995 , 0.9996 , 0.99965, 0.9997 , 0.99974, 0.99975, 0.99976,\n",
       "        0.9998 , 0.9999 , 1.     , 1.00005, 1.0001 , 1.00012, 1.00015, 1.0002 , 1.00024, 1.00025,\n",
       "        1.0003 , 1.0004 , 1.0006 , 1.0008 , 1.001  , 1.0014 , 1.0015 , 1.0018 , 1.0021 , 1.0022 ,\n",
       "        1.00242, 1.0026 , 1.00289, 1.00315, 1.0032 , 1.00369]),\n",
       " array([ 2,  1,  2,  1,  1,  1,  1,  1,  1,  2,  1,  1,  2,  1,  1,  2,  1,  1,  3,  2,  1,  1,  3,\n",
       "         1,  1,  2,  1,  1,  1,  2,  1,  1,  2,  1,  1,  1,  1,  1,  1,  2,  1,  1,  1,  4,  1,  1,\n",
       "         3,  1,  1,  2,  2,  4,  1,  3,  2,  2,  1,  2,  2,  2,  3,  3,  1,  1,  1,  1,  1,  1,  2,\n",
       "         2,  1,  1,  3,  1,  2,  4,  3,  1,  2,  1,  1,  2,  2,  3,  1,  1,  1,  2,  1,  1,  5,  1,\n",
       "         3,  4,  4,  1,  1,  1,  4,  1,  5,  2,  2,  2,  1,  6,  3,  3,  1,  1,  3,  2,  1,  9,  1,\n",
       "         3,  1,  4,  3,  4,  1,  2,  4,  2,  1,  5,  1, 10,  1,  2,  2,  1,  3,  1,  4,  2,  5,  6,\n",
       "         1,  3,  1,  9,  1,  4,  1,  4,  2,  2,  3,  1,  4,  2,  1,  1,  6,  2, 11,  4,  1,  1,  2,\n",
       "         1,  3,  7,  2,  2, 14,  3,  5,  1,  3,  1,  2,  3,  3, 14,  4,  2,  3,  4,  4,  1,  6,  9,\n",
       "         1,  2,  2,  5,  3,  3, 14,  1,  1,  2,  3,  6,  2,  4,  1, 13,  4,  2,  1,  2,  2,  2, 13,\n",
       "         2,  3,  3,  2,  2,  1, 10,  6,  4,  2,  5,  7,  1,  1, 28,  1,  5,  2,  3,  3,  3,  3,  2,\n",
       "        15,  1,  4,  4,  3,  1,  5,  5,  2, 25,  1,  3,  1,  1,  1,  2,  3,  1, 11,  1,  6,  2,  6,\n",
       "         5,  1,  2, 23,  1,  3,  1,  3,  1,  4,  2, 13,  5,  2,  5,  3,  2,  1, 35,  2,  2,  1,  8,\n",
       "         3,  2,  4, 18,  4,  2,  3,  1,  1,  1,  1, 24,  2,  4,  3,  1,  2,  4,  1, 13,  4,  2,  2,\n",
       "         2,  1,  3,  1, 36,  1,  1,  4,  1,  1,  1,  3,  1, 18,  3,  1,  4,  6,  5,  4,  1, 22,  2,\n",
       "         2,  9,  7,  2,  3,  7,  1,  1,  1,  1, 35,  1,  1,  1,  3,  2,  4,  1,  5,  1, 26,  2,  2,\n",
       "         1,  1,  4,  3,  2, 14,  1,  1,  2, 29,  2,  3,  1, 10,  2,  2,  2,  3, 23,  1,  1,  3,  2,\n",
       "         9,  1,  1,  2, 20,  2,  1,  3,  1,  1,  2,  1, 19,  1,  2, 12,  1, 20,  2,  2,  3,  8,  1,\n",
       "        10,  3,  1,  1,  7,  1,  1,  4,  1,  1,  1, 24,  1, 12,  1,  8,  1,  1,  1, 10,  1, 10,  2,\n",
       "         4,  1,  2, 10,  1,  1,  2,  9,  6,  3,  6,  6,  2,  1,  2,  2,  2,  2,  1,  3,  1,  2]))"
      ]
     },
     "execution_count": 52,
     "metadata": {},
     "output_type": "execute_result"
    }
   ],
   "source": [
    "np.unique(raw_redwine[:,7], return_counts = True)"
   ]
  },
  {
   "cell_type": "code",
   "execution_count": 53,
   "id": "8a127d5d",
   "metadata": {},
   "outputs": [],
   "source": [
    "# Density is the mass per unit volume of wine. \n",
    "# After fermentation is complete, the wine should be at, or slightly less than 1.00.\n",
    "# above threshold is denoted by 0.\n",
    "# correct density range is denoted by 1.\n",
    "\n",
    "above_threshold = np.arange(1.1, 2.1, 0.000001)"
   ]
  },
  {
   "cell_type": "code",
   "execution_count": 54,
   "id": "590f22de",
   "metadata": {},
   "outputs": [
    {
     "data": {
      "text/plain": [
       "array([1.1     , 1.100001, 1.100002, ..., 2.099997, 2.099998, 2.099999])"
      ]
     },
     "execution_count": 54,
     "metadata": {},
     "output_type": "execute_result"
    }
   ],
   "source": [
    "above_threshold"
   ]
  },
  {
   "cell_type": "code",
   "execution_count": 55,
   "id": "e4410d2c",
   "metadata": {},
   "outputs": [],
   "source": [
    "raw_redwine[:,7] = np.where(np.isin(raw_redwine[:,7], above_threshold), 0, 1)"
   ]
  },
  {
   "cell_type": "code",
   "execution_count": 56,
   "id": "8e10fae5",
   "metadata": {},
   "outputs": [
    {
     "data": {
      "text/plain": [
       "(array([1.]), array([1599]))"
      ]
     },
     "execution_count": 56,
     "metadata": {},
     "output_type": "execute_result"
    }
   ],
   "source": [
    "np.unique(raw_redwine[:,7], return_counts = True)"
   ]
  },
  {
   "cell_type": "code",
   "execution_count": 57,
   "id": "935ed63e",
   "metadata": {},
   "outputs": [
    {
     "data": {
      "text/plain": [
       "'\"pH\"'"
      ]
     },
     "execution_count": 57,
     "metadata": {},
     "output_type": "execute_result"
    }
   ],
   "source": [
    "header_red[8]"
   ]
  },
  {
   "cell_type": "code",
   "execution_count": 58,
   "id": "7b010588",
   "metadata": {},
   "outputs": [
    {
     "data": {
      "text/plain": [
       "(array([2.74, 2.86, 2.87, 2.88, 2.89, 2.9 , 2.92, 2.93, 2.94, 2.95, 2.98, 2.99, 3.  , 3.01, 3.02,\n",
       "        3.03, 3.04, 3.05, 3.06, 3.07, 3.08, 3.09, 3.1 , 3.11, 3.12, 3.13, 3.14, 3.15, 3.16, 3.17,\n",
       "        3.18, 3.19, 3.2 , 3.21, 3.22, 3.23, 3.24, 3.25, 3.26, 3.27, 3.28, 3.29, 3.3 , 3.31, 3.32,\n",
       "        3.33, 3.34, 3.35, 3.36, 3.37, 3.38, 3.39, 3.4 , 3.41, 3.42, 3.43, 3.44, 3.45, 3.46, 3.47,\n",
       "        3.48, 3.49, 3.5 , 3.51, 3.52, 3.53, 3.54, 3.55, 3.56, 3.57, 3.58, 3.59, 3.6 , 3.61, 3.62,\n",
       "        3.63, 3.66, 3.67, 3.68, 3.69, 3.7 , 3.71, 3.72, 3.74, 3.75, 3.78, 3.85, 3.9 , 4.01]),\n",
       " array([ 1,  1,  1,  2,  4,  1,  4,  3,  4,  1,  5,  2,  6,  5,  8,  6, 10,  8, 10, 11, 11, 11, 19,\n",
       "         9, 20, 13, 21, 34, 36, 27, 30, 25, 39, 36, 39, 32, 29, 26, 53, 35, 42, 46, 57, 39, 45, 37,\n",
       "        43, 39, 56, 37, 48, 48, 37, 34, 33, 17, 29, 20, 22, 21, 19, 10, 14, 15, 18, 17, 16,  8, 11,\n",
       "        10, 10,  8,  7,  8,  4,  3,  4,  3,  5,  4,  1,  4,  3,  1,  1,  2,  1,  2,  2]))"
      ]
     },
     "execution_count": 58,
     "metadata": {},
     "output_type": "execute_result"
    }
   ],
   "source": [
    "np.unique(raw_redwine[:,8], return_counts = True)"
   ]
  },
  {
   "cell_type": "code",
   "execution_count": 59,
   "id": "414330e8",
   "metadata": {},
   "outputs": [],
   "source": [
    "# pH level of a wine ranges from 3 to 4.\n",
    "# normal_ph_range is denoted by 1.\n",
    "# acidic than normal is denoted by 0.\n",
    "\n",
    "normal_ph_range = np.arange(3.00, 4.1, 0.01)"
   ]
  },
  {
   "cell_type": "code",
   "execution_count": 60,
   "id": "2184510c",
   "metadata": {},
   "outputs": [],
   "source": [
    "raw_redwine[:,8] = np.where(np.isin(raw_redwine[:,8], normal_ph_range), 1, 0)"
   ]
  },
  {
   "cell_type": "code",
   "execution_count": 61,
   "id": "71d88fde",
   "metadata": {},
   "outputs": [
    {
     "data": {
      "text/plain": [
       "(array([0., 1.]), array([1588,   11]))"
      ]
     },
     "execution_count": 61,
     "metadata": {},
     "output_type": "execute_result"
    }
   ],
   "source": [
    "np.unique(raw_redwine[:,8], return_counts = True)"
   ]
  },
  {
   "cell_type": "code",
   "execution_count": 62,
   "id": "12421c07",
   "metadata": {},
   "outputs": [
    {
     "data": {
      "text/plain": [
       "'\"sulphates\"'"
      ]
     },
     "execution_count": 62,
     "metadata": {},
     "output_type": "execute_result"
    }
   ],
   "source": [
    "header_red[9]"
   ]
  },
  {
   "cell_type": "code",
   "execution_count": 63,
   "id": "008cf181",
   "metadata": {},
   "outputs": [
    {
     "data": {
      "text/plain": [
       "(array([0.33, 0.37, 0.39, 0.4 , 0.42, 0.43, 0.44, 0.45, 0.46, 0.47, 0.48, 0.49, 0.5 , 0.51, 0.52,\n",
       "        0.53, 0.54, 0.55, 0.56, 0.57, 0.58, 0.59, 0.6 , 0.61, 0.62, 0.63, 0.64, 0.65, 0.66, 0.67,\n",
       "        0.68, 0.69, 0.7 , 0.71, 0.72, 0.73, 0.74, 0.75, 0.76, 0.77, 0.78, 0.79, 0.8 , 0.81, 0.82,\n",
       "        0.83, 0.84, 0.85, 0.86, 0.87, 0.88, 0.89, 0.9 , 0.91, 0.92, 0.93, 0.94, 0.95, 0.96, 0.97,\n",
       "        0.98, 0.99, 1.  , 1.01, 1.02, 1.03, 1.04, 1.05, 1.06, 1.07, 1.08, 1.09, 1.1 , 1.11, 1.12,\n",
       "        1.13, 1.14, 1.15, 1.16, 1.17, 1.18, 1.2 , 1.22, 1.26, 1.28, 1.31, 1.33, 1.34, 1.36, 1.56,\n",
       "        1.59, 1.61, 1.62, 1.95, 1.98, 2.  ]),\n",
       " array([ 1,  2,  6,  4,  5,  8, 16, 12, 18, 19, 29, 31, 27, 26, 47, 51, 68, 50, 60, 55, 68, 51, 69,\n",
       "        45, 61, 48, 46, 41, 42, 36, 35, 23, 33, 26, 28, 26, 26, 20, 25, 26, 23, 18, 19, 15, 22, 15,\n",
       "        13, 14, 13, 13,  7,  7,  8,  8,  5, 10,  4,  2,  3,  6,  2,  3,  1,  1,  3,  2,  2,  3,  4,\n",
       "         2,  3,  1,  2,  1,  1,  2,  2,  1,  1,  5,  3,  1,  1,  1,  2,  1,  1,  1,  3,  1,  1,  1,\n",
       "         1,  2,  1,  1]))"
      ]
     },
     "execution_count": 63,
     "metadata": {},
     "output_type": "execute_result"
    }
   ],
   "source": [
    "np.unique(raw_redwine[:,9], return_counts = True)"
   ]
  },
  {
   "cell_type": "code",
   "execution_count": 64,
   "id": "ec8bab69",
   "metadata": {},
   "outputs": [],
   "source": [
    "# Sulfites are a food preservative common in winemaking, since it maintain wine's flavor and freshness.\n",
    "# They’re assoc. w/ long list of side effects like the dreaded wine-induced headache. \n",
    "# Most bottled dry red wines have around 0.5-0.75 g/L. \n",
    "# Since our dataset only contains dry red wine, based on range above, we defined following classification.\n",
    "# normal range-- denoted by 1.\n",
    "# out of the range -- denoted by 0.\n",
    "\n",
    "normal_range = np.arange(0.50, 0.76, 0.01)"
   ]
  },
  {
   "cell_type": "code",
   "execution_count": 65,
   "id": "21166dd6",
   "metadata": {},
   "outputs": [],
   "source": [
    "raw_redwine[:,9] = np.where(np.isin(raw_redwine[:,9], normal_range), 1, 0)"
   ]
  },
  {
   "cell_type": "code",
   "execution_count": 66,
   "id": "f2822c23",
   "metadata": {},
   "outputs": [
    {
     "data": {
      "text/plain": [
       "(array([0., 1.]), array([1270,  329]))"
      ]
     },
     "execution_count": 66,
     "metadata": {},
     "output_type": "execute_result"
    }
   ],
   "source": [
    "np.unique(raw_redwine[:,9], return_counts = True)"
   ]
  },
  {
   "cell_type": "code",
   "execution_count": 67,
   "id": "a927c073",
   "metadata": {},
   "outputs": [
    {
     "data": {
      "text/plain": [
       "'\"alcohol\"'"
      ]
     },
     "execution_count": 67,
     "metadata": {},
     "output_type": "execute_result"
    }
   ],
   "source": [
    "header_red[10]"
   ]
  },
  {
   "cell_type": "code",
   "execution_count": 68,
   "id": "f6eb519d",
   "metadata": {},
   "outputs": [
    {
     "data": {
      "text/plain": [
       "(array([ 8.4       ,  8.5       ,  8.7       ,  8.8       ,  9.        ,  9.05      ,  9.1       ,\n",
       "         9.2       ,  9.23333333,  9.25      ,  9.3       ,  9.4       ,  9.5       ,  9.55      ,\n",
       "         9.56666667,  9.6       ,  9.7       ,  9.8       ,  9.9       ,  9.95      , 10.        ,\n",
       "        10.03333333, 10.1       , 10.2       , 10.3       , 10.4       , 10.5       , 10.55      ,\n",
       "        10.6       , 10.7       , 10.75      , 10.8       , 10.9       , 11.        , 11.06666667,\n",
       "        11.1       , 11.2       , 11.3       , 11.4       , 11.5       , 11.6       , 11.7       ,\n",
       "        11.8       , 11.9       , 11.95      , 12.        , 12.1       , 12.2       , 12.3       ,\n",
       "        12.4       , 12.5       , 12.6       , 12.7       , 12.8       , 12.9       , 13.        ,\n",
       "        13.1       , 13.2       , 13.3       , 13.4       , 13.5       , 13.56666667, 13.6       ,\n",
       "        14.        , 14.9       ]),\n",
       " array([  2,   1,   2,   2,  30,   1,  23,  72,   1,   1,  59, 103, 139,   2,   1,  59,  54,  78,\n",
       "         49,   1,  67,   2,  47,  46,  33,  41,  67,   2,  28,  27,   1,  42,  49,  59,   1,  27,\n",
       "         36,  32,  32,  30,  15,  23,  29,  20,   1,  21,  13,  12,  12,  13,  21,   6,   9,  17,\n",
       "          9,   6,   2,   1,   3,   3,   1,   1,   4,   7,   1]))"
      ]
     },
     "execution_count": 68,
     "metadata": {},
     "output_type": "execute_result"
    }
   ],
   "source": [
    "np.unique(raw_redwine[:,10], return_counts = True)"
   ]
  },
  {
   "cell_type": "code",
   "execution_count": 69,
   "id": "427605a0",
   "metadata": {},
   "outputs": [],
   "source": [
    "# since data (above) has values with many decimal points, \n",
    "# we use rounding for the readibility of command and analysis. \n",
    "\n",
    "raw_redwine[:,10] = np.round(raw_redwine[:,10], decimals = 2)"
   ]
  },
  {
   "cell_type": "code",
   "execution_count": 70,
   "id": "3aa9e1ca",
   "metadata": {},
   "outputs": [
    {
     "data": {
      "text/plain": [
       "(array([ 8.4 ,  8.5 ,  8.7 ,  8.8 ,  9.  ,  9.05,  9.1 ,  9.2 ,  9.23,  9.25,  9.3 ,  9.4 ,  9.5 ,\n",
       "         9.55,  9.57,  9.6 ,  9.7 ,  9.8 ,  9.9 ,  9.95, 10.  , 10.03, 10.1 , 10.2 , 10.3 , 10.4 ,\n",
       "        10.5 , 10.55, 10.6 , 10.7 , 10.75, 10.8 , 10.9 , 11.  , 11.07, 11.1 , 11.2 , 11.3 , 11.4 ,\n",
       "        11.5 , 11.6 , 11.7 , 11.8 , 11.9 , 11.95, 12.  , 12.1 , 12.2 , 12.3 , 12.4 , 12.5 , 12.6 ,\n",
       "        12.7 , 12.8 , 12.9 , 13.  , 13.1 , 13.2 , 13.3 , 13.4 , 13.5 , 13.57, 13.6 , 14.  , 14.9 ]),\n",
       " array([  2,   1,   2,   2,  30,   1,  23,  72,   1,   1,  59, 103, 139,   2,   1,  59,  54,  78,\n",
       "         49,   1,  67,   2,  47,  46,  33,  41,  67,   2,  28,  27,   1,  42,  49,  59,   1,  27,\n",
       "         36,  32,  32,  30,  15,  23,  29,  20,   1,  21,  13,  12,  12,  13,  21,   6,   9,  17,\n",
       "          9,   6,   2,   1,   3,   3,   1,   1,   4,   7,   1]))"
      ]
     },
     "execution_count": 70,
     "metadata": {},
     "output_type": "execute_result"
    }
   ],
   "source": [
    "np.unique(raw_redwine[:,10], return_counts = True)"
   ]
  },
  {
   "cell_type": "code",
   "execution_count": 71,
   "id": "86785d0f",
   "metadata": {},
   "outputs": [],
   "source": [
    "# Wine can have anywhere between 5% and 23% Alcohol by Volume (ABV). \n",
    "# The avg alcohol content of wine is about 12%. \n",
    "# less than 11%-- light group which is denoted by 0.\n",
    "# around 12% -- medium group denoted by 1.\n",
    "# higher than 12% -- heavier group denoted by 2.\n",
    "\n",
    "light_group = np.array([8.4 ,  8.5 ,  8.7 ,  8.8 ,  9.  ,  9.05,  9.1 ,  \n",
    "                        9.2 ,  9.23,  9.25,  9.3 ,  9.4 ,  9.5 , 9.55,  9.57,  \n",
    "                        9.6 ,  9.7 ,  9.8 ,  9.9 ,  9.95, 10.  , 10.03, \n",
    "                        10.1 , 10.2 , 10.3 , 10.4 , 10.5 , 10.55, 10.6 , 10.7 , 10.75, \n",
    "                        10.8 , 10.9 , 11. , 11.07, 11.1 , 11.2])\n",
    "medium_group = np.array([11.3 , 11.4 , 11.5 , 11.6 , 11.7 , 11.8 , 11.9 , 11.95, 12.  , 12.1 , 12.2])\n",
    "heavy_group = np.array([12.3 , 12.4 , 12.5 , 12.6 , 12.7 , 12.8 , 12.9 , \n",
    "                        13.  , 13.1 , 13.2 , 13.3 , 13.4 , 13.5 , 13.57, 13.6 , 14.  , 14.9 ])"
   ]
  },
  {
   "cell_type": "code",
   "execution_count": 72,
   "id": "e35ea376",
   "metadata": {},
   "outputs": [],
   "source": [
    "raw_redwine[:,10] = np.where(np.isin(raw_redwine[:,10], light_group), 0, raw_redwine[:,10])"
   ]
  },
  {
   "cell_type": "code",
   "execution_count": 73,
   "id": "6e411307",
   "metadata": {},
   "outputs": [],
   "source": [
    "raw_redwine[:,10] = np.where(np.isin(raw_redwine[:,10], medium_group), 1, raw_redwine[:,10])"
   ]
  },
  {
   "cell_type": "code",
   "execution_count": 74,
   "id": "b9be42b4",
   "metadata": {},
   "outputs": [],
   "source": [
    "raw_redwine[:,10] = np.where(np.isin(raw_redwine[:,10], heavy_group), 2, raw_redwine[:,10])"
   ]
  },
  {
   "cell_type": "code",
   "execution_count": 75,
   "id": "60ad167d",
   "metadata": {},
   "outputs": [
    {
     "data": {
      "text/plain": [
       "(array([0., 1., 2.]), array([1255,  228,  116]))"
      ]
     },
     "execution_count": 75,
     "metadata": {},
     "output_type": "execute_result"
    }
   ],
   "source": [
    "np.unique(raw_redwine[:,10], return_counts = True)"
   ]
  },
  {
   "cell_type": "code",
   "execution_count": 76,
   "id": "052db507",
   "metadata": {},
   "outputs": [
    {
     "data": {
      "text/plain": [
       "'\"quality\"'"
      ]
     },
     "execution_count": 76,
     "metadata": {},
     "output_type": "execute_result"
    }
   ],
   "source": [
    "header_red[11]"
   ]
  },
  {
   "cell_type": "code",
   "execution_count": 77,
   "id": "432a3aa9",
   "metadata": {},
   "outputs": [
    {
     "data": {
      "text/plain": [
       "(array([3., 4., 5., 6., 7., 8.]), array([ 10,  53, 681, 638, 199,  18]))"
      ]
     },
     "execution_count": 77,
     "metadata": {},
     "output_type": "execute_result"
    }
   ],
   "source": [
    "np.unique(raw_redwine[:,11], return_counts = True)"
   ]
  },
  {
   "cell_type": "code",
   "execution_count": 78,
   "id": "a063e344",
   "metadata": {},
   "outputs": [],
   "source": [
    "# The quality of the wines is a score between 1 and 10.\n",
    "# low quality(0,1,2,3)-- denoted by 0.\n",
    "# avg. quality(4,5,6,7)-- denoted by 1.\n",
    "# high quality(8,9,10)-- denoted by 2.\n",
    "\n",
    "low_quality = np.array([0,1,2,3])\n",
    "avg_quality = np.array([4,5,6,7])\n",
    "high_quality = np.array([8,9,10])"
   ]
  },
  {
   "cell_type": "code",
   "execution_count": 79,
   "id": "c6e3ce03",
   "metadata": {},
   "outputs": [],
   "source": [
    "raw_redwine[:,11] = np.where(np.isin(raw_redwine[:,11], low_quality), 0, raw_redwine[:,11])"
   ]
  },
  {
   "cell_type": "code",
   "execution_count": 80,
   "id": "146f0b32",
   "metadata": {},
   "outputs": [],
   "source": [
    "raw_redwine[:,11] = np.where(np.isin(raw_redwine[:,11], avg_quality), 1, raw_redwine[:,11])"
   ]
  },
  {
   "cell_type": "code",
   "execution_count": 81,
   "id": "5ea7cf49",
   "metadata": {},
   "outputs": [],
   "source": [
    "raw_redwine[:,11] = np.where(np.isin(raw_redwine[:,11], high_quality), 2, raw_redwine[:,11])"
   ]
  },
  {
   "cell_type": "code",
   "execution_count": 82,
   "id": "215084bf",
   "metadata": {},
   "outputs": [
    {
     "data": {
      "text/plain": [
       "(array([0., 1., 2.]), array([  10, 1571,   18]))"
      ]
     },
     "execution_count": 82,
     "metadata": {},
     "output_type": "execute_result"
    }
   ],
   "source": [
    "np.unique(raw_redwine[:,11], return_counts = True)"
   ]
  },
  {
   "cell_type": "code",
   "execution_count": 83,
   "id": "ec51f56a",
   "metadata": {
    "scrolled": true
   },
   "outputs": [
    {
     "data": {
      "text/plain": [
       "array([['\"fixed acidity\"', '\"volatile acidity\"', '\"citric acid\"', ..., '\"sulphates\"', '\"alcohol\"',\n",
       "        '\"quality\"'],\n",
       "       ['2.0', '2.0', '0.0', ..., '1.0', '0.0', '1.0'],\n",
       "       ['2.0', '2.0', '0.0', ..., '0.0', '0.0', '1.0'],\n",
       "       ...,\n",
       "       ['1.0', '0.0', '1.0', ..., '0.0', '0.0', '1.0'],\n",
       "       ['1.0', '1.0', '1.0', ..., '0.0', '0.0', '1.0'],\n",
       "       ['1.0', '0.0', '1.0', ..., '0.0', '0.0', '1.0']], dtype='<U32')"
      ]
     },
     "execution_count": 83,
     "metadata": {},
     "output_type": "execute_result"
    }
   ],
   "source": [
    "red_wine_df = np.vstack((header_red, raw_redwine))\n",
    "red_wine_df"
   ]
  },
  {
   "cell_type": "code",
   "execution_count": 84,
   "id": "1b8ce590",
   "metadata": {},
   "outputs": [],
   "source": [
    "np.savetxt(\"Red-Wine-PreProcessed.csv\", red_wine_df, fmt = '%s', delimiter = ',')"
   ]
  },
  {
   "cell_type": "code",
   "execution_count": 85,
   "id": "e3c1c9c6",
   "metadata": {},
   "outputs": [],
   "source": [
    "grade_A = np.array(['2.0'])\n",
    "grade_B = np.array(['1.0'])\n",
    "grade_C = np.array(['0.0'])"
   ]
  },
  {
   "cell_type": "code",
   "execution_count": 86,
   "id": "f8f02892",
   "metadata": {},
   "outputs": [],
   "source": [
    "red_wine_df[:,-1] = np.where(np.isin(red_wine_df[:,-1], grade_A), 'A', red_wine_df[:,-1])"
   ]
  },
  {
   "cell_type": "code",
   "execution_count": 87,
   "id": "97a74e99",
   "metadata": {},
   "outputs": [],
   "source": [
    "red_wine_df[:,-1] = np.where(np.isin(red_wine_df[:,-1], grade_B), 'B', red_wine_df[:,-1])"
   ]
  },
  {
   "cell_type": "code",
   "execution_count": 88,
   "id": "f49178db",
   "metadata": {},
   "outputs": [],
   "source": [
    "red_wine_df[:,-1] = np.where(np.isin(red_wine_df[:,-1], grade_C), 'C', red_wine_df[:,-1])"
   ]
  },
  {
   "cell_type": "code",
   "execution_count": 89,
   "id": "474ee8d5",
   "metadata": {},
   "outputs": [
    {
     "data": {
      "text/plain": [
       "array(['\"quality\"', 'A', 'B', 'C'], dtype='<U32')"
      ]
     },
     "execution_count": 89,
     "metadata": {},
     "output_type": "execute_result"
    }
   ],
   "source": [
    "np.unique(red_wine_df[:,-1])"
   ]
  },
  {
   "cell_type": "code",
   "execution_count": 90,
   "id": "26e13132",
   "metadata": {},
   "outputs": [],
   "source": [
    "np.savetxt(\"Red-Wine-Processed-with-Grades.csv\", red_wine_df, fmt = '%s', delimiter = ',')"
   ]
  },
  {
   "cell_type": "code",
   "execution_count": 91,
   "id": "7f3a586a",
   "metadata": {},
   "outputs": [
    {
     "data": {
      "text/html": [
       "<div>\n",
       "<style scoped>\n",
       "    .dataframe tbody tr th:only-of-type {\n",
       "        vertical-align: middle;\n",
       "    }\n",
       "\n",
       "    .dataframe tbody tr th {\n",
       "        vertical-align: top;\n",
       "    }\n",
       "\n",
       "    .dataframe thead th {\n",
       "        text-align: right;\n",
       "    }\n",
       "</style>\n",
       "<table border=\"1\" class=\"dataframe\">\n",
       "  <thead>\n",
       "    <tr style=\"text-align: right;\">\n",
       "      <th></th>\n",
       "      <th>fixed acidity</th>\n",
       "      <th>volatile acidity</th>\n",
       "      <th>citric acid</th>\n",
       "      <th>residual sugar</th>\n",
       "      <th>chlorides</th>\n",
       "      <th>free sulfur dioxide</th>\n",
       "      <th>total sulfur dioxide</th>\n",
       "      <th>density</th>\n",
       "      <th>pH</th>\n",
       "      <th>sulphates</th>\n",
       "      <th>alcohol</th>\n",
       "      <th>quality</th>\n",
       "    </tr>\n",
       "  </thead>\n",
       "  <tbody>\n",
       "    <tr>\n",
       "      <th>0</th>\n",
       "      <td>2.0</td>\n",
       "      <td>2.0</td>\n",
       "      <td>0.0</td>\n",
       "      <td>0.0</td>\n",
       "      <td>0.0</td>\n",
       "      <td>0.0</td>\n",
       "      <td>1.0</td>\n",
       "      <td>1.0</td>\n",
       "      <td>0.0</td>\n",
       "      <td>1.0</td>\n",
       "      <td>0.0</td>\n",
       "      <td>B</td>\n",
       "    </tr>\n",
       "    <tr>\n",
       "      <th>1</th>\n",
       "      <td>2.0</td>\n",
       "      <td>2.0</td>\n",
       "      <td>0.0</td>\n",
       "      <td>0.0</td>\n",
       "      <td>0.0</td>\n",
       "      <td>1.0</td>\n",
       "      <td>1.0</td>\n",
       "      <td>1.0</td>\n",
       "      <td>0.0</td>\n",
       "      <td>0.0</td>\n",
       "      <td>0.0</td>\n",
       "      <td>B</td>\n",
       "    </tr>\n",
       "    <tr>\n",
       "      <th>2</th>\n",
       "      <td>2.0</td>\n",
       "      <td>2.0</td>\n",
       "      <td>1.0</td>\n",
       "      <td>0.0</td>\n",
       "      <td>0.0</td>\n",
       "      <td>0.0</td>\n",
       "      <td>1.0</td>\n",
       "      <td>1.0</td>\n",
       "      <td>0.0</td>\n",
       "      <td>0.0</td>\n",
       "      <td>0.0</td>\n",
       "      <td>B</td>\n",
       "    </tr>\n",
       "    <tr>\n",
       "      <th>3</th>\n",
       "      <td>3.0</td>\n",
       "      <td>0.0</td>\n",
       "      <td>1.0</td>\n",
       "      <td>0.0</td>\n",
       "      <td>0.0</td>\n",
       "      <td>0.0</td>\n",
       "      <td>1.0</td>\n",
       "      <td>1.0</td>\n",
       "      <td>0.0</td>\n",
       "      <td>0.0</td>\n",
       "      <td>0.0</td>\n",
       "      <td>B</td>\n",
       "    </tr>\n",
       "    <tr>\n",
       "      <th>4</th>\n",
       "      <td>2.0</td>\n",
       "      <td>2.0</td>\n",
       "      <td>0.0</td>\n",
       "      <td>0.0</td>\n",
       "      <td>0.0</td>\n",
       "      <td>0.0</td>\n",
       "      <td>1.0</td>\n",
       "      <td>1.0</td>\n",
       "      <td>0.0</td>\n",
       "      <td>1.0</td>\n",
       "      <td>0.0</td>\n",
       "      <td>B</td>\n",
       "    </tr>\n",
       "    <tr>\n",
       "      <th>...</th>\n",
       "      <td>...</td>\n",
       "      <td>...</td>\n",
       "      <td>...</td>\n",
       "      <td>...</td>\n",
       "      <td>...</td>\n",
       "      <td>...</td>\n",
       "      <td>...</td>\n",
       "      <td>...</td>\n",
       "      <td>...</td>\n",
       "      <td>...</td>\n",
       "      <td>...</td>\n",
       "      <td>...</td>\n",
       "    </tr>\n",
       "    <tr>\n",
       "      <th>1594</th>\n",
       "      <td>1.0</td>\n",
       "      <td>1.0</td>\n",
       "      <td>1.0</td>\n",
       "      <td>0.0</td>\n",
       "      <td>0.0</td>\n",
       "      <td>0.0</td>\n",
       "      <td>1.0</td>\n",
       "      <td>1.0</td>\n",
       "      <td>0.0</td>\n",
       "      <td>0.0</td>\n",
       "      <td>0.0</td>\n",
       "      <td>B</td>\n",
       "    </tr>\n",
       "    <tr>\n",
       "      <th>1595</th>\n",
       "      <td>1.0</td>\n",
       "      <td>1.0</td>\n",
       "      <td>1.0</td>\n",
       "      <td>0.0</td>\n",
       "      <td>0.0</td>\n",
       "      <td>0.0</td>\n",
       "      <td>1.0</td>\n",
       "      <td>1.0</td>\n",
       "      <td>0.0</td>\n",
       "      <td>0.0</td>\n",
       "      <td>0.0</td>\n",
       "      <td>B</td>\n",
       "    </tr>\n",
       "    <tr>\n",
       "      <th>1596</th>\n",
       "      <td>1.0</td>\n",
       "      <td>0.0</td>\n",
       "      <td>1.0</td>\n",
       "      <td>0.0</td>\n",
       "      <td>0.0</td>\n",
       "      <td>0.0</td>\n",
       "      <td>1.0</td>\n",
       "      <td>1.0</td>\n",
       "      <td>0.0</td>\n",
       "      <td>0.0</td>\n",
       "      <td>0.0</td>\n",
       "      <td>B</td>\n",
       "    </tr>\n",
       "    <tr>\n",
       "      <th>1597</th>\n",
       "      <td>1.0</td>\n",
       "      <td>1.0</td>\n",
       "      <td>1.0</td>\n",
       "      <td>0.0</td>\n",
       "      <td>0.0</td>\n",
       "      <td>0.0</td>\n",
       "      <td>1.0</td>\n",
       "      <td>1.0</td>\n",
       "      <td>0.0</td>\n",
       "      <td>0.0</td>\n",
       "      <td>0.0</td>\n",
       "      <td>B</td>\n",
       "    </tr>\n",
       "    <tr>\n",
       "      <th>1598</th>\n",
       "      <td>1.0</td>\n",
       "      <td>0.0</td>\n",
       "      <td>1.0</td>\n",
       "      <td>0.0</td>\n",
       "      <td>0.0</td>\n",
       "      <td>0.0</td>\n",
       "      <td>1.0</td>\n",
       "      <td>1.0</td>\n",
       "      <td>0.0</td>\n",
       "      <td>0.0</td>\n",
       "      <td>0.0</td>\n",
       "      <td>B</td>\n",
       "    </tr>\n",
       "  </tbody>\n",
       "</table>\n",
       "<p>1599 rows × 12 columns</p>\n",
       "</div>"
      ],
      "text/plain": [
       "      fixed acidity  volatile acidity  citric acid  residual sugar  chlorides  \\\n",
       "0               2.0               2.0          0.0             0.0        0.0   \n",
       "1               2.0               2.0          0.0             0.0        0.0   \n",
       "2               2.0               2.0          1.0             0.0        0.0   \n",
       "3               3.0               0.0          1.0             0.0        0.0   \n",
       "4               2.0               2.0          0.0             0.0        0.0   \n",
       "...             ...               ...          ...             ...        ...   \n",
       "1594            1.0               1.0          1.0             0.0        0.0   \n",
       "1595            1.0               1.0          1.0             0.0        0.0   \n",
       "1596            1.0               0.0          1.0             0.0        0.0   \n",
       "1597            1.0               1.0          1.0             0.0        0.0   \n",
       "1598            1.0               0.0          1.0             0.0        0.0   \n",
       "\n",
       "      free sulfur dioxide  total sulfur dioxide  density   pH  sulphates  \\\n",
       "0                     0.0                   1.0      1.0  0.0        1.0   \n",
       "1                     1.0                   1.0      1.0  0.0        0.0   \n",
       "2                     0.0                   1.0      1.0  0.0        0.0   \n",
       "3                     0.0                   1.0      1.0  0.0        0.0   \n",
       "4                     0.0                   1.0      1.0  0.0        1.0   \n",
       "...                   ...                   ...      ...  ...        ...   \n",
       "1594                  0.0                   1.0      1.0  0.0        0.0   \n",
       "1595                  0.0                   1.0      1.0  0.0        0.0   \n",
       "1596                  0.0                   1.0      1.0  0.0        0.0   \n",
       "1597                  0.0                   1.0      1.0  0.0        0.0   \n",
       "1598                  0.0                   1.0      1.0  0.0        0.0   \n",
       "\n",
       "      alcohol quality  \n",
       "0         0.0       B  \n",
       "1         0.0       B  \n",
       "2         0.0       B  \n",
       "3         0.0       B  \n",
       "4         0.0       B  \n",
       "...       ...     ...  \n",
       "1594      0.0       B  \n",
       "1595      0.0       B  \n",
       "1596      0.0       B  \n",
       "1597      0.0       B  \n",
       "1598      0.0       B  \n",
       "\n",
       "[1599 rows x 12 columns]"
      ]
     },
     "execution_count": 91,
     "metadata": {},
     "output_type": "execute_result"
    }
   ],
   "source": [
    "red_wine_df_2 = pd.read_csv(\"Red-Wine-Processed-with-Grades.csv\", delimiter = ',')\n",
    "red_wine_df_2"
   ]
  },
  {
   "cell_type": "code",
   "execution_count": 92,
   "id": "3e79d350",
   "metadata": {},
   "outputs": [
    {
     "data": {
      "text/html": [
       "<div>\n",
       "<style scoped>\n",
       "    .dataframe tbody tr th:only-of-type {\n",
       "        vertical-align: middle;\n",
       "    }\n",
       "\n",
       "    .dataframe tbody tr th {\n",
       "        vertical-align: top;\n",
       "    }\n",
       "\n",
       "    .dataframe thead th {\n",
       "        text-align: right;\n",
       "    }\n",
       "</style>\n",
       "<table border=\"1\" class=\"dataframe\">\n",
       "  <thead>\n",
       "    <tr style=\"text-align: right;\">\n",
       "      <th></th>\n",
       "      <th>fixed acidity</th>\n",
       "      <th>volatile acidity</th>\n",
       "      <th>citric acid</th>\n",
       "      <th>chlorides</th>\n",
       "      <th>free sulfur dioxide</th>\n",
       "      <th>total sulfur dioxide</th>\n",
       "      <th>pH</th>\n",
       "      <th>sulphates</th>\n",
       "      <th>alcohol</th>\n",
       "      <th>quality</th>\n",
       "    </tr>\n",
       "  </thead>\n",
       "  <tbody>\n",
       "    <tr>\n",
       "      <th>0</th>\n",
       "      <td>2.0</td>\n",
       "      <td>2.0</td>\n",
       "      <td>0.0</td>\n",
       "      <td>0.0</td>\n",
       "      <td>0.0</td>\n",
       "      <td>1.0</td>\n",
       "      <td>0.0</td>\n",
       "      <td>1.0</td>\n",
       "      <td>0.0</td>\n",
       "      <td>B</td>\n",
       "    </tr>\n",
       "    <tr>\n",
       "      <th>1</th>\n",
       "      <td>2.0</td>\n",
       "      <td>2.0</td>\n",
       "      <td>0.0</td>\n",
       "      <td>0.0</td>\n",
       "      <td>1.0</td>\n",
       "      <td>1.0</td>\n",
       "      <td>0.0</td>\n",
       "      <td>0.0</td>\n",
       "      <td>0.0</td>\n",
       "      <td>B</td>\n",
       "    </tr>\n",
       "    <tr>\n",
       "      <th>2</th>\n",
       "      <td>2.0</td>\n",
       "      <td>2.0</td>\n",
       "      <td>1.0</td>\n",
       "      <td>0.0</td>\n",
       "      <td>0.0</td>\n",
       "      <td>1.0</td>\n",
       "      <td>0.0</td>\n",
       "      <td>0.0</td>\n",
       "      <td>0.0</td>\n",
       "      <td>B</td>\n",
       "    </tr>\n",
       "    <tr>\n",
       "      <th>3</th>\n",
       "      <td>3.0</td>\n",
       "      <td>0.0</td>\n",
       "      <td>1.0</td>\n",
       "      <td>0.0</td>\n",
       "      <td>0.0</td>\n",
       "      <td>1.0</td>\n",
       "      <td>0.0</td>\n",
       "      <td>0.0</td>\n",
       "      <td>0.0</td>\n",
       "      <td>B</td>\n",
       "    </tr>\n",
       "    <tr>\n",
       "      <th>4</th>\n",
       "      <td>2.0</td>\n",
       "      <td>2.0</td>\n",
       "      <td>0.0</td>\n",
       "      <td>0.0</td>\n",
       "      <td>0.0</td>\n",
       "      <td>1.0</td>\n",
       "      <td>0.0</td>\n",
       "      <td>1.0</td>\n",
       "      <td>0.0</td>\n",
       "      <td>B</td>\n",
       "    </tr>\n",
       "    <tr>\n",
       "      <th>...</th>\n",
       "      <td>...</td>\n",
       "      <td>...</td>\n",
       "      <td>...</td>\n",
       "      <td>...</td>\n",
       "      <td>...</td>\n",
       "      <td>...</td>\n",
       "      <td>...</td>\n",
       "      <td>...</td>\n",
       "      <td>...</td>\n",
       "      <td>...</td>\n",
       "    </tr>\n",
       "    <tr>\n",
       "      <th>1594</th>\n",
       "      <td>1.0</td>\n",
       "      <td>1.0</td>\n",
       "      <td>1.0</td>\n",
       "      <td>0.0</td>\n",
       "      <td>0.0</td>\n",
       "      <td>1.0</td>\n",
       "      <td>0.0</td>\n",
       "      <td>0.0</td>\n",
       "      <td>0.0</td>\n",
       "      <td>B</td>\n",
       "    </tr>\n",
       "    <tr>\n",
       "      <th>1595</th>\n",
       "      <td>1.0</td>\n",
       "      <td>1.0</td>\n",
       "      <td>1.0</td>\n",
       "      <td>0.0</td>\n",
       "      <td>0.0</td>\n",
       "      <td>1.0</td>\n",
       "      <td>0.0</td>\n",
       "      <td>0.0</td>\n",
       "      <td>0.0</td>\n",
       "      <td>B</td>\n",
       "    </tr>\n",
       "    <tr>\n",
       "      <th>1596</th>\n",
       "      <td>1.0</td>\n",
       "      <td>0.0</td>\n",
       "      <td>1.0</td>\n",
       "      <td>0.0</td>\n",
       "      <td>0.0</td>\n",
       "      <td>1.0</td>\n",
       "      <td>0.0</td>\n",
       "      <td>0.0</td>\n",
       "      <td>0.0</td>\n",
       "      <td>B</td>\n",
       "    </tr>\n",
       "    <tr>\n",
       "      <th>1597</th>\n",
       "      <td>1.0</td>\n",
       "      <td>1.0</td>\n",
       "      <td>1.0</td>\n",
       "      <td>0.0</td>\n",
       "      <td>0.0</td>\n",
       "      <td>1.0</td>\n",
       "      <td>0.0</td>\n",
       "      <td>0.0</td>\n",
       "      <td>0.0</td>\n",
       "      <td>B</td>\n",
       "    </tr>\n",
       "    <tr>\n",
       "      <th>1598</th>\n",
       "      <td>1.0</td>\n",
       "      <td>0.0</td>\n",
       "      <td>1.0</td>\n",
       "      <td>0.0</td>\n",
       "      <td>0.0</td>\n",
       "      <td>1.0</td>\n",
       "      <td>0.0</td>\n",
       "      <td>0.0</td>\n",
       "      <td>0.0</td>\n",
       "      <td>B</td>\n",
       "    </tr>\n",
       "  </tbody>\n",
       "</table>\n",
       "<p>1599 rows × 10 columns</p>\n",
       "</div>"
      ],
      "text/plain": [
       "      fixed acidity  volatile acidity  citric acid  chlorides  \\\n",
       "0               2.0               2.0          0.0        0.0   \n",
       "1               2.0               2.0          0.0        0.0   \n",
       "2               2.0               2.0          1.0        0.0   \n",
       "3               3.0               0.0          1.0        0.0   \n",
       "4               2.0               2.0          0.0        0.0   \n",
       "...             ...               ...          ...        ...   \n",
       "1594            1.0               1.0          1.0        0.0   \n",
       "1595            1.0               1.0          1.0        0.0   \n",
       "1596            1.0               0.0          1.0        0.0   \n",
       "1597            1.0               1.0          1.0        0.0   \n",
       "1598            1.0               0.0          1.0        0.0   \n",
       "\n",
       "      free sulfur dioxide  total sulfur dioxide   pH  sulphates  alcohol  \\\n",
       "0                     0.0                   1.0  0.0        1.0      0.0   \n",
       "1                     1.0                   1.0  0.0        0.0      0.0   \n",
       "2                     0.0                   1.0  0.0        0.0      0.0   \n",
       "3                     0.0                   1.0  0.0        0.0      0.0   \n",
       "4                     0.0                   1.0  0.0        1.0      0.0   \n",
       "...                   ...                   ...  ...        ...      ...   \n",
       "1594                  0.0                   1.0  0.0        0.0      0.0   \n",
       "1595                  0.0                   1.0  0.0        0.0      0.0   \n",
       "1596                  0.0                   1.0  0.0        0.0      0.0   \n",
       "1597                  0.0                   1.0  0.0        0.0      0.0   \n",
       "1598                  0.0                   1.0  0.0        0.0      0.0   \n",
       "\n",
       "     quality  \n",
       "0          B  \n",
       "1          B  \n",
       "2          B  \n",
       "3          B  \n",
       "4          B  \n",
       "...      ...  \n",
       "1594       B  \n",
       "1595       B  \n",
       "1596       B  \n",
       "1597       B  \n",
       "1598       B  \n",
       "\n",
       "[1599 rows x 10 columns]"
      ]
     },
     "execution_count": 92,
     "metadata": {},
     "output_type": "execute_result"
    }
   ],
   "source": [
    "# since each sample in 3rd column fell under same category; 3rd column ('residual sugar') is redundant. \n",
    "# since each sample in 7th column fell under same category; 7th column ('density') is also redundant.\n",
    "\n",
    "red_wine_df_2 = red_wine_df_2.drop(axis = 1 , columns = ['residual sugar', 'density'])\n",
    "red_wine_df_2"
   ]
  },
  {
   "cell_type": "code",
   "execution_count": 93,
   "id": "1453c486",
   "metadata": {},
   "outputs": [
    {
     "data": {
      "text/html": [
       "<div>\n",
       "<style scoped>\n",
       "    .dataframe tbody tr th:only-of-type {\n",
       "        vertical-align: middle;\n",
       "    }\n",
       "\n",
       "    .dataframe tbody tr th {\n",
       "        vertical-align: top;\n",
       "    }\n",
       "\n",
       "    .dataframe thead th {\n",
       "        text-align: right;\n",
       "    }\n",
       "</style>\n",
       "<table border=\"1\" class=\"dataframe\">\n",
       "  <thead>\n",
       "    <tr style=\"text-align: right;\">\n",
       "      <th></th>\n",
       "      <th>Fixed Acidity</th>\n",
       "      <th>Volatile Acidity</th>\n",
       "      <th>Citric Acid</th>\n",
       "      <th>Chlorides</th>\n",
       "      <th>Free SO2</th>\n",
       "      <th>Total SO2</th>\n",
       "      <th>pH</th>\n",
       "      <th>Sulphates</th>\n",
       "      <th>Alcohol</th>\n",
       "      <th>Quality Grade</th>\n",
       "    </tr>\n",
       "  </thead>\n",
       "  <tbody>\n",
       "    <tr>\n",
       "      <th>0</th>\n",
       "      <td>2.0</td>\n",
       "      <td>2.0</td>\n",
       "      <td>0.0</td>\n",
       "      <td>0.0</td>\n",
       "      <td>0.0</td>\n",
       "      <td>1.0</td>\n",
       "      <td>0.0</td>\n",
       "      <td>1.0</td>\n",
       "      <td>0.0</td>\n",
       "      <td>B</td>\n",
       "    </tr>\n",
       "    <tr>\n",
       "      <th>1</th>\n",
       "      <td>2.0</td>\n",
       "      <td>2.0</td>\n",
       "      <td>0.0</td>\n",
       "      <td>0.0</td>\n",
       "      <td>1.0</td>\n",
       "      <td>1.0</td>\n",
       "      <td>0.0</td>\n",
       "      <td>0.0</td>\n",
       "      <td>0.0</td>\n",
       "      <td>B</td>\n",
       "    </tr>\n",
       "    <tr>\n",
       "      <th>2</th>\n",
       "      <td>2.0</td>\n",
       "      <td>2.0</td>\n",
       "      <td>1.0</td>\n",
       "      <td>0.0</td>\n",
       "      <td>0.0</td>\n",
       "      <td>1.0</td>\n",
       "      <td>0.0</td>\n",
       "      <td>0.0</td>\n",
       "      <td>0.0</td>\n",
       "      <td>B</td>\n",
       "    </tr>\n",
       "    <tr>\n",
       "      <th>3</th>\n",
       "      <td>3.0</td>\n",
       "      <td>0.0</td>\n",
       "      <td>1.0</td>\n",
       "      <td>0.0</td>\n",
       "      <td>0.0</td>\n",
       "      <td>1.0</td>\n",
       "      <td>0.0</td>\n",
       "      <td>0.0</td>\n",
       "      <td>0.0</td>\n",
       "      <td>B</td>\n",
       "    </tr>\n",
       "    <tr>\n",
       "      <th>4</th>\n",
       "      <td>2.0</td>\n",
       "      <td>2.0</td>\n",
       "      <td>0.0</td>\n",
       "      <td>0.0</td>\n",
       "      <td>0.0</td>\n",
       "      <td>1.0</td>\n",
       "      <td>0.0</td>\n",
       "      <td>1.0</td>\n",
       "      <td>0.0</td>\n",
       "      <td>B</td>\n",
       "    </tr>\n",
       "    <tr>\n",
       "      <th>...</th>\n",
       "      <td>...</td>\n",
       "      <td>...</td>\n",
       "      <td>...</td>\n",
       "      <td>...</td>\n",
       "      <td>...</td>\n",
       "      <td>...</td>\n",
       "      <td>...</td>\n",
       "      <td>...</td>\n",
       "      <td>...</td>\n",
       "      <td>...</td>\n",
       "    </tr>\n",
       "    <tr>\n",
       "      <th>1594</th>\n",
       "      <td>1.0</td>\n",
       "      <td>1.0</td>\n",
       "      <td>1.0</td>\n",
       "      <td>0.0</td>\n",
       "      <td>0.0</td>\n",
       "      <td>1.0</td>\n",
       "      <td>0.0</td>\n",
       "      <td>0.0</td>\n",
       "      <td>0.0</td>\n",
       "      <td>B</td>\n",
       "    </tr>\n",
       "    <tr>\n",
       "      <th>1595</th>\n",
       "      <td>1.0</td>\n",
       "      <td>1.0</td>\n",
       "      <td>1.0</td>\n",
       "      <td>0.0</td>\n",
       "      <td>0.0</td>\n",
       "      <td>1.0</td>\n",
       "      <td>0.0</td>\n",
       "      <td>0.0</td>\n",
       "      <td>0.0</td>\n",
       "      <td>B</td>\n",
       "    </tr>\n",
       "    <tr>\n",
       "      <th>1596</th>\n",
       "      <td>1.0</td>\n",
       "      <td>0.0</td>\n",
       "      <td>1.0</td>\n",
       "      <td>0.0</td>\n",
       "      <td>0.0</td>\n",
       "      <td>1.0</td>\n",
       "      <td>0.0</td>\n",
       "      <td>0.0</td>\n",
       "      <td>0.0</td>\n",
       "      <td>B</td>\n",
       "    </tr>\n",
       "    <tr>\n",
       "      <th>1597</th>\n",
       "      <td>1.0</td>\n",
       "      <td>1.0</td>\n",
       "      <td>1.0</td>\n",
       "      <td>0.0</td>\n",
       "      <td>0.0</td>\n",
       "      <td>1.0</td>\n",
       "      <td>0.0</td>\n",
       "      <td>0.0</td>\n",
       "      <td>0.0</td>\n",
       "      <td>B</td>\n",
       "    </tr>\n",
       "    <tr>\n",
       "      <th>1598</th>\n",
       "      <td>1.0</td>\n",
       "      <td>0.0</td>\n",
       "      <td>1.0</td>\n",
       "      <td>0.0</td>\n",
       "      <td>0.0</td>\n",
       "      <td>1.0</td>\n",
       "      <td>0.0</td>\n",
       "      <td>0.0</td>\n",
       "      <td>0.0</td>\n",
       "      <td>B</td>\n",
       "    </tr>\n",
       "  </tbody>\n",
       "</table>\n",
       "<p>1599 rows × 10 columns</p>\n",
       "</div>"
      ],
      "text/plain": [
       "      Fixed Acidity  Volatile Acidity  Citric Acid  Chlorides  Free SO2  \\\n",
       "0               2.0               2.0          0.0        0.0       0.0   \n",
       "1               2.0               2.0          0.0        0.0       1.0   \n",
       "2               2.0               2.0          1.0        0.0       0.0   \n",
       "3               3.0               0.0          1.0        0.0       0.0   \n",
       "4               2.0               2.0          0.0        0.0       0.0   \n",
       "...             ...               ...          ...        ...       ...   \n",
       "1594            1.0               1.0          1.0        0.0       0.0   \n",
       "1595            1.0               1.0          1.0        0.0       0.0   \n",
       "1596            1.0               0.0          1.0        0.0       0.0   \n",
       "1597            1.0               1.0          1.0        0.0       0.0   \n",
       "1598            1.0               0.0          1.0        0.0       0.0   \n",
       "\n",
       "      Total SO2   pH  Sulphates  Alcohol Quality Grade  \n",
       "0           1.0  0.0        1.0      0.0             B  \n",
       "1           1.0  0.0        0.0      0.0             B  \n",
       "2           1.0  0.0        0.0      0.0             B  \n",
       "3           1.0  0.0        0.0      0.0             B  \n",
       "4           1.0  0.0        1.0      0.0             B  \n",
       "...         ...  ...        ...      ...           ...  \n",
       "1594        1.0  0.0        0.0      0.0             B  \n",
       "1595        1.0  0.0        0.0      0.0             B  \n",
       "1596        1.0  0.0        0.0      0.0             B  \n",
       "1597        1.0  0.0        0.0      0.0             B  \n",
       "1598        1.0  0.0        0.0      0.0             B  \n",
       "\n",
       "[1599 rows x 10 columns]"
      ]
     },
     "execution_count": 93,
     "metadata": {},
     "output_type": "execute_result"
    }
   ],
   "source": [
    "red_wine_df_2 = red_wine_df_2.rename(columns = {\"fixed acidity\": \"Fixed Acidity\", \n",
    "                                                \"volatile acidity\": \"Volatile Acidity\",\n",
    "                                                \"citric acid\": \"Citric Acid\", \n",
    "                                                \"chlorides\": \"Chlorides\", \n",
    "                                                \"free sulfur dioxide\": \"Free SO2\",\n",
    "                                                \"total sulfur dioxide\": \"Total SO2\", \n",
    "                                                \"pH\": \"pH\", \n",
    "                                                \"sulphates\": \"Sulphates\",\n",
    "                                                \"alcohol\": \"Alcohol\", \n",
    "                                                \"quality\": \"Quality Grade\"})\n",
    "red_wine_df_2"
   ]
  },
  {
   "cell_type": "code",
   "execution_count": 94,
   "id": "a91d2c52",
   "metadata": {},
   "outputs": [
    {
     "data": {
      "text/html": [
       "<div>\n",
       "<style scoped>\n",
       "    .dataframe tbody tr th:only-of-type {\n",
       "        vertical-align: middle;\n",
       "    }\n",
       "\n",
       "    .dataframe tbody tr th {\n",
       "        vertical-align: top;\n",
       "    }\n",
       "\n",
       "    .dataframe thead th {\n",
       "        text-align: right;\n",
       "    }\n",
       "</style>\n",
       "<table border=\"1\" class=\"dataframe\">\n",
       "  <thead>\n",
       "    <tr style=\"text-align: right;\">\n",
       "      <th></th>\n",
       "      <th>Fixed Acidity</th>\n",
       "      <th>Volatile Acidity</th>\n",
       "      <th>Citric Acid</th>\n",
       "      <th>Chlorides</th>\n",
       "      <th>Free SO2</th>\n",
       "      <th>Total SO2</th>\n",
       "      <th>pH</th>\n",
       "      <th>Sulphates</th>\n",
       "      <th>Alcohol</th>\n",
       "      <th>Quality Grade</th>\n",
       "    </tr>\n",
       "  </thead>\n",
       "  <tbody>\n",
       "    <tr>\n",
       "      <th>828</th>\n",
       "      <td>2.0</td>\n",
       "      <td>1.0</td>\n",
       "      <td>1.0</td>\n",
       "      <td>0.0</td>\n",
       "      <td>0.0</td>\n",
       "      <td>1.0</td>\n",
       "      <td>0.0</td>\n",
       "      <td>0.0</td>\n",
       "      <td>2.0</td>\n",
       "      <td>A</td>\n",
       "    </tr>\n",
       "    <tr>\n",
       "      <th>481</th>\n",
       "      <td>3.0</td>\n",
       "      <td>0.0</td>\n",
       "      <td>1.0</td>\n",
       "      <td>0.0</td>\n",
       "      <td>0.0</td>\n",
       "      <td>1.0</td>\n",
       "      <td>0.0</td>\n",
       "      <td>0.0</td>\n",
       "      <td>1.0</td>\n",
       "      <td>A</td>\n",
       "    </tr>\n",
       "    <tr>\n",
       "      <th>455</th>\n",
       "      <td>3.0</td>\n",
       "      <td>1.0</td>\n",
       "      <td>1.0</td>\n",
       "      <td>0.0</td>\n",
       "      <td>0.0</td>\n",
       "      <td>1.0</td>\n",
       "      <td>0.0</td>\n",
       "      <td>0.0</td>\n",
       "      <td>2.0</td>\n",
       "      <td>A</td>\n",
       "    </tr>\n",
       "    <tr>\n",
       "      <th>440</th>\n",
       "      <td>4.0</td>\n",
       "      <td>0.0</td>\n",
       "      <td>1.0</td>\n",
       "      <td>0.0</td>\n",
       "      <td>0.0</td>\n",
       "      <td>1.0</td>\n",
       "      <td>0.0</td>\n",
       "      <td>0.0</td>\n",
       "      <td>0.0</td>\n",
       "      <td>A</td>\n",
       "    </tr>\n",
       "    <tr>\n",
       "      <th>278</th>\n",
       "      <td>3.0</td>\n",
       "      <td>0.0</td>\n",
       "      <td>1.0</td>\n",
       "      <td>0.0</td>\n",
       "      <td>0.0</td>\n",
       "      <td>1.0</td>\n",
       "      <td>0.0</td>\n",
       "      <td>0.0</td>\n",
       "      <td>2.0</td>\n",
       "      <td>A</td>\n",
       "    </tr>\n",
       "    <tr>\n",
       "      <th>...</th>\n",
       "      <td>...</td>\n",
       "      <td>...</td>\n",
       "      <td>...</td>\n",
       "      <td>...</td>\n",
       "      <td>...</td>\n",
       "      <td>...</td>\n",
       "      <td>...</td>\n",
       "      <td>...</td>\n",
       "      <td>...</td>\n",
       "      <td>...</td>\n",
       "    </tr>\n",
       "    <tr>\n",
       "      <th>1478</th>\n",
       "      <td>2.0</td>\n",
       "      <td>2.0</td>\n",
       "      <td>1.0</td>\n",
       "      <td>0.0</td>\n",
       "      <td>0.0</td>\n",
       "      <td>1.0</td>\n",
       "      <td>0.0</td>\n",
       "      <td>1.0</td>\n",
       "      <td>0.0</td>\n",
       "      <td>C</td>\n",
       "    </tr>\n",
       "    <tr>\n",
       "      <th>1374</th>\n",
       "      <td>1.0</td>\n",
       "      <td>2.0</td>\n",
       "      <td>0.0</td>\n",
       "      <td>1.0</td>\n",
       "      <td>0.0</td>\n",
       "      <td>1.0</td>\n",
       "      <td>0.0</td>\n",
       "      <td>1.0</td>\n",
       "      <td>0.0</td>\n",
       "      <td>C</td>\n",
       "    </tr>\n",
       "    <tr>\n",
       "      <th>832</th>\n",
       "      <td>3.0</td>\n",
       "      <td>0.0</td>\n",
       "      <td>1.0</td>\n",
       "      <td>0.0</td>\n",
       "      <td>0.0</td>\n",
       "      <td>1.0</td>\n",
       "      <td>0.0</td>\n",
       "      <td>0.0</td>\n",
       "      <td>0.0</td>\n",
       "      <td>C</td>\n",
       "    </tr>\n",
       "    <tr>\n",
       "      <th>690</th>\n",
       "      <td>2.0</td>\n",
       "      <td>2.0</td>\n",
       "      <td>0.0</td>\n",
       "      <td>0.0</td>\n",
       "      <td>0.0</td>\n",
       "      <td>1.0</td>\n",
       "      <td>0.0</td>\n",
       "      <td>1.0</td>\n",
       "      <td>0.0</td>\n",
       "      <td>C</td>\n",
       "    </tr>\n",
       "    <tr>\n",
       "      <th>1299</th>\n",
       "      <td>2.0</td>\n",
       "      <td>2.0</td>\n",
       "      <td>0.0</td>\n",
       "      <td>0.0</td>\n",
       "      <td>0.0</td>\n",
       "      <td>1.0</td>\n",
       "      <td>0.0</td>\n",
       "      <td>0.0</td>\n",
       "      <td>0.0</td>\n",
       "      <td>C</td>\n",
       "    </tr>\n",
       "  </tbody>\n",
       "</table>\n",
       "<p>1599 rows × 10 columns</p>\n",
       "</div>"
      ],
      "text/plain": [
       "      Fixed Acidity  Volatile Acidity  Citric Acid  Chlorides  Free SO2  \\\n",
       "828             2.0               1.0          1.0        0.0       0.0   \n",
       "481             3.0               0.0          1.0        0.0       0.0   \n",
       "455             3.0               1.0          1.0        0.0       0.0   \n",
       "440             4.0               0.0          1.0        0.0       0.0   \n",
       "278             3.0               0.0          1.0        0.0       0.0   \n",
       "...             ...               ...          ...        ...       ...   \n",
       "1478            2.0               2.0          1.0        0.0       0.0   \n",
       "1374            1.0               2.0          0.0        1.0       0.0   \n",
       "832             3.0               0.0          1.0        0.0       0.0   \n",
       "690             2.0               2.0          0.0        0.0       0.0   \n",
       "1299            2.0               2.0          0.0        0.0       0.0   \n",
       "\n",
       "      Total SO2   pH  Sulphates  Alcohol Quality Grade  \n",
       "828         1.0  0.0        0.0      2.0             A  \n",
       "481         1.0  0.0        0.0      1.0             A  \n",
       "455         1.0  0.0        0.0      2.0             A  \n",
       "440         1.0  0.0        0.0      0.0             A  \n",
       "278         1.0  0.0        0.0      2.0             A  \n",
       "...         ...  ...        ...      ...           ...  \n",
       "1478        1.0  0.0        1.0      0.0             C  \n",
       "1374        1.0  0.0        1.0      0.0             C  \n",
       "832         1.0  0.0        0.0      0.0             C  \n",
       "690         1.0  0.0        1.0      0.0             C  \n",
       "1299        1.0  0.0        0.0      0.0             C  \n",
       "\n",
       "[1599 rows x 10 columns]"
      ]
     },
     "execution_count": 94,
     "metadata": {},
     "output_type": "execute_result"
    }
   ],
   "source": [
    "red_wine_df_2 = red_wine_df_2.sort_values('Quality Grade')\n",
    "red_wine_df_2"
   ]
  },
  {
   "cell_type": "code",
   "execution_count": 95,
   "id": "de3f8bf6",
   "metadata": {},
   "outputs": [],
   "source": [
    "red_wine_df_2.to_csv(\"Red-Wine-Preprocessed-Version-2.csv\", sep = ',', index = False)"
   ]
  },
  {
   "cell_type": "code",
   "execution_count": 96,
   "id": "5a04151a",
   "metadata": {},
   "outputs": [],
   "source": [
    "# fractioning the main table based on gquality classification\n",
    "\n",
    "redwine_quality_A = red_wine_df_2[red_wine_df_2['Quality Grade'] == 'A']\n",
    "redwine_quality_B = red_wine_df_2[red_wine_df_2['Quality Grade'] == 'B']\n",
    "redwine_quality_C = red_wine_df_2[red_wine_df_2['Quality Grade'] == 'C']"
   ]
  },
  {
   "cell_type": "code",
   "execution_count": 97,
   "id": "42160745",
   "metadata": {},
   "outputs": [
    {
     "data": {
      "text/plain": [
       "1599"
      ]
     },
     "execution_count": 97,
     "metadata": {},
     "output_type": "execute_result"
    }
   ],
   "source": [
    "# verifying that newly created tables (see above) are structurally consistent with the main table\n",
    "\n",
    "redwine_quality_A.shape[0] + redwine_quality_B.shape[0] + redwine_quality_C.shape[0]"
   ]
  },
  {
   "cell_type": "code",
   "execution_count": 98,
   "id": "0a4c6409",
   "metadata": {},
   "outputs": [],
   "source": [
    "redwine_quality_A.to_csv(\"A-Grade-Red-Wine-Preprocessed.csv\", sep = ',', index = False)\n",
    "redwine_quality_B.to_csv(\"B-Grade-Red-Wine-Preprocessed.csv\", sep = ',', index = False)\n",
    "redwine_quality_C.to_csv(\"C-Grade-Red-Wine-Preprocessed.csv\", sep = ',', index = False)"
   ]
  },
  {
   "cell_type": "code",
   "execution_count": 99,
   "id": "1c8e53f6",
   "metadata": {},
   "outputs": [
    {
     "data": {
      "text/plain": [
       "array([[ 7.4  ,  0.7  ,  0.   , ...,  0.56 ,  9.4  ,  5.   ],\n",
       "       [ 7.8  ,  0.88 ,  0.   , ...,  0.68 ,  9.8  ,  5.   ],\n",
       "       [ 7.8  ,  0.76 ,  0.04 , ...,  0.65 ,  9.8  ,  5.   ],\n",
       "       ...,\n",
       "       [ 6.3  ,  0.51 ,  0.13 , ...,  0.75 , 11.   ,  6.   ],\n",
       "       [ 5.9  ,  0.645,  0.12 , ...,  0.71 , 10.2  ,  5.   ],\n",
       "       [ 6.   ,  0.31 ,  0.47 , ...,  0.66 , 11.   ,  6.   ]])"
      ]
     },
     "execution_count": 99,
     "metadata": {},
     "output_type": "execute_result"
    }
   ],
   "source": [
    "raw_redwine_2 = np.genfromtxt(\"winequality-red.csv\", delimiter = ';', skip_header = 1)\n",
    "raw_redwine_2"
   ]
  },
  {
   "cell_type": "code",
   "execution_count": 100,
   "id": "4bca6e9b",
   "metadata": {},
   "outputs": [],
   "source": [
    "raw_redwine_2[:,-1] = np.where(np.isin(raw_redwine_2[:,-1], low_quality), 0, raw_redwine_2[:,-1])"
   ]
  },
  {
   "cell_type": "code",
   "execution_count": 101,
   "id": "3ab8388a",
   "metadata": {},
   "outputs": [],
   "source": [
    "raw_redwine_2[:,-1] = np.where(np.isin(raw_redwine_2[:,-1], avg_quality), 1, raw_redwine_2[:,-1])"
   ]
  },
  {
   "cell_type": "code",
   "execution_count": 102,
   "id": "7184bb32",
   "metadata": {},
   "outputs": [],
   "source": [
    "raw_redwine_2[:,-1] = np.where(np.isin(raw_redwine_2[:,-1], high_quality), 2, raw_redwine_2[:,-1])"
   ]
  },
  {
   "cell_type": "code",
   "execution_count": 103,
   "id": "3058bd2b",
   "metadata": {},
   "outputs": [
    {
     "data": {
      "text/plain": [
       "array([0., 1., 2.])"
      ]
     },
     "execution_count": 103,
     "metadata": {},
     "output_type": "execute_result"
    }
   ],
   "source": [
    "np.unique(raw_redwine_2[:,-1])"
   ]
  },
  {
   "cell_type": "code",
   "execution_count": 104,
   "id": "d39b8b8d",
   "metadata": {},
   "outputs": [
    {
     "data": {
      "text/plain": [
       "array([['\"fixed acidity\"', '\"volatile acidity\"', '\"citric acid\"', ..., '\"sulphates\"', '\"alcohol\"',\n",
       "        '\"quality\"'],\n",
       "       ['7.4', '0.7', '0.0', ..., '0.56', '9.4', '1.0'],\n",
       "       ['7.8', '0.88', '0.0', ..., '0.68', '9.8', '1.0'],\n",
       "       ...,\n",
       "       ['6.3', '0.51', '0.13', ..., '0.75', '11.0', '1.0'],\n",
       "       ['5.9', '0.645', '0.12', ..., '0.71', '10.2', '1.0'],\n",
       "       ['6.0', '0.31', '0.47', ..., '0.66', '11.0', '1.0']], dtype='<U32')"
      ]
     },
     "execution_count": 104,
     "metadata": {},
     "output_type": "execute_result"
    }
   ],
   "source": [
    "raw_redwine_df = np.vstack((header_red, raw_redwine_2))\n",
    "raw_redwine_df"
   ]
  },
  {
   "cell_type": "code",
   "execution_count": 105,
   "id": "5e43587e",
   "metadata": {},
   "outputs": [],
   "source": [
    "raw_redwine_df[:,-1] = np.where(np.isin(raw_redwine_df[:,-1], grade_A), 'A', raw_redwine_df[:,-1])"
   ]
  },
  {
   "cell_type": "code",
   "execution_count": 106,
   "id": "dab0d31a",
   "metadata": {},
   "outputs": [],
   "source": [
    "raw_redwine_df[:,-1] = np.where(np.isin(raw_redwine_df[:,-1], grade_B), 'B', raw_redwine_df[:,-1])"
   ]
  },
  {
   "cell_type": "code",
   "execution_count": 107,
   "id": "f9d255a8",
   "metadata": {},
   "outputs": [],
   "source": [
    "raw_redwine_df[:,-1] = np.where(np.isin(raw_redwine_df[:,-1], grade_C), 'C', raw_redwine_df[:,-1])"
   ]
  },
  {
   "cell_type": "code",
   "execution_count": 108,
   "id": "712723ce",
   "metadata": {},
   "outputs": [
    {
     "data": {
      "text/plain": [
       "array(['\"quality\"', 'A', 'B', 'C'], dtype='<U32')"
      ]
     },
     "execution_count": 108,
     "metadata": {},
     "output_type": "execute_result"
    }
   ],
   "source": [
    "np.unique(raw_redwine_df[:,-1])"
   ]
  },
  {
   "cell_type": "code",
   "execution_count": 109,
   "id": "81933b3c",
   "metadata": {},
   "outputs": [],
   "source": [
    "np.savetxt(\"Raw-Red-Wine-w-Grades.csv\", raw_redwine_df, fmt = '%s', delimiter = ',')"
   ]
  },
  {
   "cell_type": "code",
   "execution_count": null,
   "id": "02303775",
   "metadata": {},
   "outputs": [],
   "source": []
  }
 ],
 "metadata": {
  "kernelspec": {
   "display_name": "Python 3 (ipykernel)",
   "language": "python",
   "name": "python3"
  },
  "language_info": {
   "codemirror_mode": {
    "name": "ipython",
    "version": 3
   },
   "file_extension": ".py",
   "mimetype": "text/x-python",
   "name": "python",
   "nbconvert_exporter": "python",
   "pygments_lexer": "ipython3",
   "version": "3.11.5"
  }
 },
 "nbformat": 4,
 "nbformat_minor": 5
}
